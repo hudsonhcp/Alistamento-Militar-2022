{
 "cells": [
  {
   "cell_type": "code",
   "execution_count": 1,
   "id": "91baa52d",
   "metadata": {},
   "outputs": [],
   "source": [
    "import pandas as pd\n",
    "import matplotlib.pyplot as plt"
   ]
  },
  {
   "cell_type": "code",
   "execution_count": 2,
   "id": "d4b49f89",
   "metadata": {},
   "outputs": [],
   "source": [
    "df = pd.read_csv('alistamento_militar_2022.csv')"
   ]
  },
  {
   "cell_type": "code",
   "execution_count": 3,
   "id": "04917eb6",
   "metadata": {
    "scrolled": true
   },
   "outputs": [
    {
     "name": "stdout",
     "output_type": "stream",
     "text": [
      "<class 'pandas.core.frame.DataFrame'>\n",
      "RangeIndex: 300914 entries, 0 to 300913\n",
      "Data columns (total 22 columns):\n",
      " #   Column            Non-Null Count   Dtype  \n",
      "---  ------            --------------   -----  \n",
      " 0   Unnamed: 0        300914 non-null  int64  \n",
      " 1   ANO_NASCIMENTO    300914 non-null  int64  \n",
      " 2   PESO              300914 non-null  float64\n",
      " 3   ALTURA            300914 non-null  float64\n",
      " 4   CABECA            300914 non-null  float64\n",
      " 5   CALCADO           300914 non-null  float64\n",
      " 6   CINTURA           300914 non-null  float64\n",
      " 7   MUN_NASCIMENTO    300914 non-null  object \n",
      " 8   UF_NASCIMENTO     300914 non-null  object \n",
      " 9   PAIS_NASCIMENTO   300914 non-null  object \n",
      " 10  ESTADO_CIVIL      300914 non-null  object \n",
      " 11  SEXO              300914 non-null  object \n",
      " 12  ESCOLARIDADE      300914 non-null  object \n",
      " 13  VINCULACAO_ANO    300914 non-null  int64  \n",
      " 14  DISPENSA          300914 non-null  object \n",
      " 15  ZONA_RESIDENCIAL  300914 non-null  object \n",
      " 16  MUN_RESIDENCIA    300914 non-null  object \n",
      " 17  UF_RESIDENCIA     300914 non-null  object \n",
      " 18  PAIS_RESIDENCIA   300914 non-null  object \n",
      " 19  JSM               300914 non-null  object \n",
      " 20  MUN_JSM           300914 non-null  object \n",
      " 21  UF_JSM            300914 non-null  object \n",
      "dtypes: float64(5), int64(3), object(14)\n",
      "memory usage: 50.5+ MB\n"
     ]
    }
   ],
   "source": [
    "df.info()"
   ]
  },
  {
   "cell_type": "code",
   "execution_count": 4,
   "id": "2694e387",
   "metadata": {},
   "outputs": [
    {
     "data": {
      "text/html": [
       "<div>\n",
       "<style scoped>\n",
       "    .dataframe tbody tr th:only-of-type {\n",
       "        vertical-align: middle;\n",
       "    }\n",
       "\n",
       "    .dataframe tbody tr th {\n",
       "        vertical-align: top;\n",
       "    }\n",
       "\n",
       "    .dataframe thead th {\n",
       "        text-align: right;\n",
       "    }\n",
       "</style>\n",
       "<table border=\"1\" class=\"dataframe\">\n",
       "  <thead>\n",
       "    <tr style=\"text-align: right;\">\n",
       "      <th></th>\n",
       "      <th>Unnamed: 0</th>\n",
       "      <th>ANO_NASCIMENTO</th>\n",
       "      <th>PESO</th>\n",
       "      <th>ALTURA</th>\n",
       "      <th>CABECA</th>\n",
       "      <th>CALCADO</th>\n",
       "      <th>CINTURA</th>\n",
       "      <th>MUN_NASCIMENTO</th>\n",
       "      <th>UF_NASCIMENTO</th>\n",
       "      <th>PAIS_NASCIMENTO</th>\n",
       "      <th>...</th>\n",
       "      <th>ESCOLARIDADE</th>\n",
       "      <th>VINCULACAO_ANO</th>\n",
       "      <th>DISPENSA</th>\n",
       "      <th>ZONA_RESIDENCIAL</th>\n",
       "      <th>MUN_RESIDENCIA</th>\n",
       "      <th>UF_RESIDENCIA</th>\n",
       "      <th>PAIS_RESIDENCIA</th>\n",
       "      <th>JSM</th>\n",
       "      <th>MUN_JSM</th>\n",
       "      <th>UF_JSM</th>\n",
       "    </tr>\n",
       "  </thead>\n",
       "  <tbody>\n",
       "    <tr>\n",
       "      <th>0</th>\n",
       "      <td>1</td>\n",
       "      <td>1995</td>\n",
       "      <td>79.0</td>\n",
       "      <td>181.0</td>\n",
       "      <td>56.0</td>\n",
       "      <td>41.0</td>\n",
       "      <td>88.0</td>\n",
       "      <td>PALMEIRA DAS MISSOES</td>\n",
       "      <td>RS</td>\n",
       "      <td>BRASIL</td>\n",
       "      <td>...</td>\n",
       "      <td>Ensino Médio Completo</td>\n",
       "      <td>2022</td>\n",
       "      <td>Com dispensa</td>\n",
       "      <td>Urbana</td>\n",
       "      <td>CANOAS</td>\n",
       "      <td>RS</td>\n",
       "      <td>BRASIL</td>\n",
       "      <td>10/52 - PALMEIRA DAS MISSOES</td>\n",
       "      <td>PALMEIRA DAS MISSOES</td>\n",
       "      <td>RS</td>\n",
       "    </tr>\n",
       "    <tr>\n",
       "      <th>1</th>\n",
       "      <td>2</td>\n",
       "      <td>1974</td>\n",
       "      <td>64.0</td>\n",
       "      <td>165.0</td>\n",
       "      <td>58.0</td>\n",
       "      <td>38.0</td>\n",
       "      <td>75.0</td>\n",
       "      <td>PORTO ALEGRE</td>\n",
       "      <td>RS</td>\n",
       "      <td>BRASIL</td>\n",
       "      <td>...</td>\n",
       "      <td>7° Ano - Ensino Fundamental</td>\n",
       "      <td>2022</td>\n",
       "      <td>Com dispensa</td>\n",
       "      <td>Urbana</td>\n",
       "      <td>ITAJAI</td>\n",
       "      <td>SC</td>\n",
       "      <td>BRASIL</td>\n",
       "      <td>16/28 - ITAJAI</td>\n",
       "      <td>ITAJAI</td>\n",
       "      <td>SC</td>\n",
       "    </tr>\n",
       "    <tr>\n",
       "      <th>2</th>\n",
       "      <td>3</td>\n",
       "      <td>1998</td>\n",
       "      <td>55.0</td>\n",
       "      <td>180.0</td>\n",
       "      <td>53.0</td>\n",
       "      <td>41.0</td>\n",
       "      <td>74.0</td>\n",
       "      <td>JANDIRA</td>\n",
       "      <td>SP</td>\n",
       "      <td>BRASIL</td>\n",
       "      <td>...</td>\n",
       "      <td>Ensino Médio Completo</td>\n",
       "      <td>2022</td>\n",
       "      <td>Com dispensa</td>\n",
       "      <td>Urbana</td>\n",
       "      <td>SERTAOZINHO</td>\n",
       "      <td>SP</td>\n",
       "      <td>BRASIL</td>\n",
       "      <td>5/123 - SERTAOZINHO</td>\n",
       "      <td>SERTAOZINHO</td>\n",
       "      <td>SP</td>\n",
       "    </tr>\n",
       "    <tr>\n",
       "      <th>3</th>\n",
       "      <td>4</td>\n",
       "      <td>1999</td>\n",
       "      <td>76.0</td>\n",
       "      <td>186.0</td>\n",
       "      <td>57.0</td>\n",
       "      <td>42.0</td>\n",
       "      <td>88.0</td>\n",
       "      <td>CACERES</td>\n",
       "      <td>MT</td>\n",
       "      <td>BRASIL</td>\n",
       "      <td>...</td>\n",
       "      <td>3° Ano - Ensino Médio</td>\n",
       "      <td>2022</td>\n",
       "      <td>Com dispensa</td>\n",
       "      <td>Urbana</td>\n",
       "      <td>CACERES</td>\n",
       "      <td>MT</td>\n",
       "      <td>BRASIL</td>\n",
       "      <td>30/24 - CACERES</td>\n",
       "      <td>CACERES</td>\n",
       "      <td>MT</td>\n",
       "    </tr>\n",
       "    <tr>\n",
       "      <th>4</th>\n",
       "      <td>5</td>\n",
       "      <td>2000</td>\n",
       "      <td>76.0</td>\n",
       "      <td>184.0</td>\n",
       "      <td>58.0</td>\n",
       "      <td>42.0</td>\n",
       "      <td>78.0</td>\n",
       "      <td>BRASILIA</td>\n",
       "      <td>DF</td>\n",
       "      <td>BRASIL</td>\n",
       "      <td>...</td>\n",
       "      <td>2° Semestre - Ensino Superior</td>\n",
       "      <td>2022</td>\n",
       "      <td>Com dispensa</td>\n",
       "      <td>Rural</td>\n",
       "      <td>BRASILIA</td>\n",
       "      <td>DF</td>\n",
       "      <td>BRASIL</td>\n",
       "      <td>7/331 - BRASILIA (SAMAMBAIA)</td>\n",
       "      <td>BRASILIA</td>\n",
       "      <td>DF</td>\n",
       "    </tr>\n",
       "  </tbody>\n",
       "</table>\n",
       "<p>5 rows × 22 columns</p>\n",
       "</div>"
      ],
      "text/plain": [
       "   Unnamed: 0  ANO_NASCIMENTO  PESO  ALTURA  CABECA  CALCADO  CINTURA  \\\n",
       "0           1            1995  79.0   181.0    56.0     41.0     88.0   \n",
       "1           2            1974  64.0   165.0    58.0     38.0     75.0   \n",
       "2           3            1998  55.0   180.0    53.0     41.0     74.0   \n",
       "3           4            1999  76.0   186.0    57.0     42.0     88.0   \n",
       "4           5            2000  76.0   184.0    58.0     42.0     78.0   \n",
       "\n",
       "         MUN_NASCIMENTO UF_NASCIMENTO PAIS_NASCIMENTO  ...  \\\n",
       "0  PALMEIRA DAS MISSOES            RS          BRASIL  ...   \n",
       "1          PORTO ALEGRE            RS          BRASIL  ...   \n",
       "2               JANDIRA            SP          BRASIL  ...   \n",
       "3               CACERES            MT          BRASIL  ...   \n",
       "4              BRASILIA            DF          BRASIL  ...   \n",
       "\n",
       "                    ESCOLARIDADE VINCULACAO_ANO      DISPENSA  \\\n",
       "0          Ensino Médio Completo           2022  Com dispensa   \n",
       "1    7° Ano - Ensino Fundamental           2022  Com dispensa   \n",
       "2          Ensino Médio Completo           2022  Com dispensa   \n",
       "3          3° Ano - Ensino Médio           2022  Com dispensa   \n",
       "4  2° Semestre - Ensino Superior           2022  Com dispensa   \n",
       "\n",
       "   ZONA_RESIDENCIAL MUN_RESIDENCIA UF_RESIDENCIA PAIS_RESIDENCIA  \\\n",
       "0            Urbana         CANOAS            RS          BRASIL   \n",
       "1            Urbana         ITAJAI            SC          BRASIL   \n",
       "2            Urbana    SERTAOZINHO            SP          BRASIL   \n",
       "3            Urbana        CACERES            MT          BRASIL   \n",
       "4             Rural       BRASILIA            DF          BRASIL   \n",
       "\n",
       "                            JSM               MUN_JSM UF_JSM  \n",
       "0  10/52 - PALMEIRA DAS MISSOES  PALMEIRA DAS MISSOES     RS  \n",
       "1                16/28 - ITAJAI                ITAJAI     SC  \n",
       "2           5/123 - SERTAOZINHO           SERTAOZINHO     SP  \n",
       "3               30/24 - CACERES               CACERES     MT  \n",
       "4  7/331 - BRASILIA (SAMAMBAIA)              BRASILIA     DF  \n",
       "\n",
       "[5 rows x 22 columns]"
      ]
     },
     "execution_count": 4,
     "metadata": {},
     "output_type": "execute_result"
    }
   ],
   "source": [
    "df.head()"
   ]
  },
  {
   "cell_type": "code",
   "execution_count": 20,
   "id": "f1138dff",
   "metadata": {},
   "outputs": [
    {
     "data": {
      "text/plain": [
       "ALTURA    250.0\n",
       "dtype: float64"
      ]
     },
     "execution_count": 20,
     "metadata": {},
     "output_type": "execute_result"
    }
   ],
   "source": [
    "df[['ALTURA']].max()"
   ]
  },
  {
   "cell_type": "code",
   "execution_count": 21,
   "id": "ef357918",
   "metadata": {
    "scrolled": true
   },
   "outputs": [
    {
     "data": {
      "text/plain": [
       "ALTURA    120.0\n",
       "dtype: float64"
      ]
     },
     "execution_count": 21,
     "metadata": {},
     "output_type": "execute_result"
    }
   ],
   "source": [
    "df[['ALTURA']].min()"
   ]
  },
  {
   "cell_type": "code",
   "execution_count": 22,
   "id": "526a6291",
   "metadata": {},
   "outputs": [
    {
     "data": {
      "text/plain": [
       "ALTURA    174.417648\n",
       "dtype: float64"
      ]
     },
     "execution_count": 22,
     "metadata": {},
     "output_type": "execute_result"
    }
   ],
   "source": [
    "df[['ALTURA']].mean()"
   ]
  },
  {
   "cell_type": "code",
   "execution_count": 23,
   "id": "459c47c0",
   "metadata": {},
   "outputs": [
    {
     "data": {
      "text/plain": [
       "0    175.0\n",
       "Name: ALTURA, dtype: float64"
      ]
     },
     "execution_count": 23,
     "metadata": {},
     "output_type": "execute_result"
    }
   ],
   "source": [
    "df['ALTURA'].mode()"
   ]
  },
  {
   "cell_type": "code",
   "execution_count": 24,
   "id": "eca40109",
   "metadata": {
    "scrolled": false
   },
   "outputs": [
    {
     "data": {
      "text/plain": [
       "ANO_NASCIMENTO    2003.637471\n",
       "PESO                70.131373\n",
       "ALTURA             174.417648\n",
       "CALCADO             40.959570\n",
       "CINTURA             77.289827\n",
       "dtype: float64"
      ]
     },
     "execution_count": 24,
     "metadata": {},
     "output_type": "execute_result"
    }
   ],
   "source": [
    "df[['ANO_NASCIMENTO', 'PESO', 'ALTURA', 'CALCADO', 'CINTURA']].mean()"
   ]
  },
  {
   "cell_type": "code",
   "execution_count": 5,
   "id": "02ba1c6b",
   "metadata": {},
   "outputs": [],
   "source": [
    "# Criação da coluna referente ao IMC de cada pessoa \n",
    "\n",
    "df['IMC'] = df['PESO']/((df['ALTURA']/100)**2)\n",
    "df['IMC'] = round(df['IMC'], 2)"
   ]
  },
  {
   "cell_type": "code",
   "execution_count": 6,
   "id": "8f66a62f",
   "metadata": {},
   "outputs": [],
   "source": [
    "# Criação da coluna referente à CLASSIFICAÇÃO DO IMC de cada pessoa \n",
    "\n",
    "df.loc[df['IMC'] < 16.9, 'CLASSIFICACAO_IMC'] = 'Muito Abaixo do Peso'\n",
    "df.loc[(df['IMC'] >= 16.9) & (df['IMC'] < 18.4), 'CLASSIFICACAO_IMC'] = 'Abaixo do Peso'\n",
    "df.loc[(df['IMC'] >= 18.4) & (df['IMC'] < 24.9), 'CLASSIFICACAO_IMC'] = 'Peso Normal'\n",
    "df.loc[(df['IMC'] >= 24.9) & (df['IMC'] < 29.9), 'CLASSIFICACAO_IMC'] = 'Acima do Peso'\n",
    "df.loc[(df['IMC'] >= 29.9) & (df['IMC'] < 34.9), 'CLASSIFICACAO_IMC'] = 'Obesidade Grau 1'\n",
    "df.loc[(df['IMC'] >= 34.9) & (df['IMC'] < 40), 'CLASSIFICACAO_IMC'] = 'Obesidade Grau 2'\n",
    "df.loc[(df['IMC'] >= 40), 'CLASSIFICACAO_IMC'] = 'Obesidade Grau 3'"
   ]
  },
  {
   "cell_type": "code",
   "execution_count": 11,
   "id": "4d0c8ed2",
   "metadata": {},
   "outputs": [
    {
     "ename": "AttributeError",
     "evalue": "'DataFrame' object has no attribute 'count_values'",
     "output_type": "error",
     "traceback": [
      "\u001b[1;31m---------------------------------------------------------------------------\u001b[0m",
      "\u001b[1;31mAttributeError\u001b[0m                            Traceback (most recent call last)",
      "\u001b[1;32m~\\AppData\\Local\\Temp\\ipykernel_12928\\4162678422.py\u001b[0m in \u001b[0;36m?\u001b[1;34m()\u001b[0m\n\u001b[1;32m----> 1\u001b[1;33m \u001b[0mdf\u001b[0m\u001b[1;33m[\u001b[0m\u001b[1;33m[\u001b[0m\u001b[1;34m'CLASSIFICACAO_IMC'\u001b[0m\u001b[1;33m]\u001b[0m\u001b[1;33m]\u001b[0m\u001b[1;33m.\u001b[0m\u001b[0mcount_values\u001b[0m\u001b[1;33m(\u001b[0m\u001b[1;33m)\u001b[0m\u001b[1;33m\u001b[0m\u001b[1;33m\u001b[0m\u001b[0m\n\u001b[0m",
      "\u001b[1;32m~\\anaconda3\\Lib\\site-packages\\pandas\\core\\generic.py\u001b[0m in \u001b[0;36m?\u001b[1;34m(self, name)\u001b[0m\n\u001b[0;32m   5985\u001b[0m             \u001b[1;32mand\u001b[0m \u001b[0mname\u001b[0m \u001b[1;32mnot\u001b[0m \u001b[1;32min\u001b[0m \u001b[0mself\u001b[0m\u001b[1;33m.\u001b[0m\u001b[0m_accessors\u001b[0m\u001b[1;33m\u001b[0m\u001b[1;33m\u001b[0m\u001b[0m\n\u001b[0;32m   5986\u001b[0m             \u001b[1;32mand\u001b[0m \u001b[0mself\u001b[0m\u001b[1;33m.\u001b[0m\u001b[0m_info_axis\u001b[0m\u001b[1;33m.\u001b[0m\u001b[0m_can_hold_identifiers_and_holds_name\u001b[0m\u001b[1;33m(\u001b[0m\u001b[0mname\u001b[0m\u001b[1;33m)\u001b[0m\u001b[1;33m\u001b[0m\u001b[1;33m\u001b[0m\u001b[0m\n\u001b[0;32m   5987\u001b[0m         ):\n\u001b[0;32m   5988\u001b[0m             \u001b[1;32mreturn\u001b[0m \u001b[0mself\u001b[0m\u001b[1;33m[\u001b[0m\u001b[0mname\u001b[0m\u001b[1;33m]\u001b[0m\u001b[1;33m\u001b[0m\u001b[1;33m\u001b[0m\u001b[0m\n\u001b[1;32m-> 5989\u001b[1;33m         \u001b[1;32mreturn\u001b[0m \u001b[0mobject\u001b[0m\u001b[1;33m.\u001b[0m\u001b[0m__getattribute__\u001b[0m\u001b[1;33m(\u001b[0m\u001b[0mself\u001b[0m\u001b[1;33m,\u001b[0m \u001b[0mname\u001b[0m\u001b[1;33m)\u001b[0m\u001b[1;33m\u001b[0m\u001b[1;33m\u001b[0m\u001b[0m\n\u001b[0m",
      "\u001b[1;31mAttributeError\u001b[0m: 'DataFrame' object has no attribute 'count_values'"
     ]
    }
   ],
   "source": [
    "df['CLASSIFICACAO_IMC'].count_values()"
   ]
  }
 ],
 "metadata": {
  "kernelspec": {
   "display_name": "Python 3 (ipykernel)",
   "language": "python",
   "name": "python3"
  },
  "language_info": {
   "codemirror_mode": {
    "name": "ipython",
    "version": 3
   },
   "file_extension": ".py",
   "mimetype": "text/x-python",
   "name": "python",
   "nbconvert_exporter": "python",
   "pygments_lexer": "ipython3",
   "version": "3.11.5"
  }
 },
 "nbformat": 4,
 "nbformat_minor": 5
}
