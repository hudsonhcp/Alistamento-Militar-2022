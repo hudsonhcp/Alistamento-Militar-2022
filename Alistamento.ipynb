{
 "cells": [
  {
   "cell_type": "code",
   "execution_count": 2,
   "id": "91baa52d",
   "metadata": {},
   "outputs": [],
   "source": [
    "import pandas as pd\n",
    "import matplotlib.pyplot as plt"
   ]
  },
  {
   "cell_type": "markdown",
   "id": "b0fa73af",
   "metadata": {},
   "source": [
    "## Dicionário de Variáveis"
   ]
  },
  {
   "cell_type": "markdown",
   "id": "c4af5bfb",
   "metadata": {},
   "source": [
    "|Dicionário de Variáveis| Descrição da variável|\n",
    "|:---|:---:|\n",
    "|ANO_NASCIMENTO| Ano de nascimento dos alistados|\n",
    "|PESO| Peso (em quilogramas) dos alistados|\n",
    "|ALTURA| Altura (em centímetros) da altura dos alistados|\n",
    "|CABECA| Medida (em centímetros) da cabeça alistados|\n",
    "|CALCADO| Medida dos pés dos alistados|\n",
    "|CINTURA| Altura (em centímetros) da cintura dos alistados|\n",
    "|MUN_NASCIMENTO| Município de nascimento dos alistados|\n",
    "|UF_NASCIMENTO| Estado de nascimento dos alistados|\n",
    "|PAIS_NASCIMENTO| País de nascimento dos alistados|\n",
    "|ESTADO_CIVIL | Estado civil dos alistados|\n",
    "|SEXO| Sexo dos alistados|\n",
    "|ESCOLARIDADE| Nível de escolaridade dos alistados|\n",
    "|VINCULACAO_ANO| Ano de alistamento|\n",
    "|DISPENSA| Resultado da dispensa ou não dos alistados|\n",
    "|ZONA_RESIDENCIAL| Zona de residência dos alistados|\n",
    "|MUN_RESIDENCIA| Município de residência dos alistados|\n",
    "|UF_RESIDENCIA| Estado de residência dos alistados|\n",
    "|PAIS_RESIDENCIA| País de residência dos alistados|\n",
    "|JSM| Junta de Serviço Militar em que foi alistado|\n",
    "|MUN_JSM| Município da Junta de Serviço Militar|\n",
    "|UF_JSM| Estado da Junta de Serviço Militar|\n",
    "|IDADE_ALISTADO|Idade do alistado no ano de alistamento|\n",
    "|IMC|Medição do Índice de Massa Corpórea do alistado|\n",
    "|CLASSIFICACAO_IMC|Classificação corpórea do alistado de acordo com seu IMC|\n",
    "|REGIAO_NASCIMENTO|Região brasileira de nascimento do alistado|\n",
    "|REGIAO_RESIDENCIA|Região brasileira de residência do alistado|"
   ]
  },
  {
   "cell_type": "code",
   "execution_count": 3,
   "id": "d4b49f89",
   "metadata": {},
   "outputs": [],
   "source": [
    "df = pd.read_csv('alistamento_militar_2022.csv')"
   ]
  },
  {
   "cell_type": "code",
   "execution_count": 4,
   "id": "04917eb6",
   "metadata": {
    "scrolled": true
   },
   "outputs": [
    {
     "name": "stdout",
     "output_type": "stream",
     "text": [
      "<class 'pandas.core.frame.DataFrame'>\n",
      "RangeIndex: 300914 entries, 0 to 300913\n",
      "Data columns (total 22 columns):\n",
      " #   Column            Non-Null Count   Dtype  \n",
      "---  ------            --------------   -----  \n",
      " 0   Unnamed: 0        300914 non-null  int64  \n",
      " 1   ANO_NASCIMENTO    300914 non-null  int64  \n",
      " 2   PESO              300914 non-null  float64\n",
      " 3   ALTURA            300914 non-null  float64\n",
      " 4   CABECA            300914 non-null  float64\n",
      " 5   CALCADO           300914 non-null  float64\n",
      " 6   CINTURA           300914 non-null  float64\n",
      " 7   MUN_NASCIMENTO    300914 non-null  object \n",
      " 8   UF_NASCIMENTO     300914 non-null  object \n",
      " 9   PAIS_NASCIMENTO   300914 non-null  object \n",
      " 10  ESTADO_CIVIL      300914 non-null  object \n",
      " 11  SEXO              300914 non-null  object \n",
      " 12  ESCOLARIDADE      300914 non-null  object \n",
      " 13  VINCULACAO_ANO    300914 non-null  int64  \n",
      " 14  DISPENSA          300914 non-null  object \n",
      " 15  ZONA_RESIDENCIAL  300914 non-null  object \n",
      " 16  MUN_RESIDENCIA    300914 non-null  object \n",
      " 17  UF_RESIDENCIA     300914 non-null  object \n",
      " 18  PAIS_RESIDENCIA   300914 non-null  object \n",
      " 19  JSM               300914 non-null  object \n",
      " 20  MUN_JSM           300914 non-null  object \n",
      " 21  UF_JSM            300914 non-null  object \n",
      "dtypes: float64(5), int64(3), object(14)\n",
      "memory usage: 50.5+ MB\n"
     ]
    }
   ],
   "source": [
    "df.info()"
   ]
  },
  {
   "cell_type": "code",
   "execution_count": 4,
   "id": "d6d27594",
   "metadata": {},
   "outputs": [
    {
     "data": {
      "text/html": [
       "<div>\n",
       "<style scoped>\n",
       "    .dataframe tbody tr th:only-of-type {\n",
       "        vertical-align: middle;\n",
       "    }\n",
       "\n",
       "    .dataframe tbody tr th {\n",
       "        vertical-align: top;\n",
       "    }\n",
       "\n",
       "    .dataframe thead th {\n",
       "        text-align: right;\n",
       "    }\n",
       "</style>\n",
       "<table border=\"1\" class=\"dataframe\">\n",
       "  <thead>\n",
       "    <tr style=\"text-align: right;\">\n",
       "      <th></th>\n",
       "      <th>Unnamed: 0</th>\n",
       "      <th>ANO_NASCIMENTO</th>\n",
       "      <th>PESO</th>\n",
       "      <th>ALTURA</th>\n",
       "      <th>CABECA</th>\n",
       "      <th>CALCADO</th>\n",
       "      <th>CINTURA</th>\n",
       "      <th>MUN_NASCIMENTO</th>\n",
       "      <th>UF_NASCIMENTO</th>\n",
       "      <th>PAIS_NASCIMENTO</th>\n",
       "      <th>...</th>\n",
       "      <th>ESCOLARIDADE</th>\n",
       "      <th>VINCULACAO_ANO</th>\n",
       "      <th>DISPENSA</th>\n",
       "      <th>ZONA_RESIDENCIAL</th>\n",
       "      <th>MUN_RESIDENCIA</th>\n",
       "      <th>UF_RESIDENCIA</th>\n",
       "      <th>PAIS_RESIDENCIA</th>\n",
       "      <th>JSM</th>\n",
       "      <th>MUN_JSM</th>\n",
       "      <th>UF_JSM</th>\n",
       "    </tr>\n",
       "  </thead>\n",
       "  <tbody>\n",
       "    <tr>\n",
       "      <th>0</th>\n",
       "      <td>1</td>\n",
       "      <td>1995</td>\n",
       "      <td>79.0</td>\n",
       "      <td>181.0</td>\n",
       "      <td>56.0</td>\n",
       "      <td>41.0</td>\n",
       "      <td>88.0</td>\n",
       "      <td>PALMEIRA DAS MISSOES</td>\n",
       "      <td>RS</td>\n",
       "      <td>BRASIL</td>\n",
       "      <td>...</td>\n",
       "      <td>Ensino Médio Completo</td>\n",
       "      <td>2022</td>\n",
       "      <td>Com dispensa</td>\n",
       "      <td>Urbana</td>\n",
       "      <td>CANOAS</td>\n",
       "      <td>RS</td>\n",
       "      <td>BRASIL</td>\n",
       "      <td>10/52 - PALMEIRA DAS MISSOES</td>\n",
       "      <td>PALMEIRA DAS MISSOES</td>\n",
       "      <td>RS</td>\n",
       "    </tr>\n",
       "    <tr>\n",
       "      <th>1</th>\n",
       "      <td>2</td>\n",
       "      <td>1974</td>\n",
       "      <td>64.0</td>\n",
       "      <td>165.0</td>\n",
       "      <td>58.0</td>\n",
       "      <td>38.0</td>\n",
       "      <td>75.0</td>\n",
       "      <td>PORTO ALEGRE</td>\n",
       "      <td>RS</td>\n",
       "      <td>BRASIL</td>\n",
       "      <td>...</td>\n",
       "      <td>7° Ano - Ensino Fundamental</td>\n",
       "      <td>2022</td>\n",
       "      <td>Com dispensa</td>\n",
       "      <td>Urbana</td>\n",
       "      <td>ITAJAI</td>\n",
       "      <td>SC</td>\n",
       "      <td>BRASIL</td>\n",
       "      <td>16/28 - ITAJAI</td>\n",
       "      <td>ITAJAI</td>\n",
       "      <td>SC</td>\n",
       "    </tr>\n",
       "    <tr>\n",
       "      <th>2</th>\n",
       "      <td>3</td>\n",
       "      <td>1998</td>\n",
       "      <td>55.0</td>\n",
       "      <td>180.0</td>\n",
       "      <td>53.0</td>\n",
       "      <td>41.0</td>\n",
       "      <td>74.0</td>\n",
       "      <td>JANDIRA</td>\n",
       "      <td>SP</td>\n",
       "      <td>BRASIL</td>\n",
       "      <td>...</td>\n",
       "      <td>Ensino Médio Completo</td>\n",
       "      <td>2022</td>\n",
       "      <td>Com dispensa</td>\n",
       "      <td>Urbana</td>\n",
       "      <td>SERTAOZINHO</td>\n",
       "      <td>SP</td>\n",
       "      <td>BRASIL</td>\n",
       "      <td>5/123 - SERTAOZINHO</td>\n",
       "      <td>SERTAOZINHO</td>\n",
       "      <td>SP</td>\n",
       "    </tr>\n",
       "    <tr>\n",
       "      <th>3</th>\n",
       "      <td>4</td>\n",
       "      <td>1999</td>\n",
       "      <td>76.0</td>\n",
       "      <td>186.0</td>\n",
       "      <td>57.0</td>\n",
       "      <td>42.0</td>\n",
       "      <td>88.0</td>\n",
       "      <td>CACERES</td>\n",
       "      <td>MT</td>\n",
       "      <td>BRASIL</td>\n",
       "      <td>...</td>\n",
       "      <td>3° Ano - Ensino Médio</td>\n",
       "      <td>2022</td>\n",
       "      <td>Com dispensa</td>\n",
       "      <td>Urbana</td>\n",
       "      <td>CACERES</td>\n",
       "      <td>MT</td>\n",
       "      <td>BRASIL</td>\n",
       "      <td>30/24 - CACERES</td>\n",
       "      <td>CACERES</td>\n",
       "      <td>MT</td>\n",
       "    </tr>\n",
       "    <tr>\n",
       "      <th>4</th>\n",
       "      <td>5</td>\n",
       "      <td>2000</td>\n",
       "      <td>76.0</td>\n",
       "      <td>184.0</td>\n",
       "      <td>58.0</td>\n",
       "      <td>42.0</td>\n",
       "      <td>78.0</td>\n",
       "      <td>BRASILIA</td>\n",
       "      <td>DF</td>\n",
       "      <td>BRASIL</td>\n",
       "      <td>...</td>\n",
       "      <td>2° Semestre - Ensino Superior</td>\n",
       "      <td>2022</td>\n",
       "      <td>Com dispensa</td>\n",
       "      <td>Rural</td>\n",
       "      <td>BRASILIA</td>\n",
       "      <td>DF</td>\n",
       "      <td>BRASIL</td>\n",
       "      <td>7/331 - BRASILIA (SAMAMBAIA)</td>\n",
       "      <td>BRASILIA</td>\n",
       "      <td>DF</td>\n",
       "    </tr>\n",
       "  </tbody>\n",
       "</table>\n",
       "<p>5 rows × 22 columns</p>\n",
       "</div>"
      ],
      "text/plain": [
       "   Unnamed: 0  ANO_NASCIMENTO  PESO  ALTURA  CABECA  CALCADO  CINTURA  \\\n",
       "0           1            1995  79.0   181.0    56.0     41.0     88.0   \n",
       "1           2            1974  64.0   165.0    58.0     38.0     75.0   \n",
       "2           3            1998  55.0   180.0    53.0     41.0     74.0   \n",
       "3           4            1999  76.0   186.0    57.0     42.0     88.0   \n",
       "4           5            2000  76.0   184.0    58.0     42.0     78.0   \n",
       "\n",
       "         MUN_NASCIMENTO UF_NASCIMENTO PAIS_NASCIMENTO  ...  \\\n",
       "0  PALMEIRA DAS MISSOES            RS          BRASIL  ...   \n",
       "1          PORTO ALEGRE            RS          BRASIL  ...   \n",
       "2               JANDIRA            SP          BRASIL  ...   \n",
       "3               CACERES            MT          BRASIL  ...   \n",
       "4              BRASILIA            DF          BRASIL  ...   \n",
       "\n",
       "                    ESCOLARIDADE VINCULACAO_ANO      DISPENSA  \\\n",
       "0          Ensino Médio Completo           2022  Com dispensa   \n",
       "1    7° Ano - Ensino Fundamental           2022  Com dispensa   \n",
       "2          Ensino Médio Completo           2022  Com dispensa   \n",
       "3          3° Ano - Ensino Médio           2022  Com dispensa   \n",
       "4  2° Semestre - Ensino Superior           2022  Com dispensa   \n",
       "\n",
       "   ZONA_RESIDENCIAL MUN_RESIDENCIA UF_RESIDENCIA PAIS_RESIDENCIA  \\\n",
       "0            Urbana         CANOAS            RS          BRASIL   \n",
       "1            Urbana         ITAJAI            SC          BRASIL   \n",
       "2            Urbana    SERTAOZINHO            SP          BRASIL   \n",
       "3            Urbana        CACERES            MT          BRASIL   \n",
       "4             Rural       BRASILIA            DF          BRASIL   \n",
       "\n",
       "                            JSM               MUN_JSM UF_JSM  \n",
       "0  10/52 - PALMEIRA DAS MISSOES  PALMEIRA DAS MISSOES     RS  \n",
       "1                16/28 - ITAJAI                ITAJAI     SC  \n",
       "2           5/123 - SERTAOZINHO           SERTAOZINHO     SP  \n",
       "3               30/24 - CACERES               CACERES     MT  \n",
       "4  7/331 - BRASILIA (SAMAMBAIA)              BRASILIA     DF  \n",
       "\n",
       "[5 rows x 22 columns]"
      ]
     },
     "execution_count": 4,
     "metadata": {},
     "output_type": "execute_result"
    }
   ],
   "source": [
    "df.head()"
   ]
  },
  {
   "cell_type": "markdown",
   "id": "23bf769a",
   "metadata": {},
   "source": [
    "### Criação e atribuição de valores às colunas 'REGIAO_NASCIMENTO' e 'REGIAO_RESIDENCIA'"
   ]
  },
  {
   "cell_type": "code",
   "execution_count": 10,
   "id": "d2706a95",
   "metadata": {},
   "outputs": [],
   "source": [
    "regioes = {'Norte': ['AC', 'AP', 'AM', 'PA', 'RO', 'RR', 'TO'], \n",
    "           'Nordeste': ['AL', 'BA', 'CE', 'MA', 'PB', 'PE', 'PI', 'RN', 'SE'],\n",
    "           'Centro-Oeste': ['DF', 'GO', 'MT', 'MS'],\n",
    "           'Sudeste': ['ES', 'MG', 'RJ', 'SP'],\n",
    "           'Sul': ['PR', 'RS', 'SC']}"
   ]
  },
  {
   "cell_type": "code",
   "execution_count": 11,
   "id": "57aba4c4",
   "metadata": {},
   "outputs": [
    {
     "name": "stdout",
     "output_type": "stream",
     "text": [
      "(df['UF_NASCIMENTO'] == regioes['Norte'][0])|\n",
      "(df['UF_NASCIMENTO'] == regioes['Norte'][1])|\n",
      "(df['UF_NASCIMENTO'] == regioes['Norte'][2])|\n",
      "(df['UF_NASCIMENTO'] == regioes['Norte'][3])|\n",
      "(df['UF_NASCIMENTO'] == regioes['Norte'][4])|\n",
      "(df['UF_NASCIMENTO'] == regioes['Norte'][5])|\n",
      "(df['UF_NASCIMENTO'] == regioes['Norte'][6])|\n"
     ]
    }
   ],
   "source": [
    "for i in range(len(regioes['Norte'])):\n",
    "    print(f\"(df['UF_NASCIMENTO'] == regioes['Norte'][{i}])|\")"
   ]
  },
  {
   "cell_type": "code",
   "execution_count": 12,
   "id": "e9976401",
   "metadata": {},
   "outputs": [],
   "source": [
    "df.loc[(df['UF_NASCIMENTO'] == regioes['Norte'][0])|\n",
    "       (df['UF_NASCIMENTO'] == regioes['Norte'][1])|\n",
    "       (df['UF_NASCIMENTO'] == regioes['Norte'][2])|\n",
    "       (df['UF_NASCIMENTO'] == regioes['Norte'][3])|\n",
    "       (df['UF_NASCIMENTO'] == regioes['Norte'][4])|\n",
    "       (df['UF_NASCIMENTO'] == regioes['Norte'][5])|\n",
    "       (df['UF_NASCIMENTO'] == regioes['Norte'][6]), 'REGIAO_NASCIMENTO'] = 'Norte'"
   ]
  },
  {
   "cell_type": "code",
   "execution_count": 13,
   "id": "ffb1034f",
   "metadata": {
    "scrolled": true
   },
   "outputs": [
    {
     "name": "stdout",
     "output_type": "stream",
     "text": [
      "(df['UF_NASCIMENTO'] == regioes['Nordeste'][0])|\n",
      "(df['UF_NASCIMENTO'] == regioes['Nordeste'][1])|\n",
      "(df['UF_NASCIMENTO'] == regioes['Nordeste'][2])|\n",
      "(df['UF_NASCIMENTO'] == regioes['Nordeste'][3])|\n",
      "(df['UF_NASCIMENTO'] == regioes['Nordeste'][4])|\n",
      "(df['UF_NASCIMENTO'] == regioes['Nordeste'][5])|\n",
      "(df['UF_NASCIMENTO'] == regioes['Nordeste'][6])|\n",
      "(df['UF_NASCIMENTO'] == regioes['Nordeste'][7])|\n",
      "(df['UF_NASCIMENTO'] == regioes['Nordeste'][8])|\n"
     ]
    }
   ],
   "source": [
    "for i in range(len(regioes['Nordeste'])):\n",
    "    print(f\"(df['UF_NASCIMENTO'] == regioes['Nordeste'][{i}])|\")"
   ]
  },
  {
   "cell_type": "code",
   "execution_count": 14,
   "id": "710622ed",
   "metadata": {},
   "outputs": [],
   "source": [
    "df.loc[(df['UF_NASCIMENTO'] == regioes['Nordeste'][0])|\n",
    "       (df['UF_NASCIMENTO'] == regioes['Nordeste'][1])|\n",
    "       (df['UF_NASCIMENTO'] == regioes['Nordeste'][2])|\n",
    "       (df['UF_NASCIMENTO'] == regioes['Nordeste'][3])|\n",
    "       (df['UF_NASCIMENTO'] == regioes['Nordeste'][4])|\n",
    "       (df['UF_NASCIMENTO'] == regioes['Nordeste'][5])|\n",
    "       (df['UF_NASCIMENTO'] == regioes['Nordeste'][6])|\n",
    "       (df['UF_NASCIMENTO'] == regioes['Nordeste'][7])|\n",
    "       (df['UF_NASCIMENTO'] == regioes['Nordeste'][8]), 'REGIAO_NASCIMENTO'] = 'Nordeste'"
   ]
  },
  {
   "cell_type": "code",
   "execution_count": 15,
   "id": "0562eff6",
   "metadata": {},
   "outputs": [
    {
     "name": "stdout",
     "output_type": "stream",
     "text": [
      "(df['UF_NASCIMENTO'] == regioes['Centro-Oeste'][0])|\n",
      "(df['UF_NASCIMENTO'] == regioes['Centro-Oeste'][1])|\n",
      "(df['UF_NASCIMENTO'] == regioes['Centro-Oeste'][2])|\n",
      "(df['UF_NASCIMENTO'] == regioes['Centro-Oeste'][3])|\n"
     ]
    }
   ],
   "source": [
    "for i in range(len(regioes['Centro-Oeste'])):\n",
    "    print(f\"(df['UF_NASCIMENTO'] == regioes['Centro-Oeste'][{i}])|\")"
   ]
  },
  {
   "cell_type": "code",
   "execution_count": 16,
   "id": "121c11f0",
   "metadata": {},
   "outputs": [],
   "source": [
    "df.loc[(df['UF_NASCIMENTO'] == regioes['Centro-Oeste'][0])|\n",
    "(df['UF_NASCIMENTO'] == regioes['Centro-Oeste'][1])|\n",
    "(df['UF_NASCIMENTO'] == regioes['Centro-Oeste'][2])|\n",
    "(df['UF_NASCIMENTO'] == regioes['Centro-Oeste'][3]), 'REGIAO_NASCIMENTO'] = 'Centro-Oeste'"
   ]
  },
  {
   "cell_type": "code",
   "execution_count": 17,
   "id": "780f7ffe",
   "metadata": {},
   "outputs": [
    {
     "name": "stdout",
     "output_type": "stream",
     "text": [
      "(df['UF_NASCIMENTO'] == regioes['Sudeste'][0])|\n",
      "(df['UF_NASCIMENTO'] == regioes['Sudeste'][1])|\n",
      "(df['UF_NASCIMENTO'] == regioes['Sudeste'][2])|\n",
      "(df['UF_NASCIMENTO'] == regioes['Sudeste'][3])|\n"
     ]
    }
   ],
   "source": [
    "for i in range(len(regioes['Sudeste'])):\n",
    "    print(f\"(df['UF_NASCIMENTO'] == regioes['Sudeste'][{i}])|\")"
   ]
  },
  {
   "cell_type": "code",
   "execution_count": 18,
   "id": "aa9402c9",
   "metadata": {},
   "outputs": [],
   "source": [
    "df.loc[(df['UF_NASCIMENTO'] == regioes['Sudeste'][0])|\n",
    "(df['UF_NASCIMENTO'] == regioes['Sudeste'][1])|\n",
    "(df['UF_NASCIMENTO'] == regioes['Sudeste'][2])|\n",
    "(df['UF_NASCIMENTO'] == regioes['Sudeste'][3]), 'REGIAO_NASCIMENTO'] = 'Sudeste'"
   ]
  },
  {
   "cell_type": "code",
   "execution_count": 19,
   "id": "b3e85bc6",
   "metadata": {},
   "outputs": [
    {
     "name": "stdout",
     "output_type": "stream",
     "text": [
      "(df['UF_NASCIMENTO'] == regioes['Sul'][0])|\n",
      "(df['UF_NASCIMENTO'] == regioes['Sul'][1])|\n",
      "(df['UF_NASCIMENTO'] == regioes['Sul'][2])|\n"
     ]
    }
   ],
   "source": [
    "for i in range(len(regioes['Sul'])):\n",
    "    print(f\"(df['UF_NASCIMENTO'] == regioes['Sul'][{i}])|\")"
   ]
  },
  {
   "cell_type": "code",
   "execution_count": 20,
   "id": "21cee565",
   "metadata": {},
   "outputs": [],
   "source": [
    "df.loc[(df['UF_NASCIMENTO'] == regioes['Sul'][0])|\n",
    "(df['UF_NASCIMENTO'] == regioes['Sul'][1])|\n",
    "(df['UF_NASCIMENTO'] == regioes['Sul'][2]), 'REGIAO_NASCIMENTO'] = 'Sul'"
   ]
  },
  {
   "cell_type": "code",
   "execution_count": 21,
   "id": "731c04e9",
   "metadata": {},
   "outputs": [],
   "source": [
    "df.loc[(df['UF_RESIDENCIA'] == regioes['Norte'][0])|\n",
    "       (df['UF_RESIDENCIA'] == regioes['Norte'][1])|\n",
    "       (df['UF_RESIDENCIA'] == regioes['Norte'][2])|\n",
    "       (df['UF_RESIDENCIA'] == regioes['Norte'][3])|\n",
    "       (df['UF_RESIDENCIA'] == regioes['Norte'][4])|\n",
    "       (df['UF_RESIDENCIA'] == regioes['Norte'][5])|\n",
    "       (df['UF_RESIDENCIA'] == regioes['Norte'][6]), 'REGIAO_RESIDENCIA'] = 'Norte'\n",
    "\n",
    "df.loc[(df['UF_RESIDENCIA'] == regioes['Nordeste'][0])|\n",
    "       (df['UF_RESIDENCIA'] == regioes['Nordeste'][1])|\n",
    "       (df['UF_RESIDENCIA'] == regioes['Nordeste'][2])|\n",
    "       (df['UF_RESIDENCIA'] == regioes['Nordeste'][3])|\n",
    "       (df['UF_RESIDENCIA'] == regioes['Nordeste'][4])|\n",
    "       (df['UF_RESIDENCIA'] == regioes['Nordeste'][5])|\n",
    "       (df['UF_RESIDENCIA'] == regioes['Nordeste'][6])|\n",
    "       (df['UF_RESIDENCIA'] == regioes['Nordeste'][7])|\n",
    "       (df['UF_RESIDENCIA'] == regioes['Nordeste'][8]), 'REGIAO_RESIDENCIA'] = 'Nordeste'\n",
    "\n",
    "df.loc[(df['UF_RESIDENCIA'] == regioes['Centro-Oeste'][0])|\n",
    "       (df['UF_RESIDENCIA'] == regioes['Centro-Oeste'][1])|\n",
    "       (df['UF_RESIDENCIA'] == regioes['Centro-Oeste'][2])|\n",
    "       (df['UF_RESIDENCIA'] == regioes['Centro-Oeste'][3]), 'REGIAO_RESIDENCIA'] = 'Centro-Oeste'\n",
    "\n",
    "df.loc[(df['UF_RESIDENCIA'] == regioes['Sudeste'][0])|\n",
    "       (df['UF_RESIDENCIA'] == regioes['Sudeste'][1])|\n",
    "       (df['UF_RESIDENCIA'] == regioes['Sudeste'][2])|\n",
    "       (df['UF_RESIDENCIA'] == regioes['Sudeste'][3]), 'REGIAO_RESIDENCIA'] = 'Sudeste'\n",
    "\n",
    "df.loc[(df['UF_RESIDENCIA'] == regioes['Sul'][0])|\n",
    "       (df['UF_RESIDENCIA'] == regioes['Sul'][1])|\n",
    "       (df['UF_RESIDENCIA'] == regioes['Sul'][2]), 'REGIAO_RESIDENCIA'] = 'Sul'"
   ]
  },
  {
   "cell_type": "markdown",
   "id": "f721d2af",
   "metadata": {},
   "source": [
    "### Gráfico de barras para UF Nascimento"
   ]
  },
  {
   "cell_type": "code",
   "execution_count": 22,
   "id": "0c7837a8",
   "metadata": {},
   "outputs": [],
   "source": [
    "contagem_nascimento= df['UF_NASCIMENTO'].value_counts()\n",
    "\n",
    "contagem_residencia= df['UF_RESIDENCIA'].value_counts()\n"
   ]
  },
  {
   "cell_type": "code",
   "execution_count": 27,
   "id": "d7596b2e",
   "metadata": {},
   "outputs": [
    {
     "data": {
      "image/png": "[encoded data removed]",
      "text/plain": [
       "<Figure size 1000x500 with 1 Axes>"
      ]
     },
     "metadata": {},
     "output_type": "display_data"
    }
   ],
   "source": [
    "plt.figure(figsize=(10,5))\n",
    "contagem_nascimento.plot(kind='bar', color= 'blue')\n",
    "plt.title('Número de Nascimento por UF')\n",
    "plt.xlabel('UF')\n",
    "plt.ylabel('Número de Nascimentos')\n",
    "plt.show()"
   ]
  },
  {
   "cell_type": "markdown",
   "id": "074d6e22",
   "metadata": {},
   "source": [
    "### Gráfico de barras para UF de Residência"
   ]
  },
  {
   "cell_type": "code",
   "execution_count": 28,
   "id": "33ef038c",
   "metadata": {},
   "outputs": [
    {
     "data": {
      "image/png": "[encoded data removed]",
      "text/plain": [
       "<Figure size 1000x500 with 1 Axes>"
      ]
     },
     "metadata": {},
     "output_type": "display_data"
    }
   ],
   "source": [
    "plt.figure(figsize=(10,5))\n",
    "contagem_residencia.plot(kind='bar', color='orange')\n",
    "plt.title('Número de Residências por UF')\n",
    "plt.xlabel('UF')\n",
    "plt.ylabel('Número de Residências')\n",
    "plt.show()"
   ]
  },
  {
   "cell_type": "markdown",
   "id": "0b2be5d6",
   "metadata": {},
   "source": [
    "### Altura"
   ]
  },
  {
   "cell_type": "code",
   "execution_count": 12,
   "id": "f1138dff",
   "metadata": {
    "scrolled": false
   },
   "outputs": [
    {
     "data": {
      "text/plain": [
       "<Axes: >"
      ]
     },
     "execution_count": 12,
     "metadata": {},
     "output_type": "execute_result"
    },
    {
     "data": {
      "image/png": "[encoded data removed]",
      "text/plain": [
       "<Figure size 640x480 with 1 Axes>"
      ]
     },
     "metadata": {},
     "output_type": "display_data"
    }
   ],
   "source": [
    "df[['ALTURA']].boxplot()"
   ]
  },
  {
   "cell_type": "markdown",
   "id": "be1278db",
   "metadata": {},
   "source": [
    "De acordo com o Boxplot, há valores nas extremidades que não condizem com a realidade. Pessoas com mais de 2,40 metros, não sendo razoável encontrarmos 7 com essa estatura em nossa pesquisa.\n",
    "\n",
    "Já na outra extremidade, pessoas com estatura menor que 1,4m é algo mais factível, porém o número é bem alto comparado ao universo da pesquisa (mais de 3.000 casos)."
   ]
  },
  {
   "cell_type": "code",
   "execution_count": 31,
   "id": "f2769185",
   "metadata": {
    "scrolled": false
   },
   "outputs": [
    {
     "data": {
      "text/html": [
       "<div>\n",
       "<style scoped>\n",
       "    .dataframe tbody tr th:only-of-type {\n",
       "        vertical-align: middle;\n",
       "    }\n",
       "\n",
       "    .dataframe tbody tr th {\n",
       "        vertical-align: top;\n",
       "    }\n",
       "\n",
       "    .dataframe thead th {\n",
       "        text-align: right;\n",
       "    }\n",
       "</style>\n",
       "<table border=\"1\" class=\"dataframe\">\n",
       "  <thead>\n",
       "    <tr style=\"text-align: right;\">\n",
       "      <th></th>\n",
       "      <th>Unnamed: 0</th>\n",
       "      <th>ANO_NASCIMENTO</th>\n",
       "      <th>PESO</th>\n",
       "      <th>ALTURA</th>\n",
       "      <th>CABECA</th>\n",
       "      <th>CALCADO</th>\n",
       "      <th>CINTURA</th>\n",
       "      <th>MUN_NASCIMENTO</th>\n",
       "      <th>UF_NASCIMENTO</th>\n",
       "      <th>PAIS_NASCIMENTO</th>\n",
       "      <th>...</th>\n",
       "      <th>DISPENSA</th>\n",
       "      <th>ZONA_RESIDENCIAL</th>\n",
       "      <th>MUN_RESIDENCIA</th>\n",
       "      <th>UF_RESIDENCIA</th>\n",
       "      <th>PAIS_RESIDENCIA</th>\n",
       "      <th>JSM</th>\n",
       "      <th>MUN_JSM</th>\n",
       "      <th>UF_JSM</th>\n",
       "      <th>REGIAO_NASCIMENTO</th>\n",
       "      <th>REGIAO_RESIDENCIA</th>\n",
       "    </tr>\n",
       "  </thead>\n",
       "  <tbody>\n",
       "    <tr>\n",
       "      <th>26327</th>\n",
       "      <td>26390</td>\n",
       "      <td>2004</td>\n",
       "      <td>85.0</td>\n",
       "      <td>249.0</td>\n",
       "      <td>56.0</td>\n",
       "      <td>42.0</td>\n",
       "      <td>76.0</td>\n",
       "      <td>CAMAQUA</td>\n",
       "      <td>RS</td>\n",
       "      <td>BRASIL</td>\n",
       "      <td>...</td>\n",
       "      <td>Com dispensa</td>\n",
       "      <td>Urbana</td>\n",
       "      <td>PORTO ALEGRE</td>\n",
       "      <td>RS</td>\n",
       "      <td>BRASIL</td>\n",
       "      <td>8/50 - PORTO ALEGRE</td>\n",
       "      <td>PORTO ALEGRE</td>\n",
       "      <td>RS</td>\n",
       "      <td>Sul</td>\n",
       "      <td>Sul</td>\n",
       "    </tr>\n",
       "    <tr>\n",
       "      <th>47606</th>\n",
       "      <td>47694</td>\n",
       "      <td>2004</td>\n",
       "      <td>55.0</td>\n",
       "      <td>248.0</td>\n",
       "      <td>42.0</td>\n",
       "      <td>45.0</td>\n",
       "      <td>50.0</td>\n",
       "      <td>RECIFE</td>\n",
       "      <td>PE</td>\n",
       "      <td>BRASIL</td>\n",
       "      <td>...</td>\n",
       "      <td>Com dispensa</td>\n",
       "      <td>Urbana</td>\n",
       "      <td>JABOATAO DOS GUARARAPES</td>\n",
       "      <td>PE</td>\n",
       "      <td>BRASIL</td>\n",
       "      <td>21/82 - JABOATAO DOS GUARARAPES PRAZERES</td>\n",
       "      <td>JABOATAO DOS GUARARAPES</td>\n",
       "      <td>PE</td>\n",
       "      <td>Nordeste</td>\n",
       "      <td>Nordeste</td>\n",
       "    </tr>\n",
       "    <tr>\n",
       "      <th>136474</th>\n",
       "      <td>136750</td>\n",
       "      <td>2004</td>\n",
       "      <td>77.0</td>\n",
       "      <td>249.0</td>\n",
       "      <td>56.0</td>\n",
       "      <td>42.0</td>\n",
       "      <td>80.0</td>\n",
       "      <td>BRASILIA</td>\n",
       "      <td>DF</td>\n",
       "      <td>BRASIL</td>\n",
       "      <td>...</td>\n",
       "      <td>Sem dispensa</td>\n",
       "      <td>Urbana</td>\n",
       "      <td>BRASILIA</td>\n",
       "      <td>DF</td>\n",
       "      <td>BRASIL</td>\n",
       "      <td>7/201 - BRASILIA (PLANALTINA)</td>\n",
       "      <td>BRASILIA</td>\n",
       "      <td>DF</td>\n",
       "      <td>Centro-Oeste</td>\n",
       "      <td>Centro-Oeste</td>\n",
       "    </tr>\n",
       "    <tr>\n",
       "      <th>157535</th>\n",
       "      <td>157853</td>\n",
       "      <td>2004</td>\n",
       "      <td>58.0</td>\n",
       "      <td>250.0</td>\n",
       "      <td>59.0</td>\n",
       "      <td>41.0</td>\n",
       "      <td>86.0</td>\n",
       "      <td>PORTO ALEGRE</td>\n",
       "      <td>RS</td>\n",
       "      <td>BRASIL</td>\n",
       "      <td>...</td>\n",
       "      <td>Com dispensa</td>\n",
       "      <td>Urbana</td>\n",
       "      <td>VIAMAO</td>\n",
       "      <td>RS</td>\n",
       "      <td>BRASIL</td>\n",
       "      <td>8/75 - VIAMAO</td>\n",
       "      <td>VIAMAO</td>\n",
       "      <td>RS</td>\n",
       "      <td>Sul</td>\n",
       "      <td>Sul</td>\n",
       "    </tr>\n",
       "    <tr>\n",
       "      <th>162376</th>\n",
       "      <td>162706</td>\n",
       "      <td>2001</td>\n",
       "      <td>70.0</td>\n",
       "      <td>250.0</td>\n",
       "      <td>44.0</td>\n",
       "      <td>31.0</td>\n",
       "      <td>104.0</td>\n",
       "      <td>JABOATAO DOS GUARARAPES</td>\n",
       "      <td>PE</td>\n",
       "      <td>BRASIL</td>\n",
       "      <td>...</td>\n",
       "      <td>Com dispensa</td>\n",
       "      <td>Urbana</td>\n",
       "      <td>JABOATAO DOS GUARARAPES</td>\n",
       "      <td>PE</td>\n",
       "      <td>BRASIL</td>\n",
       "      <td>21/41 - JABOATAO DOS GUARARAPES</td>\n",
       "      <td>JABOATAO DOS GUARARAPES</td>\n",
       "      <td>PE</td>\n",
       "      <td>Nordeste</td>\n",
       "      <td>Nordeste</td>\n",
       "    </tr>\n",
       "    <tr>\n",
       "      <th>186217</th>\n",
       "      <td>186574</td>\n",
       "      <td>2003</td>\n",
       "      <td>55.0</td>\n",
       "      <td>250.0</td>\n",
       "      <td>41.0</td>\n",
       "      <td>30.0</td>\n",
       "      <td>53.0</td>\n",
       "      <td>RECIFE</td>\n",
       "      <td>PE</td>\n",
       "      <td>BRASIL</td>\n",
       "      <td>...</td>\n",
       "      <td>Com dispensa</td>\n",
       "      <td>Urbana</td>\n",
       "      <td>RECIFE</td>\n",
       "      <td>PE</td>\n",
       "      <td>BRASIL</td>\n",
       "      <td>21/76 - RECIFE COMPAZ EDUARDO CAMPOS</td>\n",
       "      <td>RECIFE</td>\n",
       "      <td>PE</td>\n",
       "      <td>Nordeste</td>\n",
       "      <td>Nordeste</td>\n",
       "    </tr>\n",
       "    <tr>\n",
       "      <th>299044</th>\n",
       "      <td>299590</td>\n",
       "      <td>2004</td>\n",
       "      <td>55.0</td>\n",
       "      <td>250.0</td>\n",
       "      <td>41.0</td>\n",
       "      <td>30.0</td>\n",
       "      <td>50.0</td>\n",
       "      <td>RIO DE JANEIRO</td>\n",
       "      <td>RJ</td>\n",
       "      <td>BRASIL</td>\n",
       "      <td>...</td>\n",
       "      <td>Com dispensa</td>\n",
       "      <td>Urbana</td>\n",
       "      <td>RIO DE JANEIRO</td>\n",
       "      <td>RJ</td>\n",
       "      <td>BRASIL</td>\n",
       "      <td>2/159 - RIO DE JANEIRO (BARRA DA TIJUCA)</td>\n",
       "      <td>RIO DE JANEIRO</td>\n",
       "      <td>RJ</td>\n",
       "      <td>Sudeste</td>\n",
       "      <td>Sudeste</td>\n",
       "    </tr>\n",
       "  </tbody>\n",
       "</table>\n",
       "<p>7 rows × 24 columns</p>\n",
       "</div>"
      ],
      "text/plain": [
       "        Unnamed: 0  ANO_NASCIMENTO  PESO  ALTURA  CABECA  CALCADO  CINTURA  \\\n",
       "26327        26390            2004  85.0   249.0    56.0     42.0     76.0   \n",
       "47606        47694            2004  55.0   248.0    42.0     45.0     50.0   \n",
       "136474      136750            2004  77.0   249.0    56.0     42.0     80.0   \n",
       "157535      157853            2004  58.0   250.0    59.0     41.0     86.0   \n",
       "162376      162706            2001  70.0   250.0    44.0     31.0    104.0   \n",
       "186217      186574            2003  55.0   250.0    41.0     30.0     53.0   \n",
       "299044      299590            2004  55.0   250.0    41.0     30.0     50.0   \n",
       "\n",
       "                 MUN_NASCIMENTO UF_NASCIMENTO PAIS_NASCIMENTO  ...  \\\n",
       "26327                   CAMAQUA            RS          BRASIL  ...   \n",
       "47606                    RECIFE            PE          BRASIL  ...   \n",
       "136474                 BRASILIA            DF          BRASIL  ...   \n",
       "157535             PORTO ALEGRE            RS          BRASIL  ...   \n",
       "162376  JABOATAO DOS GUARARAPES            PE          BRASIL  ...   \n",
       "186217                   RECIFE            PE          BRASIL  ...   \n",
       "299044           RIO DE JANEIRO            RJ          BRASIL  ...   \n",
       "\n",
       "            DISPENSA ZONA_RESIDENCIAL           MUN_RESIDENCIA  UF_RESIDENCIA  \\\n",
       "26327   Com dispensa           Urbana             PORTO ALEGRE             RS   \n",
       "47606   Com dispensa           Urbana  JABOATAO DOS GUARARAPES             PE   \n",
       "136474  Sem dispensa           Urbana                 BRASILIA             DF   \n",
       "157535  Com dispensa           Urbana                   VIAMAO             RS   \n",
       "162376  Com dispensa           Urbana  JABOATAO DOS GUARARAPES             PE   \n",
       "186217  Com dispensa           Urbana                   RECIFE             PE   \n",
       "299044  Com dispensa           Urbana           RIO DE JANEIRO             RJ   \n",
       "\n",
       "       PAIS_RESIDENCIA                                       JSM  \\\n",
       "26327           BRASIL                       8/50 - PORTO ALEGRE   \n",
       "47606           BRASIL  21/82 - JABOATAO DOS GUARARAPES PRAZERES   \n",
       "136474          BRASIL             7/201 - BRASILIA (PLANALTINA)   \n",
       "157535          BRASIL                             8/75 - VIAMAO   \n",
       "162376          BRASIL           21/41 - JABOATAO DOS GUARARAPES   \n",
       "186217          BRASIL      21/76 - RECIFE COMPAZ EDUARDO CAMPOS   \n",
       "299044          BRASIL  2/159 - RIO DE JANEIRO (BARRA DA TIJUCA)   \n",
       "\n",
       "                        MUN_JSM UF_JSM REGIAO_NASCIMENTO REGIAO_RESIDENCIA  \n",
       "26327              PORTO ALEGRE     RS               Sul               Sul  \n",
       "47606   JABOATAO DOS GUARARAPES     PE          Nordeste          Nordeste  \n",
       "136474                 BRASILIA     DF      Centro-Oeste      Centro-Oeste  \n",
       "157535                   VIAMAO     RS               Sul               Sul  \n",
       "162376  JABOATAO DOS GUARARAPES     PE          Nordeste          Nordeste  \n",
       "186217                   RECIFE     PE          Nordeste          Nordeste  \n",
       "299044           RIO DE JANEIRO     RJ           Sudeste           Sudeste  \n",
       "\n",
       "[7 rows x 24 columns]"
      ]
     },
     "execution_count": 31,
     "metadata": {},
     "output_type": "execute_result"
    }
   ],
   "source": [
    "df[(df['ALTURA'] >= 240)]"
   ]
  },
  {
   "cell_type": "code",
   "execution_count": 35,
   "id": "c73bc27f",
   "metadata": {},
   "outputs": [
    {
     "data": {
      "text/html": [
       "<div>\n",
       "<style scoped>\n",
       "    .dataframe tbody tr th:only-of-type {\n",
       "        vertical-align: middle;\n",
       "    }\n",
       "\n",
       "    .dataframe tbody tr th {\n",
       "        vertical-align: top;\n",
       "    }\n",
       "\n",
       "    .dataframe thead th {\n",
       "        text-align: right;\n",
       "    }\n",
       "</style>\n",
       "<table border=\"1\" class=\"dataframe\">\n",
       "  <thead>\n",
       "    <tr style=\"text-align: right;\">\n",
       "      <th></th>\n",
       "      <th>Unnamed: 0</th>\n",
       "      <th>ANO_NASCIMENTO</th>\n",
       "      <th>PESO</th>\n",
       "      <th>ALTURA</th>\n",
       "      <th>CABECA</th>\n",
       "      <th>CALCADO</th>\n",
       "      <th>CINTURA</th>\n",
       "      <th>MUN_NASCIMENTO</th>\n",
       "      <th>UF_NASCIMENTO</th>\n",
       "      <th>PAIS_NASCIMENTO</th>\n",
       "      <th>...</th>\n",
       "      <th>DISPENSA</th>\n",
       "      <th>ZONA_RESIDENCIAL</th>\n",
       "      <th>MUN_RESIDENCIA</th>\n",
       "      <th>UF_RESIDENCIA</th>\n",
       "      <th>PAIS_RESIDENCIA</th>\n",
       "      <th>JSM</th>\n",
       "      <th>MUN_JSM</th>\n",
       "      <th>UF_JSM</th>\n",
       "      <th>REGIAO_NASCIMENTO</th>\n",
       "      <th>REGIAO_RESIDENCIA</th>\n",
       "    </tr>\n",
       "  </thead>\n",
       "  <tbody>\n",
       "    <tr>\n",
       "      <th>148</th>\n",
       "      <td>156</td>\n",
       "      <td>2003</td>\n",
       "      <td>30.0</td>\n",
       "      <td>120.0</td>\n",
       "      <td>41.0</td>\n",
       "      <td>30.0</td>\n",
       "      <td>50.0</td>\n",
       "      <td>CANOAS</td>\n",
       "      <td>RS</td>\n",
       "      <td>BRASIL</td>\n",
       "      <td>...</td>\n",
       "      <td>Com dispensa</td>\n",
       "      <td>Urbana</td>\n",
       "      <td>CANOAS</td>\n",
       "      <td>RS</td>\n",
       "      <td>BRASIL</td>\n",
       "      <td>8/17 - CANOAS</td>\n",
       "      <td>CANOAS</td>\n",
       "      <td>RS</td>\n",
       "      <td>Sul</td>\n",
       "      <td>Sul</td>\n",
       "    </tr>\n",
       "    <tr>\n",
       "      <th>302</th>\n",
       "      <td>310</td>\n",
       "      <td>2003</td>\n",
       "      <td>30.0</td>\n",
       "      <td>120.0</td>\n",
       "      <td>41.0</td>\n",
       "      <td>30.0</td>\n",
       "      <td>50.0</td>\n",
       "      <td>CANOAS</td>\n",
       "      <td>RS</td>\n",
       "      <td>BRASIL</td>\n",
       "      <td>...</td>\n",
       "      <td>Com dispensa</td>\n",
       "      <td>Urbana</td>\n",
       "      <td>CANOAS</td>\n",
       "      <td>RS</td>\n",
       "      <td>BRASIL</td>\n",
       "      <td>8/17 - CANOAS</td>\n",
       "      <td>CANOAS</td>\n",
       "      <td>RS</td>\n",
       "      <td>Sul</td>\n",
       "      <td>Sul</td>\n",
       "    </tr>\n",
       "    <tr>\n",
       "      <th>1095</th>\n",
       "      <td>1103</td>\n",
       "      <td>2004</td>\n",
       "      <td>30.0</td>\n",
       "      <td>120.0</td>\n",
       "      <td>41.0</td>\n",
       "      <td>30.0</td>\n",
       "      <td>50.0</td>\n",
       "      <td>ARACAJU</td>\n",
       "      <td>SE</td>\n",
       "      <td>BRASIL</td>\n",
       "      <td>...</td>\n",
       "      <td>Com dispensa</td>\n",
       "      <td>Urbana</td>\n",
       "      <td>ARACAJU</td>\n",
       "      <td>SE</td>\n",
       "      <td>BRASIL</td>\n",
       "      <td>19/3 - ARACAJU</td>\n",
       "      <td>ARACAJU</td>\n",
       "      <td>SE</td>\n",
       "      <td>Nordeste</td>\n",
       "      <td>Nordeste</td>\n",
       "    </tr>\n",
       "    <tr>\n",
       "      <th>1245</th>\n",
       "      <td>1253</td>\n",
       "      <td>2002</td>\n",
       "      <td>30.0</td>\n",
       "      <td>120.0</td>\n",
       "      <td>41.0</td>\n",
       "      <td>30.0</td>\n",
       "      <td>50.0</td>\n",
       "      <td>ARARUAMA</td>\n",
       "      <td>RJ</td>\n",
       "      <td>BRASIL</td>\n",
       "      <td>...</td>\n",
       "      <td>Com dispensa</td>\n",
       "      <td>Urbana</td>\n",
       "      <td>RIO DE JANEIRO</td>\n",
       "      <td>RJ</td>\n",
       "      <td>BRASIL</td>\n",
       "      <td>2/113 - RIO DE JANEIRO (INHAUMA)</td>\n",
       "      <td>RIO DE JANEIRO</td>\n",
       "      <td>RJ</td>\n",
       "      <td>Sudeste</td>\n",
       "      <td>Sudeste</td>\n",
       "    </tr>\n",
       "    <tr>\n",
       "      <th>1552</th>\n",
       "      <td>1561</td>\n",
       "      <td>2001</td>\n",
       "      <td>30.0</td>\n",
       "      <td>120.0</td>\n",
       "      <td>41.0</td>\n",
       "      <td>30.0</td>\n",
       "      <td>50.0</td>\n",
       "      <td>FORTALEZA</td>\n",
       "      <td>CE</td>\n",
       "      <td>BRASIL</td>\n",
       "      <td>...</td>\n",
       "      <td>Com dispensa</td>\n",
       "      <td>Urbana</td>\n",
       "      <td>FORTALEZA</td>\n",
       "      <td>CE</td>\n",
       "      <td>BRASIL</td>\n",
       "      <td>25/143 - FORTALEZA (JOVITA FEITOSA)</td>\n",
       "      <td>FORTALEZA</td>\n",
       "      <td>CE</td>\n",
       "      <td>Nordeste</td>\n",
       "      <td>Nordeste</td>\n",
       "    </tr>\n",
       "    <tr>\n",
       "      <th>...</th>\n",
       "      <td>...</td>\n",
       "      <td>...</td>\n",
       "      <td>...</td>\n",
       "      <td>...</td>\n",
       "      <td>...</td>\n",
       "      <td>...</td>\n",
       "      <td>...</td>\n",
       "      <td>...</td>\n",
       "      <td>...</td>\n",
       "      <td>...</td>\n",
       "      <td>...</td>\n",
       "      <td>...</td>\n",
       "      <td>...</td>\n",
       "      <td>...</td>\n",
       "      <td>...</td>\n",
       "      <td>...</td>\n",
       "      <td>...</td>\n",
       "      <td>...</td>\n",
       "      <td>...</td>\n",
       "      <td>...</td>\n",
       "      <td>...</td>\n",
       "    </tr>\n",
       "    <tr>\n",
       "      <th>300279</th>\n",
       "      <td>300827</td>\n",
       "      <td>2002</td>\n",
       "      <td>30.0</td>\n",
       "      <td>120.0</td>\n",
       "      <td>41.0</td>\n",
       "      <td>30.0</td>\n",
       "      <td>50.0</td>\n",
       "      <td>MARITUBA</td>\n",
       "      <td>PA</td>\n",
       "      <td>BRASIL</td>\n",
       "      <td>...</td>\n",
       "      <td>Com dispensa</td>\n",
       "      <td>Urbana</td>\n",
       "      <td>JOINVILLE</td>\n",
       "      <td>SC</td>\n",
       "      <td>BRASIL</td>\n",
       "      <td>16/52 - JOINVILLE</td>\n",
       "      <td>JOINVILLE</td>\n",
       "      <td>SC</td>\n",
       "      <td>Norte</td>\n",
       "      <td>Sul</td>\n",
       "    </tr>\n",
       "    <tr>\n",
       "      <th>300347</th>\n",
       "      <td>300895</td>\n",
       "      <td>2004</td>\n",
       "      <td>30.0</td>\n",
       "      <td>120.0</td>\n",
       "      <td>41.0</td>\n",
       "      <td>30.0</td>\n",
       "      <td>50.0</td>\n",
       "      <td>GETULIO VARGAS</td>\n",
       "      <td>RS</td>\n",
       "      <td>BRASIL</td>\n",
       "      <td>...</td>\n",
       "      <td>Com dispensa</td>\n",
       "      <td>Urbana</td>\n",
       "      <td>GETULIO VARGAS</td>\n",
       "      <td>RS</td>\n",
       "      <td>BRASIL</td>\n",
       "      <td>10/31 - GETULIO VARGAS</td>\n",
       "      <td>GETULIO VARGAS</td>\n",
       "      <td>RS</td>\n",
       "      <td>Sul</td>\n",
       "      <td>Sul</td>\n",
       "    </tr>\n",
       "    <tr>\n",
       "      <th>300602</th>\n",
       "      <td>301151</td>\n",
       "      <td>2001</td>\n",
       "      <td>30.0</td>\n",
       "      <td>120.0</td>\n",
       "      <td>41.0</td>\n",
       "      <td>30.0</td>\n",
       "      <td>50.0</td>\n",
       "      <td>PORTO ALEGRE</td>\n",
       "      <td>RS</td>\n",
       "      <td>BRASIL</td>\n",
       "      <td>...</td>\n",
       "      <td>Com dispensa</td>\n",
       "      <td>Urbana</td>\n",
       "      <td>PORTO ALEGRE</td>\n",
       "      <td>RS</td>\n",
       "      <td>BRASIL</td>\n",
       "      <td>8/50 - PORTO ALEGRE</td>\n",
       "      <td>PORTO ALEGRE</td>\n",
       "      <td>RS</td>\n",
       "      <td>Sul</td>\n",
       "      <td>Sul</td>\n",
       "    </tr>\n",
       "    <tr>\n",
       "      <th>300606</th>\n",
       "      <td>301155</td>\n",
       "      <td>2002</td>\n",
       "      <td>30.0</td>\n",
       "      <td>120.0</td>\n",
       "      <td>41.0</td>\n",
       "      <td>30.0</td>\n",
       "      <td>50.0</td>\n",
       "      <td>RIO DE JANEIRO</td>\n",
       "      <td>RJ</td>\n",
       "      <td>BRASIL</td>\n",
       "      <td>...</td>\n",
       "      <td>Com dispensa</td>\n",
       "      <td>Urbana</td>\n",
       "      <td>RIO DE JANEIRO</td>\n",
       "      <td>RJ</td>\n",
       "      <td>BRASIL</td>\n",
       "      <td>2/115 - RIO DE JANEIRO (ENGENHO NOVO)</td>\n",
       "      <td>RIO DE JANEIRO</td>\n",
       "      <td>RJ</td>\n",
       "      <td>Sudeste</td>\n",
       "      <td>Sudeste</td>\n",
       "    </tr>\n",
       "    <tr>\n",
       "      <th>300724</th>\n",
       "      <td>301273</td>\n",
       "      <td>2004</td>\n",
       "      <td>70.0</td>\n",
       "      <td>120.0</td>\n",
       "      <td>41.0</td>\n",
       "      <td>30.0</td>\n",
       "      <td>50.0</td>\n",
       "      <td>SANTA LUZIA</td>\n",
       "      <td>MG</td>\n",
       "      <td>BRASIL</td>\n",
       "      <td>...</td>\n",
       "      <td>Com dispensa</td>\n",
       "      <td>Urbana</td>\n",
       "      <td>SANTA LUZIA</td>\n",
       "      <td>MG</td>\n",
       "      <td>BRASIL</td>\n",
       "      <td>11/226 - SANTA LUZIA</td>\n",
       "      <td>SANTA LUZIA</td>\n",
       "      <td>MG</td>\n",
       "      <td>Sudeste</td>\n",
       "      <td>Sudeste</td>\n",
       "    </tr>\n",
       "  </tbody>\n",
       "</table>\n",
       "<p>3019 rows × 24 columns</p>\n",
       "</div>"
      ],
      "text/plain": [
       "        Unnamed: 0  ANO_NASCIMENTO  PESO  ALTURA  CABECA  CALCADO  CINTURA  \\\n",
       "148            156            2003  30.0   120.0    41.0     30.0     50.0   \n",
       "302            310            2003  30.0   120.0    41.0     30.0     50.0   \n",
       "1095          1103            2004  30.0   120.0    41.0     30.0     50.0   \n",
       "1245          1253            2002  30.0   120.0    41.0     30.0     50.0   \n",
       "1552          1561            2001  30.0   120.0    41.0     30.0     50.0   \n",
       "...            ...             ...   ...     ...     ...      ...      ...   \n",
       "300279      300827            2002  30.0   120.0    41.0     30.0     50.0   \n",
       "300347      300895            2004  30.0   120.0    41.0     30.0     50.0   \n",
       "300602      301151            2001  30.0   120.0    41.0     30.0     50.0   \n",
       "300606      301155            2002  30.0   120.0    41.0     30.0     50.0   \n",
       "300724      301273            2004  70.0   120.0    41.0     30.0     50.0   \n",
       "\n",
       "        MUN_NASCIMENTO UF_NASCIMENTO PAIS_NASCIMENTO  ...      DISPENSA  \\\n",
       "148             CANOAS            RS          BRASIL  ...  Com dispensa   \n",
       "302             CANOAS            RS          BRASIL  ...  Com dispensa   \n",
       "1095           ARACAJU            SE          BRASIL  ...  Com dispensa   \n",
       "1245          ARARUAMA            RJ          BRASIL  ...  Com dispensa   \n",
       "1552         FORTALEZA            CE          BRASIL  ...  Com dispensa   \n",
       "...                ...           ...             ...  ...           ...   \n",
       "300279        MARITUBA            PA          BRASIL  ...  Com dispensa   \n",
       "300347  GETULIO VARGAS            RS          BRASIL  ...  Com dispensa   \n",
       "300602    PORTO ALEGRE            RS          BRASIL  ...  Com dispensa   \n",
       "300606  RIO DE JANEIRO            RJ          BRASIL  ...  Com dispensa   \n",
       "300724     SANTA LUZIA            MG          BRASIL  ...  Com dispensa   \n",
       "\n",
       "       ZONA_RESIDENCIAL  MUN_RESIDENCIA  UF_RESIDENCIA PAIS_RESIDENCIA  \\\n",
       "148              Urbana          CANOAS             RS          BRASIL   \n",
       "302              Urbana          CANOAS             RS          BRASIL   \n",
       "1095             Urbana         ARACAJU             SE          BRASIL   \n",
       "1245             Urbana  RIO DE JANEIRO             RJ          BRASIL   \n",
       "1552             Urbana       FORTALEZA             CE          BRASIL   \n",
       "...                 ...             ...            ...             ...   \n",
       "300279           Urbana       JOINVILLE             SC          BRASIL   \n",
       "300347           Urbana  GETULIO VARGAS             RS          BRASIL   \n",
       "300602           Urbana    PORTO ALEGRE             RS          BRASIL   \n",
       "300606           Urbana  RIO DE JANEIRO             RJ          BRASIL   \n",
       "300724           Urbana     SANTA LUZIA             MG          BRASIL   \n",
       "\n",
       "                                          JSM         MUN_JSM UF_JSM  \\\n",
       "148                             8/17 - CANOAS          CANOAS     RS   \n",
       "302                             8/17 - CANOAS          CANOAS     RS   \n",
       "1095                           19/3 - ARACAJU         ARACAJU     SE   \n",
       "1245         2/113 - RIO DE JANEIRO (INHAUMA)  RIO DE JANEIRO     RJ   \n",
       "1552      25/143 - FORTALEZA (JOVITA FEITOSA)       FORTALEZA     CE   \n",
       "...                                       ...             ...    ...   \n",
       "300279                      16/52 - JOINVILLE       JOINVILLE     SC   \n",
       "300347                 10/31 - GETULIO VARGAS  GETULIO VARGAS     RS   \n",
       "300602                    8/50 - PORTO ALEGRE    PORTO ALEGRE     RS   \n",
       "300606  2/115 - RIO DE JANEIRO (ENGENHO NOVO)  RIO DE JANEIRO     RJ   \n",
       "300724                   11/226 - SANTA LUZIA     SANTA LUZIA     MG   \n",
       "\n",
       "       REGIAO_NASCIMENTO REGIAO_RESIDENCIA  \n",
       "148                  Sul               Sul  \n",
       "302                  Sul               Sul  \n",
       "1095            Nordeste          Nordeste  \n",
       "1245             Sudeste           Sudeste  \n",
       "1552            Nordeste          Nordeste  \n",
       "...                  ...               ...  \n",
       "300279             Norte               Sul  \n",
       "300347               Sul               Sul  \n",
       "300602               Sul               Sul  \n",
       "300606           Sudeste           Sudeste  \n",
       "300724           Sudeste           Sudeste  \n",
       "\n",
       "[3019 rows x 24 columns]"
      ]
     },
     "execution_count": 35,
     "metadata": {},
     "output_type": "execute_result"
    }
   ],
   "source": [
    "df[(df['ALTURA'] <= 140)]"
   ]
  },
  {
   "cell_type": "code",
   "execution_count": 8,
   "id": "3998299d",
   "metadata": {
    "scrolled": false
   },
   "outputs": [
    {
     "data": {
      "text/html": [
       "<div>\n",
       "<style scoped>\n",
       "    .dataframe tbody tr th:only-of-type {\n",
       "        vertical-align: middle;\n",
       "    }\n",
       "\n",
       "    .dataframe tbody tr th {\n",
       "        vertical-align: top;\n",
       "    }\n",
       "\n",
       "    .dataframe thead th {\n",
       "        text-align: right;\n",
       "    }\n",
       "</style>\n",
       "<table border=\"1\" class=\"dataframe\">\n",
       "  <thead>\n",
       "    <tr style=\"text-align: right;\">\n",
       "      <th></th>\n",
       "      <th>Unnamed: 0</th>\n",
       "      <th>ANO_NASCIMENTO</th>\n",
       "      <th>PESO</th>\n",
       "      <th>ALTURA</th>\n",
       "      <th>CABECA</th>\n",
       "      <th>CALCADO</th>\n",
       "      <th>CINTURA</th>\n",
       "      <th>VINCULACAO_ANO</th>\n",
       "    </tr>\n",
       "  </thead>\n",
       "  <tbody>\n",
       "    <tr>\n",
       "      <th>count</th>\n",
       "      <td>7.00</td>\n",
       "      <td>7.00</td>\n",
       "      <td>7.00</td>\n",
       "      <td>7.00</td>\n",
       "      <td>7.00</td>\n",
       "      <td>7.00</td>\n",
       "      <td>7.00</td>\n",
       "      <td>7.0</td>\n",
       "    </tr>\n",
       "    <tr>\n",
       "      <th>mean</th>\n",
       "      <td>145365.29</td>\n",
       "      <td>2003.43</td>\n",
       "      <td>65.00</td>\n",
       "      <td>249.43</td>\n",
       "      <td>48.43</td>\n",
       "      <td>37.29</td>\n",
       "      <td>71.29</td>\n",
       "      <td>2022.0</td>\n",
       "    </tr>\n",
       "    <tr>\n",
       "      <th>std</th>\n",
       "      <td>91021.14</td>\n",
       "      <td>1.13</td>\n",
       "      <td>12.37</td>\n",
       "      <td>0.79</td>\n",
       "      <td>8.14</td>\n",
       "      <td>6.63</td>\n",
       "      <td>20.92</td>\n",
       "      <td>0.0</td>\n",
       "    </tr>\n",
       "    <tr>\n",
       "      <th>min</th>\n",
       "      <td>26390.00</td>\n",
       "      <td>2001.00</td>\n",
       "      <td>55.00</td>\n",
       "      <td>248.00</td>\n",
       "      <td>41.00</td>\n",
       "      <td>30.00</td>\n",
       "      <td>50.00</td>\n",
       "      <td>2022.0</td>\n",
       "    </tr>\n",
       "    <tr>\n",
       "      <th>25%</th>\n",
       "      <td>92222.00</td>\n",
       "      <td>2003.50</td>\n",
       "      <td>55.00</td>\n",
       "      <td>249.00</td>\n",
       "      <td>41.50</td>\n",
       "      <td>30.50</td>\n",
       "      <td>51.50</td>\n",
       "      <td>2022.0</td>\n",
       "    </tr>\n",
       "    <tr>\n",
       "      <th>50%</th>\n",
       "      <td>157853.00</td>\n",
       "      <td>2004.00</td>\n",
       "      <td>58.00</td>\n",
       "      <td>250.00</td>\n",
       "      <td>44.00</td>\n",
       "      <td>41.00</td>\n",
       "      <td>76.00</td>\n",
       "      <td>2022.0</td>\n",
       "    </tr>\n",
       "    <tr>\n",
       "      <th>75%</th>\n",
       "      <td>174640.00</td>\n",
       "      <td>2004.00</td>\n",
       "      <td>73.50</td>\n",
       "      <td>250.00</td>\n",
       "      <td>56.00</td>\n",
       "      <td>42.00</td>\n",
       "      <td>83.00</td>\n",
       "      <td>2022.0</td>\n",
       "    </tr>\n",
       "    <tr>\n",
       "      <th>max</th>\n",
       "      <td>299590.00</td>\n",
       "      <td>2004.00</td>\n",
       "      <td>85.00</td>\n",
       "      <td>250.00</td>\n",
       "      <td>59.00</td>\n",
       "      <td>45.00</td>\n",
       "      <td>104.00</td>\n",
       "      <td>2022.0</td>\n",
       "    </tr>\n",
       "  </tbody>\n",
       "</table>\n",
       "</div>"
      ],
      "text/plain": [
       "       Unnamed: 0  ANO_NASCIMENTO   PESO  ALTURA  CABECA  CALCADO  CINTURA  \\\n",
       "count        7.00            7.00   7.00    7.00    7.00     7.00     7.00   \n",
       "mean    145365.29         2003.43  65.00  249.43   48.43    37.29    71.29   \n",
       "std      91021.14            1.13  12.37    0.79    8.14     6.63    20.92   \n",
       "min      26390.00         2001.00  55.00  248.00   41.00    30.00    50.00   \n",
       "25%      92222.00         2003.50  55.00  249.00   41.50    30.50    51.50   \n",
       "50%     157853.00         2004.00  58.00  250.00   44.00    41.00    76.00   \n",
       "75%     174640.00         2004.00  73.50  250.00   56.00    42.00    83.00   \n",
       "max     299590.00         2004.00  85.00  250.00   59.00    45.00   104.00   \n",
       "\n",
       "       VINCULACAO_ANO  \n",
       "count             7.0  \n",
       "mean           2022.0  \n",
       "std               0.0  \n",
       "min            2022.0  \n",
       "25%            2022.0  \n",
       "50%            2022.0  \n",
       "75%            2022.0  \n",
       "max            2022.0  "
      ]
     },
     "execution_count": 8,
     "metadata": {},
     "output_type": "execute_result"
    }
   ],
   "source": [
    "# ALTURA x CALCADO\n",
    "\n",
    "round(df[(df['ALTURA'] >= 240)].describe(), 2)"
   ]
  },
  {
   "cell_type": "markdown",
   "id": "2061a393",
   "metadata": {},
   "source": [
    "Na tabela acima vemos que a média do calçado das pessoas com mais de 2,4m é 37,29, **o que demonstra algum erro na prospecção dos dados.**"
   ]
  },
  {
   "cell_type": "code",
   "execution_count": 28,
   "id": "857743ce",
   "metadata": {
    "scrolled": true
   },
   "outputs": [
    {
     "data": {
      "text/html": [
       "<div>\n",
       "<style scoped>\n",
       "    .dataframe tbody tr th:only-of-type {\n",
       "        vertical-align: middle;\n",
       "    }\n",
       "\n",
       "    .dataframe tbody tr th {\n",
       "        vertical-align: top;\n",
       "    }\n",
       "\n",
       "    .dataframe thead th {\n",
       "        text-align: right;\n",
       "    }\n",
       "</style>\n",
       "<table border=\"1\" class=\"dataframe\">\n",
       "  <thead>\n",
       "    <tr style=\"text-align: right;\">\n",
       "      <th></th>\n",
       "      <th>Unnamed: 0</th>\n",
       "      <th>ANO_NASCIMENTO</th>\n",
       "      <th>PESO</th>\n",
       "      <th>ALTURA</th>\n",
       "      <th>CABECA</th>\n",
       "      <th>CALCADO</th>\n",
       "      <th>CINTURA</th>\n",
       "      <th>VINCULACAO_ANO</th>\n",
       "    </tr>\n",
       "  </thead>\n",
       "  <tbody>\n",
       "    <tr>\n",
       "      <th>count</th>\n",
       "      <td>3019.00</td>\n",
       "      <td>3019.00</td>\n",
       "      <td>3019.00</td>\n",
       "      <td>3019.00</td>\n",
       "      <td>3019.00</td>\n",
       "      <td>3019.00</td>\n",
       "      <td>3019.00</td>\n",
       "      <td>3019.0</td>\n",
       "    </tr>\n",
       "    <tr>\n",
       "      <th>mean</th>\n",
       "      <td>152598.30</td>\n",
       "      <td>2002.25</td>\n",
       "      <td>30.37</td>\n",
       "      <td>120.00</td>\n",
       "      <td>41.10</td>\n",
       "      <td>30.08</td>\n",
       "      <td>50.16</td>\n",
       "      <td>2022.0</td>\n",
       "    </tr>\n",
       "    <tr>\n",
       "      <th>std</th>\n",
       "      <td>84915.91</td>\n",
       "      <td>1.46</td>\n",
       "      <td>4.71</td>\n",
       "      <td>0.04</td>\n",
       "      <td>1.22</td>\n",
       "      <td>0.92</td>\n",
       "      <td>2.23</td>\n",
       "      <td>0.0</td>\n",
       "    </tr>\n",
       "    <tr>\n",
       "      <th>min</th>\n",
       "      <td>156.00</td>\n",
       "      <td>1979.00</td>\n",
       "      <td>30.00</td>\n",
       "      <td>120.00</td>\n",
       "      <td>41.00</td>\n",
       "      <td>30.00</td>\n",
       "      <td>50.00</td>\n",
       "      <td>2022.0</td>\n",
       "    </tr>\n",
       "    <tr>\n",
       "      <th>25%</th>\n",
       "      <td>77867.00</td>\n",
       "      <td>2001.00</td>\n",
       "      <td>30.00</td>\n",
       "      <td>120.00</td>\n",
       "      <td>41.00</td>\n",
       "      <td>30.00</td>\n",
       "      <td>50.00</td>\n",
       "      <td>2022.0</td>\n",
       "    </tr>\n",
       "    <tr>\n",
       "      <th>50%</th>\n",
       "      <td>156827.00</td>\n",
       "      <td>2003.00</td>\n",
       "      <td>30.00</td>\n",
       "      <td>120.00</td>\n",
       "      <td>41.00</td>\n",
       "      <td>30.00</td>\n",
       "      <td>50.00</td>\n",
       "      <td>2022.0</td>\n",
       "    </tr>\n",
       "    <tr>\n",
       "      <th>75%</th>\n",
       "      <td>222202.50</td>\n",
       "      <td>2004.00</td>\n",
       "      <td>30.00</td>\n",
       "      <td>120.00</td>\n",
       "      <td>41.00</td>\n",
       "      <td>30.00</td>\n",
       "      <td>50.00</td>\n",
       "      <td>2022.0</td>\n",
       "    </tr>\n",
       "    <tr>\n",
       "      <th>max</th>\n",
       "      <td>301273.00</td>\n",
       "      <td>2006.00</td>\n",
       "      <td>178.00</td>\n",
       "      <td>121.00</td>\n",
       "      <td>60.00</td>\n",
       "      <td>46.00</td>\n",
       "      <td>109.00</td>\n",
       "      <td>2022.0</td>\n",
       "    </tr>\n",
       "  </tbody>\n",
       "</table>\n",
       "</div>"
      ],
      "text/plain": [
       "       Unnamed: 0  ANO_NASCIMENTO     PESO   ALTURA   CABECA  CALCADO  \\\n",
       "count     3019.00         3019.00  3019.00  3019.00  3019.00  3019.00   \n",
       "mean    152598.30         2002.25    30.37   120.00    41.10    30.08   \n",
       "std      84915.91            1.46     4.71     0.04     1.22     0.92   \n",
       "min        156.00         1979.00    30.00   120.00    41.00    30.00   \n",
       "25%      77867.00         2001.00    30.00   120.00    41.00    30.00   \n",
       "50%     156827.00         2003.00    30.00   120.00    41.00    30.00   \n",
       "75%     222202.50         2004.00    30.00   120.00    41.00    30.00   \n",
       "max     301273.00         2006.00   178.00   121.00    60.00    46.00   \n",
       "\n",
       "       CINTURA  VINCULACAO_ANO  \n",
       "count  3019.00          3019.0  \n",
       "mean     50.16          2022.0  \n",
       "std       2.23             0.0  \n",
       "min      50.00          2022.0  \n",
       "25%      50.00          2022.0  \n",
       "50%      50.00          2022.0  \n",
       "75%      50.00          2022.0  \n",
       "max     109.00          2022.0  "
      ]
     },
     "execution_count": 28,
     "metadata": {},
     "output_type": "execute_result"
    }
   ],
   "source": [
    "round(df[(df['ALTURA'] <= 140)].describe(), 2)"
   ]
  },
  {
   "cell_type": "code",
   "execution_count": 36,
   "id": "feafff97",
   "metadata": {
    "scrolled": true
   },
   "outputs": [
    {
     "data": {
      "text/plain": [
       "REGIAO_NASCIMENTO  ALTURA\n",
       "Nordeste           120.0     1233\n",
       "Sul                120.0      810\n",
       "Sudeste            120.0      528\n",
       "Norte              120.0      226\n",
       "Centro-Oeste       120.0      213\n",
       "                   121.0        2\n",
       "Norte              121.0        2\n",
       "Sul                121.0        1\n",
       "Name: count, dtype: int64"
      ]
     },
     "execution_count": 36,
     "metadata": {},
     "output_type": "execute_result"
    }
   ],
   "source": [
    "df[['REGIAO_NASCIMENTO', 'ALTURA']][df['ALTURA'] <= 140].value_counts()"
   ]
  },
  {
   "cell_type": "code",
   "execution_count": 45,
   "id": "7361dfac",
   "metadata": {
    "scrolled": true
   },
   "outputs": [
    {
     "data": {
      "text/plain": [
       "REGIAO_NASCIMENTO  ALTURA\n",
       "Nordeste           250.0     2\n",
       "Centro-Oeste       249.0     1\n",
       "Nordeste           248.0     1\n",
       "Sudeste            250.0     1\n",
       "Sul                249.0     1\n",
       "                   250.0     1\n",
       "Name: count, dtype: int64"
      ]
     },
     "execution_count": 45,
     "metadata": {},
     "output_type": "execute_result"
    }
   ],
   "source": [
    "df[['REGIAO_NASCIMENTO', 'ALTURA']][df['ALTURA'] > 240].value_counts()"
   ]
  },
  {
   "cell_type": "markdown",
   "id": "1607e5bf",
   "metadata": {},
   "source": [
    "### Criando uma coluna com a idade dos alistados no ano que se alistaram"
   ]
  },
  {
   "cell_type": "code",
   "execution_count": 37,
   "id": "aa81a5af",
   "metadata": {},
   "outputs": [],
   "source": [
    "df['IDADE_ALISTADO'] = df['VINCULACAO_ANO'] - df['ANO_NASCIMENTO']"
   ]
  },
  {
   "cell_type": "markdown",
   "id": "46dbbdaa",
   "metadata": {},
   "source": [
    "### Conferindo alistados acima de 28 anos"
   ]
  },
  {
   "cell_type": "code",
   "execution_count": 40,
   "id": "ae2621a3",
   "metadata": {
    "scrolled": false
   },
   "outputs": [
    {
     "data": {
      "text/html": [
       "<div>\n",
       "<style scoped>\n",
       "    .dataframe tbody tr th:only-of-type {\n",
       "        vertical-align: middle;\n",
       "    }\n",
       "\n",
       "    .dataframe tbody tr th {\n",
       "        vertical-align: top;\n",
       "    }\n",
       "\n",
       "    .dataframe thead th {\n",
       "        text-align: right;\n",
       "    }\n",
       "</style>\n",
       "<table border=\"1\" class=\"dataframe\">\n",
       "  <thead>\n",
       "    <tr style=\"text-align: right;\">\n",
       "      <th></th>\n",
       "      <th>MUN_NASCIMENTO</th>\n",
       "      <th>IDADE_ALISTADO</th>\n",
       "    </tr>\n",
       "  </thead>\n",
       "  <tbody>\n",
       "    <tr>\n",
       "      <th>1</th>\n",
       "      <td>PORTO ALEGRE</td>\n",
       "      <td>48</td>\n",
       "    </tr>\n",
       "    <tr>\n",
       "      <th>7650</th>\n",
       "      <td>NOVO HAMBURGO</td>\n",
       "      <td>30</td>\n",
       "    </tr>\n",
       "    <tr>\n",
       "      <th>16681</th>\n",
       "      <td>DUQUE DE CAXIAS</td>\n",
       "      <td>39</td>\n",
       "    </tr>\n",
       "    <tr>\n",
       "      <th>16682</th>\n",
       "      <td>TUPARENDI</td>\n",
       "      <td>30</td>\n",
       "    </tr>\n",
       "    <tr>\n",
       "      <th>26096</th>\n",
       "      <td>SANTA VITORIA DO PALMAR</td>\n",
       "      <td>31</td>\n",
       "    </tr>\n",
       "    <tr>\n",
       "      <th>32691</th>\n",
       "      <td>SARANDI</td>\n",
       "      <td>33</td>\n",
       "    </tr>\n",
       "    <tr>\n",
       "      <th>32824</th>\n",
       "      <td>MARABA</td>\n",
       "      <td>33</td>\n",
       "    </tr>\n",
       "    <tr>\n",
       "      <th>56651</th>\n",
       "      <td>CURITIBA</td>\n",
       "      <td>30</td>\n",
       "    </tr>\n",
       "    <tr>\n",
       "      <th>91970</th>\n",
       "      <td>ANAPOLIS</td>\n",
       "      <td>43</td>\n",
       "    </tr>\n",
       "    <tr>\n",
       "      <th>112777</th>\n",
       "      <td>PINDAMONHANGABA</td>\n",
       "      <td>33</td>\n",
       "    </tr>\n",
       "    <tr>\n",
       "      <th>115705</th>\n",
       "      <td>SANTA ROSA</td>\n",
       "      <td>32</td>\n",
       "    </tr>\n",
       "    <tr>\n",
       "      <th>133219</th>\n",
       "      <td>GOIANIA</td>\n",
       "      <td>29</td>\n",
       "    </tr>\n",
       "    <tr>\n",
       "      <th>133220</th>\n",
       "      <td>GRAVATAI</td>\n",
       "      <td>29</td>\n",
       "    </tr>\n",
       "    <tr>\n",
       "      <th>133330</th>\n",
       "      <td>LAJEADO</td>\n",
       "      <td>29</td>\n",
       "    </tr>\n",
       "    <tr>\n",
       "      <th>134037</th>\n",
       "      <td>PORTO ALEGRE</td>\n",
       "      <td>34</td>\n",
       "    </tr>\n",
       "    <tr>\n",
       "      <th>152389</th>\n",
       "      <td>PELOTAS</td>\n",
       "      <td>33</td>\n",
       "    </tr>\n",
       "    <tr>\n",
       "      <th>160795</th>\n",
       "      <td>MUANA</td>\n",
       "      <td>97</td>\n",
       "    </tr>\n",
       "  </tbody>\n",
       "</table>\n",
       "</div>"
      ],
      "text/plain": [
       "                 MUN_NASCIMENTO  IDADE_ALISTADO\n",
       "1                  PORTO ALEGRE              48\n",
       "7650              NOVO HAMBURGO              30\n",
       "16681           DUQUE DE CAXIAS              39\n",
       "16682                 TUPARENDI              30\n",
       "26096   SANTA VITORIA DO PALMAR              31\n",
       "32691                   SARANDI              33\n",
       "32824                    MARABA              33\n",
       "56651                  CURITIBA              30\n",
       "91970                  ANAPOLIS              43\n",
       "112777          PINDAMONHANGABA              33\n",
       "115705               SANTA ROSA              32\n",
       "133219                  GOIANIA              29\n",
       "133220                 GRAVATAI              29\n",
       "133330                  LAJEADO              29\n",
       "134037             PORTO ALEGRE              34\n",
       "152389                  PELOTAS              33\n",
       "160795                    MUANA              97"
      ]
     },
     "execution_count": 40,
     "metadata": {},
     "output_type": "execute_result"
    }
   ],
   "source": [
    "alistados_25 = df.loc[df['IDADE_ALISTADO'] >= 28, ['MUN_NASCIMENTO','IDADE_ALISTADO']]\n",
    "alistados_25"
   ]
  },
  {
   "cell_type": "markdown",
   "id": "e6b9ca4b",
   "metadata": {},
   "source": [
    "### Dispensa Automática ( idade >= 28 anos ou altura < 1,60 m)"
   ]
  },
  {
   "cell_type": "code",
   "execution_count": 42,
   "id": "d90bfe90",
   "metadata": {},
   "outputs": [
    {
     "data": {
      "text/plain": [
       "0         M\n",
       "1         M\n",
       "2         M\n",
       "3         M\n",
       "4         M\n",
       "         ..\n",
       "300909    M\n",
       "300910    M\n",
       "300911    M\n",
       "300912    M\n",
       "300913    M\n",
       "Name: SEXO, Length: 300914, dtype: object"
      ]
     },
     "execution_count": 42,
     "metadata": {},
     "output_type": "execute_result"
    }
   ],
   "source": [
    "df['SEXO']"
   ]
  },
  {
   "cell_type": "markdown",
   "id": "87c89862",
   "metadata": {},
   "source": [
    "###  Dispensa Automática não realizada\n",
    "\n",
    "####  - Mulher dispensada automaticamente: menor que 1,55m de altura ou com idade maior que 28 anos.\n",
    "####  - Homem dispensado automaticamente: menor que 1,6m de altura ou com idade maior que 28 anos.\n"
   ]
  },
  {
   "cell_type": "code",
   "execution_count": 51,
   "id": "f4efe6f6",
   "metadata": {
    "scrolled": false
   },
   "outputs": [
    {
     "data": {
      "text/html": [
       "<div>\n",
       "<style scoped>\n",
       "    .dataframe tbody tr th:only-of-type {\n",
       "        vertical-align: middle;\n",
       "    }\n",
       "\n",
       "    .dataframe tbody tr th {\n",
       "        vertical-align: top;\n",
       "    }\n",
       "\n",
       "    .dataframe thead th {\n",
       "        text-align: right;\n",
       "    }\n",
       "</style>\n",
       "<table border=\"1\" class=\"dataframe\">\n",
       "  <thead>\n",
       "    <tr style=\"text-align: right;\">\n",
       "      <th></th>\n",
       "      <th>DISPENSA</th>\n",
       "      <th>SEXO</th>\n",
       "      <th>ALTURA</th>\n",
       "      <th>IDADE_ALISTADO</th>\n",
       "    </tr>\n",
       "  </thead>\n",
       "  <tbody>\n",
       "    <tr>\n",
       "      <th>197</th>\n",
       "      <td>Sem dispensa</td>\n",
       "      <td>M</td>\n",
       "      <td>156.0</td>\n",
       "      <td>20</td>\n",
       "    </tr>\n",
       "    <tr>\n",
       "      <th>363</th>\n",
       "      <td>Sem dispensa</td>\n",
       "      <td>M</td>\n",
       "      <td>159.0</td>\n",
       "      <td>20</td>\n",
       "    </tr>\n",
       "    <tr>\n",
       "      <th>518</th>\n",
       "      <td>Sem dispensa</td>\n",
       "      <td>M</td>\n",
       "      <td>155.0</td>\n",
       "      <td>19</td>\n",
       "    </tr>\n",
       "    <tr>\n",
       "      <th>564</th>\n",
       "      <td>Sem dispensa</td>\n",
       "      <td>M</td>\n",
       "      <td>155.0</td>\n",
       "      <td>20</td>\n",
       "    </tr>\n",
       "    <tr>\n",
       "      <th>1109</th>\n",
       "      <td>Sem dispensa</td>\n",
       "      <td>M</td>\n",
       "      <td>159.0</td>\n",
       "      <td>18</td>\n",
       "    </tr>\n",
       "    <tr>\n",
       "      <th>...</th>\n",
       "      <td>...</td>\n",
       "      <td>...</td>\n",
       "      <td>...</td>\n",
       "      <td>...</td>\n",
       "    </tr>\n",
       "    <tr>\n",
       "      <th>300322</th>\n",
       "      <td>Sem dispensa</td>\n",
       "      <td>M</td>\n",
       "      <td>155.0</td>\n",
       "      <td>18</td>\n",
       "    </tr>\n",
       "    <tr>\n",
       "      <th>300493</th>\n",
       "      <td>Sem dispensa</td>\n",
       "      <td>M</td>\n",
       "      <td>159.0</td>\n",
       "      <td>19</td>\n",
       "    </tr>\n",
       "    <tr>\n",
       "      <th>300780</th>\n",
       "      <td>Sem dispensa</td>\n",
       "      <td>M</td>\n",
       "      <td>155.0</td>\n",
       "      <td>18</td>\n",
       "    </tr>\n",
       "    <tr>\n",
       "      <th>300829</th>\n",
       "      <td>Sem dispensa</td>\n",
       "      <td>M</td>\n",
       "      <td>159.0</td>\n",
       "      <td>18</td>\n",
       "    </tr>\n",
       "    <tr>\n",
       "      <th>300853</th>\n",
       "      <td>Sem dispensa</td>\n",
       "      <td>M</td>\n",
       "      <td>155.0</td>\n",
       "      <td>18</td>\n",
       "    </tr>\n",
       "  </tbody>\n",
       "</table>\n",
       "<p>1514 rows × 4 columns</p>\n",
       "</div>"
      ],
      "text/plain": [
       "            DISPENSA SEXO  ALTURA  IDADE_ALISTADO\n",
       "197     Sem dispensa    M   156.0              20\n",
       "363     Sem dispensa    M   159.0              20\n",
       "518     Sem dispensa    M   155.0              19\n",
       "564     Sem dispensa    M   155.0              20\n",
       "1109    Sem dispensa    M   159.0              18\n",
       "...              ...  ...     ...             ...\n",
       "300322  Sem dispensa    M   155.0              18\n",
       "300493  Sem dispensa    M   159.0              19\n",
       "300780  Sem dispensa    M   155.0              18\n",
       "300829  Sem dispensa    M   159.0              18\n",
       "300853  Sem dispensa    M   155.0              18\n",
       "\n",
       "[1514 rows x 4 columns]"
      ]
     },
     "execution_count": 51,
     "metadata": {},
     "output_type": "execute_result"
    }
   ],
   "source": [
    "df[['DISPENSA', 'SEXO', 'ALTURA', 'IDADE_ALISTADO']][(df['SEXO'] == 'F') & (df['ALTURA'] < 155) |\n",
    "                                                     (df['SEXO'] == 'M') &( df['ALTURA'] < 160) &\n",
    "                                                    (df['DISPENSA'] == 'Sem dispensa')]"
   ]
  },
  {
   "cell_type": "markdown",
   "id": "cbc6ab6e",
   "metadata": {},
   "source": [
    "### Média de idade no alistamento"
   ]
  },
  {
   "cell_type": "code",
   "execution_count": 11,
   "id": "33be4855",
   "metadata": {},
   "outputs": [
    {
     "data": {
      "text/plain": [
       "18.36"
      ]
     },
     "execution_count": 11,
     "metadata": {},
     "output_type": "execute_result"
    }
   ],
   "source": [
    "round(df['Idade_alistado'].mean(), 2)"
   ]
  },
  {
   "cell_type": "markdown",
   "id": "1d7b5bb7",
   "metadata": {},
   "source": [
    "### Descrição dos Dados"
   ]
  },
  {
   "cell_type": "code",
   "execution_count": 9,
   "id": "56ebddd5",
   "metadata": {
    "scrolled": false
   },
   "outputs": [
    {
     "data": {
      "text/html": [
       "<div>\n",
       "<style scoped>\n",
       "    .dataframe tbody tr th:only-of-type {\n",
       "        vertical-align: middle;\n",
       "    }\n",
       "\n",
       "    .dataframe tbody tr th {\n",
       "        vertical-align: top;\n",
       "    }\n",
       "\n",
       "    .dataframe thead th {\n",
       "        text-align: right;\n",
       "    }\n",
       "</style>\n",
       "<table border=\"1\" class=\"dataframe\">\n",
       "  <thead>\n",
       "    <tr style=\"text-align: right;\">\n",
       "      <th></th>\n",
       "      <th>Unnamed: 0</th>\n",
       "      <th>ANO_NASCIMENTO</th>\n",
       "      <th>PESO</th>\n",
       "      <th>ALTURA</th>\n",
       "      <th>CABECA</th>\n",
       "      <th>CALCADO</th>\n",
       "      <th>CINTURA</th>\n",
       "      <th>VINCULACAO_ANO</th>\n",
       "    </tr>\n",
       "  </thead>\n",
       "  <tbody>\n",
       "    <tr>\n",
       "      <th>count</th>\n",
       "      <td>300914.000000</td>\n",
       "      <td>300914.000000</td>\n",
       "      <td>300914.000000</td>\n",
       "      <td>300914.000000</td>\n",
       "      <td>300914.000000</td>\n",
       "      <td>300914.000000</td>\n",
       "      <td>300914.000000</td>\n",
       "      <td>300914.0</td>\n",
       "    </tr>\n",
       "    <tr>\n",
       "      <th>mean</th>\n",
       "      <td>150745.292393</td>\n",
       "      <td>2003.637471</td>\n",
       "      <td>70.131373</td>\n",
       "      <td>174.417648</td>\n",
       "      <td>56.456689</td>\n",
       "      <td>40.959570</td>\n",
       "      <td>77.289827</td>\n",
       "      <td>2022.0</td>\n",
       "    </tr>\n",
       "    <tr>\n",
       "      <th>std</th>\n",
       "      <td>87022.099189</td>\n",
       "      <td>0.866453</td>\n",
       "      <td>14.834385</td>\n",
       "      <td>8.987376</td>\n",
       "      <td>3.591626</td>\n",
       "      <td>2.336608</td>\n",
       "      <td>13.225223</td>\n",
       "      <td>0.0</td>\n",
       "    </tr>\n",
       "    <tr>\n",
       "      <th>min</th>\n",
       "      <td>1.000000</td>\n",
       "      <td>1925.000000</td>\n",
       "      <td>30.000000</td>\n",
       "      <td>120.000000</td>\n",
       "      <td>41.000000</td>\n",
       "      <td>30.000000</td>\n",
       "      <td>50.000000</td>\n",
       "      <td>2022.0</td>\n",
       "    </tr>\n",
       "    <tr>\n",
       "      <th>25%</th>\n",
       "      <td>75388.250000</td>\n",
       "      <td>2004.000000</td>\n",
       "      <td>60.000000</td>\n",
       "      <td>170.000000</td>\n",
       "      <td>56.000000</td>\n",
       "      <td>40.000000</td>\n",
       "      <td>71.000000</td>\n",
       "      <td>2022.0</td>\n",
       "    </tr>\n",
       "    <tr>\n",
       "      <th>50%</th>\n",
       "      <td>150751.500000</td>\n",
       "      <td>2004.000000</td>\n",
       "      <td>67.000000</td>\n",
       "      <td>175.000000</td>\n",
       "      <td>57.000000</td>\n",
       "      <td>41.000000</td>\n",
       "      <td>78.000000</td>\n",
       "      <td>2022.0</td>\n",
       "    </tr>\n",
       "    <tr>\n",
       "      <th>75%</th>\n",
       "      <td>226094.750000</td>\n",
       "      <td>2004.000000</td>\n",
       "      <td>77.000000</td>\n",
       "      <td>180.000000</td>\n",
       "      <td>58.000000</td>\n",
       "      <td>42.000000</td>\n",
       "      <td>85.000000</td>\n",
       "      <td>2022.0</td>\n",
       "    </tr>\n",
       "    <tr>\n",
       "      <th>max</th>\n",
       "      <td>301462.000000</td>\n",
       "      <td>2006.000000</td>\n",
       "      <td>200.000000</td>\n",
       "      <td>250.000000</td>\n",
       "      <td>79.000000</td>\n",
       "      <td>50.000000</td>\n",
       "      <td>180.000000</td>\n",
       "      <td>2022.0</td>\n",
       "    </tr>\n",
       "  </tbody>\n",
       "</table>\n",
       "</div>"
      ],
      "text/plain": [
       "          Unnamed: 0  ANO_NASCIMENTO           PESO         ALTURA  \\\n",
       "count  300914.000000   300914.000000  300914.000000  300914.000000   \n",
       "mean   150745.292393     2003.637471      70.131373     174.417648   \n",
       "std     87022.099189        0.866453      14.834385       8.987376   \n",
       "min         1.000000     1925.000000      30.000000     120.000000   \n",
       "25%     75388.250000     2004.000000      60.000000     170.000000   \n",
       "50%    150751.500000     2004.000000      67.000000     175.000000   \n",
       "75%    226094.750000     2004.000000      77.000000     180.000000   \n",
       "max    301462.000000     2006.000000     200.000000     250.000000   \n",
       "\n",
       "              CABECA        CALCADO        CINTURA  VINCULACAO_ANO  \n",
       "count  300914.000000  300914.000000  300914.000000        300914.0  \n",
       "mean       56.456689      40.959570      77.289827          2022.0  \n",
       "std         3.591626       2.336608      13.225223             0.0  \n",
       "min        41.000000      30.000000      50.000000          2022.0  \n",
       "25%        56.000000      40.000000      71.000000          2022.0  \n",
       "50%        57.000000      41.000000      78.000000          2022.0  \n",
       "75%        58.000000      42.000000      85.000000          2022.0  \n",
       "max        79.000000      50.000000     180.000000          2022.0  "
      ]
     },
     "execution_count": 9,
     "metadata": {},
     "output_type": "execute_result"
    }
   ],
   "source": [
    "df.describe()"
   ]
  },
  {
   "cell_type": "code",
   "execution_count": 51,
   "id": "eca40109",
   "metadata": {
    "scrolled": false
   },
   "outputs": [
    {
     "data": {
      "text/plain": [
       "ANO_NASCIMENTO    2003.64\n",
       "PESO                70.13\n",
       "ALTURA             174.42\n",
       "CALCADO             40.96\n",
       "CINTURA             77.29\n",
       "dtype: float64"
      ]
     },
     "execution_count": 51,
     "metadata": {},
     "output_type": "execute_result"
    }
   ],
   "source": [
    "df[['ANO_NASCIMENTO', 'PESO', 'ALTURA', 'CALCADO', 'CINTURA']].mean().apply(lambda x: round(x, 2))"
   ]
  },
  {
   "cell_type": "markdown",
   "id": "624ab5f9",
   "metadata": {},
   "source": [
    "### Distribuição de dispensa militar"
   ]
  },
  {
   "cell_type": "code",
   "execution_count": 106,
   "id": "304f407d",
   "metadata": {},
   "outputs": [
    {
     "data": {
      "text/plain": [
       "DISPENSA\n",
       "Com dispensa    193913\n",
       "Sem dispensa    107001\n",
       "Name: count, dtype: int64"
      ]
     },
     "execution_count": 106,
     "metadata": {},
     "output_type": "execute_result"
    }
   ],
   "source": [
    "dispensas=df['DISPENSA'].value_counts()\n",
    "dispensas"
   ]
  },
  {
   "cell_type": "code",
   "execution_count": 63,
   "id": "1573b4f0",
   "metadata": {
    "scrolled": false
   },
   "outputs": [
    {
     "data": {
      "image/png": "[encoded data removed]",
      "text/plain": [
       "<Figure size 800x500 with 1 Axes>"
      ]
     },
     "metadata": {},
     "output_type": "display_data"
    }
   ],
   "source": [
    "plt.figure(figsize=(8,5))\n",
    "dispensas.plot(kind='bar', color=['blue','orange'])\n",
    "plt.title('Distribuição de Dispensa Militar')\n",
    "plt.xlabel('Dispensa Militar')\n",
    "plt.ylabel('Contagem')\n",
    "plt.show()"
   ]
  },
  {
   "cell_type": "markdown",
   "id": "b3270976",
   "metadata": {},
   "source": [
    "#### por Sexo"
   ]
  },
  {
   "cell_type": "code",
   "execution_count": 14,
   "id": "66af0c82",
   "metadata": {},
   "outputs": [
    {
     "data": {
      "text/plain": [
       "DISPENSA      SEXO\n",
       "Com dispensa  M       193885\n",
       "Sem dispensa  M       106988\n",
       "Com dispensa  F           28\n",
       "Sem dispensa  F           13\n",
       "Name: count, dtype: int64"
      ]
     },
     "execution_count": 14,
     "metadata": {},
     "output_type": "execute_result"
    }
   ],
   "source": [
    "df[['DISPENSA', 'SEXO']].value_counts()"
   ]
  },
  {
   "cell_type": "code",
   "execution_count": 17,
   "id": "0775d67c",
   "metadata": {},
   "outputs": [
    {
     "data": {
      "image/png": "[encoded data removed]",
      "text/plain": [
       "<Figure size 640x480 with 1 Axes>"
      ]
     },
     "metadata": {},
     "output_type": "display_data"
    }
   ],
   "source": [
    "df[['DISPENSA', 'SEXO']].value_counts().plot(kind = 'bar', color=['green', 'blue', 'cyan', 'orange'], grid = True)\n",
    "\n",
    "plt.show()"
   ]
  },
  {
   "cell_type": "markdown",
   "id": "0000fb07",
   "metadata": {},
   "source": [
    "### Alterando a coluna de Id"
   ]
  },
  {
   "cell_type": "code",
   "execution_count": 64,
   "id": "f5b8e422",
   "metadata": {
    "scrolled": true
   },
   "outputs": [
    {
     "data": {
      "text/plain": [
       "Index(['ANO_NASCIMENTO', 'PESO', 'ALTURA', 'CABECA', 'CALCADO', 'CINTURA',\n",
       "       'MUN_NASCIMENTO', 'UF_NASCIMENTO', 'PAIS_NASCIMENTO', 'ESTADO_CIVIL',\n",
       "       'SEXO', 'ESCOLARIDADE', 'VINCULACAO_ANO', 'DISPENSA',\n",
       "       'ZONA_RESIDENCIAL', 'MUN_RESIDENCIA', 'UF_RESIDENCIA',\n",
       "       'PAIS_RESIDENCIA', 'JSM', 'MUN_JSM', 'UF_JSM'],\n",
       "      dtype='object')"
      ]
     },
     "execution_count": 64,
     "metadata": {},
     "output_type": "execute_result"
    }
   ],
   "source": [
    "df.set_index('Unnamed: 0', inplace=True)\n",
    "df.columns"
   ]
  },
  {
   "cell_type": "markdown",
   "id": "b5d575c0",
   "metadata": {},
   "source": [
    "### Criação e atribuição de valores às colunas 'IMC' e 'CLASSIFICACAO_IMC'"
   ]
  },
  {
   "cell_type": "code",
   "execution_count": 52,
   "id": "a2fe88ae",
   "metadata": {},
   "outputs": [],
   "source": [
    "# Criação da coluna referente ao IMC de cada pessoa \n",
    "\n",
    "df['IMC'] = df['PESO']/((df['ALTURA']/100)**2)\n",
    "df['IMC'] = round(df['IMC'], 2)"
   ]
  },
  {
   "cell_type": "code",
   "execution_count": 53,
   "id": "0f12fb41",
   "metadata": {},
   "outputs": [],
   "source": [
    "# Criação da coluna referente à CLASSIFICAÇÃO DO IMC de cada pessoa \n",
    "\n",
    "df.loc[df['IMC'] < 16.9, 'CLASSIFICACAO_IMC'] = 'Muito Abaixo do Peso'\n",
    "df.loc[(df['IMC'] >= 16.9) & (df['IMC'] < 18.4), 'CLASSIFICACAO_IMC'] = 'Abaixo do Peso'\n",
    "df.loc[(df['IMC'] >= 18.4) & (df['IMC'] < 24.9), 'CLASSIFICACAO_IMC'] = 'Peso Normal'\n",
    "df.loc[(df['IMC'] >= 24.9) & (df['IMC'] < 29.9), 'CLASSIFICACAO_IMC'] = 'Acima do Peso'\n",
    "df.loc[(df['IMC'] >= 29.9) & (df['IMC'] < 34.9), 'CLASSIFICACAO_IMC'] = 'Obesidade Grau 1'\n",
    "df.loc[(df['IMC'] >= 34.9) & (df['IMC'] < 40), 'CLASSIFICACAO_IMC'] = 'Obesidade Grau 2'\n",
    "df.loc[(df['IMC'] >= 40), 'CLASSIFICACAO_IMC'] = 'Obesidade Grau 3'"
   ]
  },
  {
   "cell_type": "code",
   "execution_count": 54,
   "id": "8e42e333",
   "metadata": {
    "scrolled": false
   },
   "outputs": [
    {
     "data": {
      "image/png": "[encoded data removed]",
      "text/plain": [
       "<Figure size 640x480 with 1 Axes>"
      ]
     },
     "metadata": {},
     "output_type": "display_data"
    }
   ],
   "source": [
    "df['CLASSIFICACAO_IMC'].value_counts().plot(kind = 'bar', color=['green', 'blue', 'cyan', 'orange', 'yellow', 'black', 'red'])\n",
    "plt.grid(True)\n",
    "plt.plot()\n",
    "plt.xlabel('')\n",
    "plt.title('Classificação do IMC')\n",
    "plt.xticks(rotation=75)\n",
    "\n",
    "plt.show()"
   ]
  },
  {
   "cell_type": "markdown",
   "id": "f2b36ae2",
   "metadata": {},
   "source": [
    "### Migração"
   ]
  },
  {
   "cell_type": "code",
   "execution_count": 26,
   "id": "04a38a04",
   "metadata": {
    "scrolled": false
   },
   "outputs": [
    {
     "data": {
      "image/png": "[encoded data removed]",
      "text/plain": [
       "<Figure size 640x480 with 1 Axes>"
      ]
     },
     "metadata": {},
     "output_type": "display_data"
    }
   ],
   "source": [
    "df['REGIAO_NASCIMENTO'].value_counts().plot(kind = 'line', marker = 'o', label = 'REGIAO_NASCIMENTO')\n",
    "df['REGIAO_RESIDENCIA'].value_counts().plot(kind = 'line', marker = 'o', label = 'REGIAO_RESIDENCIA')\n",
    "plt.legend()\n",
    "plt.grid(True)\n",
    "plt.xlabel('Regiões')\n",
    "plt.ylabel('Alistados')\n",
    "plt.title('Migração')\n",
    "\n",
    "plt.show()"
   ]
  },
  {
   "cell_type": "code",
   "execution_count": 27,
   "id": "00e6ea30",
   "metadata": {
    "scrolled": true
   },
   "outputs": [],
   "source": [
    "reg = df[['REGIAO_NASCIMENTO', 'REGIAO_RESIDENCIA']][df['REGIAO_NASCIMENTO'] != df['REGIAO_RESIDENCIA']].sort_values(by = 'REGIAO_RESIDENCIA').value_counts().groupby('REGIAO_NASCIMENTO')"
   ]
  },
  {
   "cell_type": "code",
   "execution_count": 28,
   "id": "02f53885",
   "metadata": {
    "scrolled": false
   },
   "outputs": [
    {
     "data": {
      "text/plain": [
       "REGIAO_NASCIMENTO  REGIAO_RESIDENCIA\n",
       "Nordeste           Sudeste              3519\n",
       "                   Centro-Oeste         1756\n",
       "Sudeste            Sul                  1433\n",
       "                   Nordeste             1187\n",
       "                   Centro-Oeste         1074\n",
       "Norte              Sul                   707\n",
       "                   Centro-Oeste          680\n",
       "Nordeste           Sul                   655\n",
       "Centro-Oeste       Sudeste               632\n",
       "Nordeste           Norte                 576\n",
       "Norte              Sudeste               505\n",
       "Sul                Sudeste               500\n",
       "Centro-Oeste       Sul                   495\n",
       "Sul                Centro-Oeste          293\n",
       "Norte              Nordeste              251\n",
       "Centro-Oeste       Nordeste              251\n",
       "                   Norte                 194\n",
       "Sudeste            Norte                 175\n",
       "Sul                Norte                  63\n",
       "                   Nordeste               62\n",
       "Name: count, dtype: int64"
      ]
     },
     "execution_count": 28,
     "metadata": {},
     "output_type": "execute_result"
    }
   ],
   "source": [
    "df[['REGIAO_NASCIMENTO', 'REGIAO_RESIDENCIA']][df['REGIAO_NASCIMENTO'] != df['REGIAO_RESIDENCIA']].sort_values(by = 'REGIAO_RESIDENCIA').value_counts()"
   ]
  },
  {
   "cell_type": "code",
   "execution_count": 30,
   "id": "b330f3ba",
   "metadata": {
    "scrolled": false
   },
   "outputs": [
    {
     "data": {
      "image/png": "[encoded data removed]",
      "text/plain": [
       "<Figure size 640x480 with 1 Axes>"
      ]
     },
     "metadata": {},
     "output_type": "display_data"
    }
   ],
   "source": [
    "reg.plot(marker = 'o')\n",
    "plt.legend()\n",
    "plt.grid()\n",
    "\n",
    "plt.show()"
   ]
  },
  {
   "cell_type": "markdown",
   "id": "d9f0d9f9",
   "metadata": {},
   "source": [
    "## Escolaridade"
   ]
  },
  {
   "cell_type": "code",
   "execution_count": 31,
   "id": "d30d9bb6",
   "metadata": {
    "scrolled": true
   },
   "outputs": [
    {
     "data": {
      "text/plain": [
       "array(['Ensino Médio Completo', '7° Ano - Ensino Fundamental',\n",
       "       '3° Ano - Ensino Médio', '2° Semestre - Ensino Superior',\n",
       "       '2° Ano - Ensino Médio', '9° Ano - Ensino Fundamental',\n",
       "       '1° Ano - Ensino Médio', '3° Semestre - Ensino Superior',\n",
       "       '1° Semestre - Ensino Superior', '4° Semestre - Ensino Superior',\n",
       "       '4° Ano - Ensino Médio (Profissionalizante)',\n",
       "       'Ensino Superior Completo', '6° Ano - Ensino Fundamental',\n",
       "       '5° Ano - Ensino Fundamental', '8° Ano - Ensino Fundamental',\n",
       "       '6° Semestre - Ensino Superior', '3° Ano - Ensino Fundamental',\n",
       "       'Ensino Fundamental Completo', '1° Ano - Ensino Fundamental',\n",
       "       '5° Semestre - Ensino Superior', '2° Ano - Ensino Fundamental',\n",
       "       '9° Semestre - Ensino Superior', '10° Semestre - Ensino Superior',\n",
       "       '7° Semestre - Ensino Superior', 'Alfabetizado',\n",
       "       '4° Ano - Ensino Fundamental', '8° Semestre - Ensino Superior',\n",
       "       'Pós-Graduaç╞o', 'Analfabeto'], dtype=object)"
      ]
     },
     "execution_count": 31,
     "metadata": {},
     "output_type": "execute_result"
    }
   ],
   "source": [
    "df['ESCOLARIDADE'].unique()"
   ]
  },
  {
   "cell_type": "code",
   "execution_count": 32,
   "id": "eef451aa",
   "metadata": {},
   "outputs": [
    {
     "data": {
      "text/plain": [
       "Index(['Unnamed: 0', 'ANO_NASCIMENTO', 'PESO', 'ALTURA', 'CABECA', 'CALCADO',\n",
       "       'CINTURA', 'MUN_NASCIMENTO', 'UF_NASCIMENTO', 'PAIS_NASCIMENTO',\n",
       "       'ESTADO_CIVIL', 'SEXO', 'ESCOLARIDADE', 'VINCULACAO_ANO', 'DISPENSA',\n",
       "       'ZONA_RESIDENCIAL', 'MUN_RESIDENCIA', 'UF_RESIDENCIA',\n",
       "       'PAIS_RESIDENCIA', 'JSM', 'MUN_JSM', 'UF_JSM', 'IMC',\n",
       "       'CLASSIFICACAO_IMC', 'REGIAO_NASCIMENTO', 'REGIAO_RESIDENCIA'],\n",
       "      dtype='object')"
      ]
     },
     "execution_count": 32,
     "metadata": {},
     "output_type": "execute_result"
    }
   ],
   "source": [
    "df.columns"
   ]
  },
  {
   "cell_type": "markdown",
   "id": "fda7a128",
   "metadata": {},
   "source": [
    "## Com dispensa X Sem Dispensa"
   ]
  },
  {
   "cell_type": "code",
   "execution_count": 67,
   "id": "c411995c",
   "metadata": {
    "scrolled": false
   },
   "outputs": [
    {
     "data": {
      "image/png": "[encoded data removed]",
      "text/plain": [
       "<Figure size 640x480 with 1 Axes>"
      ]
     },
     "metadata": {},
     "output_type": "display_data"
    }
   ],
   "source": [
    "df[['ESCOLARIDADE']][df['DISPENSA'] == 'Com dispensa'].value_counts().plot(kind = 'bar')\n",
    "df[['ESCOLARIDADE']][df['DISPENSA'] == 'Sem dispensa'].value_counts().plot(kind = 'bar', color = 'orange')\n",
    "plt.grid()\n",
    "plt.xlabel('')\n",
    "plt.title('Nível de Escolaridade')\n",
    "plt.xticks(rotation=90)\n",
    "plt.show()\n"
   ]
  }
 ],
 "metadata": {
  "kernelspec": {
   "display_name": "Python 3 (ipykernel)",
   "language": "python",
   "name": "python3"
  },
  "language_info": {
   "codemirror_mode": {
    "name": "ipython",
    "version": 3
   },
   "file_extension": ".py",
   "mimetype": "text/x-python",
   "name": "python",
   "nbconvert_exporter": "python",
   "pygments_lexer": "ipython3",
   "version": "3.11.5"
  }
 },
 "nbformat": 4,
 "nbformat_minor": 5
}
