{
 "cells": [
  {
   "cell_type": "code",
   "execution_count": 2,
   "id": "91baa52d",
   "metadata": {},
   "outputs": [
    {
     "name": "stderr",
     "output_type": "stream",
     "text": [
      "c:\\Users\\alan_\\anaconda3\\lib\\site-packages\\pandas\\core\\computation\\expressions.py:21: UserWarning: Pandas requires version '2.8.4' or newer of 'numexpr' (version '2.8.3' currently installed).\n",
      "  from pandas.core.computation.check import NUMEXPR_INSTALLED\n",
      "c:\\Users\\alan_\\anaconda3\\lib\\site-packages\\pandas\\core\\arrays\\masked.py:60: UserWarning: Pandas requires version '1.3.6' or newer of 'bottleneck' (version '1.3.5' currently installed).\n",
      "  from pandas.core import (\n",
      "C:\\Users\\alan_\\AppData\\Local\\Temp\\ipykernel_25072\\2151744951.py:1: DeprecationWarning: \n",
      "Pyarrow will become a required dependency of pandas in the next major release of pandas (pandas 3.0),\n",
      "(to allow more performant data types, such as the Arrow string type, and better interoperability with other libraries)\n",
      "but was too old on your system - pyarrow 10.0.1 is the current minimum supported version as of this release.\n",
      "If this would cause problems for you,\n",
      "please provide us feedback at https://github.com/pandas-dev/pandas/issues/54466\n",
      "        \n",
      "  import pandas as pd\n"
     ]
    }
   ],
   "source": [
    "import pandas as pd\n",
    "import numpy as np\n",
    "import matplotlib.pyplot as plt"
   ]
  },
  {
   "cell_type": "code",
   "execution_count": 3,
   "id": "d4b49f89",
   "metadata": {},
   "outputs": [],
   "source": [
    "df = pd.read_csv('alistamento_militar_2022.csv')"
   ]
  },
  {
   "cell_type": "code",
   "execution_count": 3,
   "id": "04917eb6",
   "metadata": {
    "scrolled": true
   },
   "outputs": [
    {
     "name": "stdout",
     "output_type": "stream",
     "text": [
      "<class 'pandas.core.frame.DataFrame'>\n",
      "RangeIndex: 300914 entries, 0 to 300913\n",
      "Data columns (total 22 columns):\n",
      " #   Column            Non-Null Count   Dtype  \n",
      "---  ------            --------------   -----  \n",
      " 0   Unnamed: 0        300914 non-null  int64  \n",
      " 1   ANO_NASCIMENTO    300914 non-null  int64  \n",
      " 2   PESO              300914 non-null  float64\n",
      " 3   ALTURA            300914 non-null  float64\n",
      " 4   CABECA            300914 non-null  float64\n",
      " 5   CALCADO           300914 non-null  float64\n",
      " 6   CINTURA           300914 non-null  float64\n",
      " 7   MUN_NASCIMENTO    300914 non-null  object \n",
      " 8   UF_NASCIMENTO     300914 non-null  object \n",
      " 9   PAIS_NASCIMENTO   300914 non-null  object \n",
      " 10  ESTADO_CIVIL      300914 non-null  object \n",
      " 11  SEXO              300914 non-null  object \n",
      " 12  ESCOLARIDADE      300914 non-null  object \n",
      " 13  VINCULACAO_ANO    300914 non-null  int64  \n",
      " 14  DISPENSA          300914 non-null  object \n",
      " 15  ZONA_RESIDENCIAL  300914 non-null  object \n",
      " 16  MUN_RESIDENCIA    300914 non-null  object \n",
      " 17  UF_RESIDENCIA     300914 non-null  object \n",
      " 18  PAIS_RESIDENCIA   300914 non-null  object \n",
      " 19  JSM               300914 non-null  object \n",
      " 20  MUN_JSM           300914 non-null  object \n",
      " 21  UF_JSM            300914 non-null  object \n",
      "dtypes: float64(5), int64(3), object(14)\n",
      "memory usage: 50.5+ MB\n"
     ]
    }
   ],
   "source": [
    "df.info()"
   ]
  },
  {
   "cell_type": "code",
   "execution_count": 4,
   "id": "d6d27594",
   "metadata": {},
   "outputs": [
    {
     "data": {
      "text/html": [
       "<div>\n",
       "<style scoped>\n",
       "    .dataframe tbody tr th:only-of-type {\n",
       "        vertical-align: middle;\n",
       "    }\n",
       "\n",
       "    .dataframe tbody tr th {\n",
       "        vertical-align: top;\n",
       "    }\n",
       "\n",
       "    .dataframe thead th {\n",
       "        text-align: right;\n",
       "    }\n",
       "</style>\n",
       "<table border=\"1\" class=\"dataframe\">\n",
       "  <thead>\n",
       "    <tr style=\"text-align: right;\">\n",
       "      <th></th>\n",
       "      <th>Unnamed: 0</th>\n",
       "      <th>ANO_NASCIMENTO</th>\n",
       "      <th>PESO</th>\n",
       "      <th>ALTURA</th>\n",
       "      <th>CABECA</th>\n",
       "      <th>CALCADO</th>\n",
       "      <th>CINTURA</th>\n",
       "      <th>MUN_NASCIMENTO</th>\n",
       "      <th>UF_NASCIMENTO</th>\n",
       "      <th>PAIS_NASCIMENTO</th>\n",
       "      <th>...</th>\n",
       "      <th>ESCOLARIDADE</th>\n",
       "      <th>VINCULACAO_ANO</th>\n",
       "      <th>DISPENSA</th>\n",
       "      <th>ZONA_RESIDENCIAL</th>\n",
       "      <th>MUN_RESIDENCIA</th>\n",
       "      <th>UF_RESIDENCIA</th>\n",
       "      <th>PAIS_RESIDENCIA</th>\n",
       "      <th>JSM</th>\n",
       "      <th>MUN_JSM</th>\n",
       "      <th>UF_JSM</th>\n",
       "    </tr>\n",
       "  </thead>\n",
       "  <tbody>\n",
       "    <tr>\n",
       "      <th>0</th>\n",
       "      <td>1</td>\n",
       "      <td>1995</td>\n",
       "      <td>79.0</td>\n",
       "      <td>181.0</td>\n",
       "      <td>56.0</td>\n",
       "      <td>41.0</td>\n",
       "      <td>88.0</td>\n",
       "      <td>PALMEIRA DAS MISSOES</td>\n",
       "      <td>RS</td>\n",
       "      <td>BRASIL</td>\n",
       "      <td>...</td>\n",
       "      <td>Ensino Médio Completo</td>\n",
       "      <td>2022</td>\n",
       "      <td>Com dispensa</td>\n",
       "      <td>Urbana</td>\n",
       "      <td>CANOAS</td>\n",
       "      <td>RS</td>\n",
       "      <td>BRASIL</td>\n",
       "      <td>10/52 - PALMEIRA DAS MISSOES</td>\n",
       "      <td>PALMEIRA DAS MISSOES</td>\n",
       "      <td>RS</td>\n",
       "    </tr>\n",
       "    <tr>\n",
       "      <th>1</th>\n",
       "      <td>2</td>\n",
       "      <td>1974</td>\n",
       "      <td>64.0</td>\n",
       "      <td>165.0</td>\n",
       "      <td>58.0</td>\n",
       "      <td>38.0</td>\n",
       "      <td>75.0</td>\n",
       "      <td>PORTO ALEGRE</td>\n",
       "      <td>RS</td>\n",
       "      <td>BRASIL</td>\n",
       "      <td>...</td>\n",
       "      <td>7° Ano - Ensino Fundamental</td>\n",
       "      <td>2022</td>\n",
       "      <td>Com dispensa</td>\n",
       "      <td>Urbana</td>\n",
       "      <td>ITAJAI</td>\n",
       "      <td>SC</td>\n",
       "      <td>BRASIL</td>\n",
       "      <td>16/28 - ITAJAI</td>\n",
       "      <td>ITAJAI</td>\n",
       "      <td>SC</td>\n",
       "    </tr>\n",
       "    <tr>\n",
       "      <th>2</th>\n",
       "      <td>3</td>\n",
       "      <td>1998</td>\n",
       "      <td>55.0</td>\n",
       "      <td>180.0</td>\n",
       "      <td>53.0</td>\n",
       "      <td>41.0</td>\n",
       "      <td>74.0</td>\n",
       "      <td>JANDIRA</td>\n",
       "      <td>SP</td>\n",
       "      <td>BRASIL</td>\n",
       "      <td>...</td>\n",
       "      <td>Ensino Médio Completo</td>\n",
       "      <td>2022</td>\n",
       "      <td>Com dispensa</td>\n",
       "      <td>Urbana</td>\n",
       "      <td>SERTAOZINHO</td>\n",
       "      <td>SP</td>\n",
       "      <td>BRASIL</td>\n",
       "      <td>5/123 - SERTAOZINHO</td>\n",
       "      <td>SERTAOZINHO</td>\n",
       "      <td>SP</td>\n",
       "    </tr>\n",
       "    <tr>\n",
       "      <th>3</th>\n",
       "      <td>4</td>\n",
       "      <td>1999</td>\n",
       "      <td>76.0</td>\n",
       "      <td>186.0</td>\n",
       "      <td>57.0</td>\n",
       "      <td>42.0</td>\n",
       "      <td>88.0</td>\n",
       "      <td>CACERES</td>\n",
       "      <td>MT</td>\n",
       "      <td>BRASIL</td>\n",
       "      <td>...</td>\n",
       "      <td>3° Ano - Ensino Médio</td>\n",
       "      <td>2022</td>\n",
       "      <td>Com dispensa</td>\n",
       "      <td>Urbana</td>\n",
       "      <td>CACERES</td>\n",
       "      <td>MT</td>\n",
       "      <td>BRASIL</td>\n",
       "      <td>30/24 - CACERES</td>\n",
       "      <td>CACERES</td>\n",
       "      <td>MT</td>\n",
       "    </tr>\n",
       "    <tr>\n",
       "      <th>4</th>\n",
       "      <td>5</td>\n",
       "      <td>2000</td>\n",
       "      <td>76.0</td>\n",
       "      <td>184.0</td>\n",
       "      <td>58.0</td>\n",
       "      <td>42.0</td>\n",
       "      <td>78.0</td>\n",
       "      <td>BRASILIA</td>\n",
       "      <td>DF</td>\n",
       "      <td>BRASIL</td>\n",
       "      <td>...</td>\n",
       "      <td>2° Semestre - Ensino Superior</td>\n",
       "      <td>2022</td>\n",
       "      <td>Com dispensa</td>\n",
       "      <td>Rural</td>\n",
       "      <td>BRASILIA</td>\n",
       "      <td>DF</td>\n",
       "      <td>BRASIL</td>\n",
       "      <td>7/331 - BRASILIA (SAMAMBAIA)</td>\n",
       "      <td>BRASILIA</td>\n",
       "      <td>DF</td>\n",
       "    </tr>\n",
       "  </tbody>\n",
       "</table>\n",
       "<p>5 rows × 22 columns</p>\n",
       "</div>"
      ],
      "text/plain": [
       "   Unnamed: 0  ANO_NASCIMENTO  PESO  ALTURA  CABECA  CALCADO  CINTURA  \\\n",
       "0           1            1995  79.0   181.0    56.0     41.0     88.0   \n",
       "1           2            1974  64.0   165.0    58.0     38.0     75.0   \n",
       "2           3            1998  55.0   180.0    53.0     41.0     74.0   \n",
       "3           4            1999  76.0   186.0    57.0     42.0     88.0   \n",
       "4           5            2000  76.0   184.0    58.0     42.0     78.0   \n",
       "\n",
       "         MUN_NASCIMENTO UF_NASCIMENTO PAIS_NASCIMENTO  ...  \\\n",
       "0  PALMEIRA DAS MISSOES            RS          BRASIL  ...   \n",
       "1          PORTO ALEGRE            RS          BRASIL  ...   \n",
       "2               JANDIRA            SP          BRASIL  ...   \n",
       "3               CACERES            MT          BRASIL  ...   \n",
       "4              BRASILIA            DF          BRASIL  ...   \n",
       "\n",
       "                    ESCOLARIDADE VINCULACAO_ANO      DISPENSA  \\\n",
       "0          Ensino Médio Completo           2022  Com dispensa   \n",
       "1    7° Ano - Ensino Fundamental           2022  Com dispensa   \n",
       "2          Ensino Médio Completo           2022  Com dispensa   \n",
       "3          3° Ano - Ensino Médio           2022  Com dispensa   \n",
       "4  2° Semestre - Ensino Superior           2022  Com dispensa   \n",
       "\n",
       "   ZONA_RESIDENCIAL MUN_RESIDENCIA UF_RESIDENCIA PAIS_RESIDENCIA  \\\n",
       "0            Urbana         CANOAS            RS          BRASIL   \n",
       "1            Urbana         ITAJAI            SC          BRASIL   \n",
       "2            Urbana    SERTAOZINHO            SP          BRASIL   \n",
       "3            Urbana        CACERES            MT          BRASIL   \n",
       "4             Rural       BRASILIA            DF          BRASIL   \n",
       "\n",
       "                            JSM               MUN_JSM UF_JSM  \n",
       "0  10/52 - PALMEIRA DAS MISSOES  PALMEIRA DAS MISSOES     RS  \n",
       "1                16/28 - ITAJAI                ITAJAI     SC  \n",
       "2           5/123 - SERTAOZINHO           SERTAOZINHO     SP  \n",
       "3               30/24 - CACERES               CACERES     MT  \n",
       "4  7/331 - BRASILIA (SAMAMBAIA)              BRASILIA     DF  \n",
       "\n",
       "[5 rows x 22 columns]"
      ]
     },
     "execution_count": 4,
     "metadata": {},
     "output_type": "execute_result"
    }
   ],
   "source": [
    "df.head()"
   ]
  },
  {
   "cell_type": "code",
   "execution_count": 5,
   "id": "f1138dff",
   "metadata": {},
   "outputs": [
    {
     "data": {
      "text/plain": [
       "<Axes: >"
      ]
     },
     "execution_count": 5,
     "metadata": {},
     "output_type": "execute_result"
    },
    {
     "data": {
      "image/png": "iVBORw0KGgoAAAANSUhEUgAAAigAAAGdCAYAAAA44ojeAAAAOXRFWHRTb2Z0d2FyZQBNYXRwbG90bGliIHZlcnNpb24zLjcuMSwgaHR0cHM6Ly9tYXRwbG90bGliLm9yZy/bCgiHAAAACXBIWXMAAA9hAAAPYQGoP6dpAAAxkElEQVR4nO3de1xVdb7/8TeXzRaQy+AJEBVlpERGjjqOFZW3BlFgTLwcp1LH5nimqdBO2rHGpsmcaiiPaZej48x5mDZzRqeTCSWhR0oF+yl5i8oyU49iSoCNujcX2Wxg//7wx/61gxw3kGsBr+fjwUPW9/tda39Wj8div/uum4/L5XIJAADARHyNLgAAAOCbCCgAAMB0CCgAAMB0CCgAAMB0CCgAAMB0CCgAAMB0CCgAAMB0CCgAAMB0/I0uoC2amppUVlamkJAQ+fj4GF0OAAC4Ci6XS1VVVYqJiZGv75XnSDplQCkrK1O/fv2MLgMAALTBF198ob59+15xTKcMKCEhIZIu72BoaKjB1QDoSE6nU9u3b1dqaqosFovR5QDoQHa7Xf369XN/j19Jpwwozad1QkNDCShAF+N0OhUUFKTQ0FACCtBFXc3lGVwkCwAATIeAAgAATIeAAgAATIeAAgAATIeAAgAATIeAAgAATIeAAgAATIeAAgAATIeAAsA0qqurNW3aNP3rv/6rpk2bpurqaqNLAmCQTvkkWQBdz4033qj9+/e7l0tLSxUSEqKRI0dq3759BlYGwAjMoAAwXHM48fHx0axZs7Ry5UrNmjVLPj4+2r9/v2688UajSwRwjRFQABiqurraHU4uXryoYcOGqaCgQMOGDdPFixfdIYXTPUD34uNyuVxGF+Etu92usLAw2Ww2XhYIdHJTpkxRbm6uEhMT9fnnn6uhocHd5+/vr+uvv15HjhxRZmamcnJyDKwUQHt58/3NNSgADHXixAlJ0qeffqqoqCgtXbpUVqtVDodDS5Ys0ZEjRzzGAegeOMUDwFADBgyQJFmtVpWWlmrgwIH6+OOPNXDgQJWWlspqtXqMA9A9MIMCwFC33HKLtmzZIofDofj4eJ05c0aStGLFCvXt21cOh8M9DkD3QUABYKizZ8+6fz9z5ozGjx+vsWPHateuXSooKGh1HICuj4ACwFDNp24CAwN16dIlFRQUeAST5nZO8QDdC9egADBUUlKSpMtB5MKFC5o0aZL69++vSZMm6cKFC+rRo4fHOADdAzMoAAz1t7/9TZJ0/vx5JSQkaMmSJZoyZYrq6uqUkJCgCxcueIwD0D0QUAAYqnfv3pKkmTNn6rXXXtMDDzzg7vP399fdd9+tDRs2uMcB6B44xQPAUKNGjdKAAQNkt9tVVVWl5cuXKz09XcuXL1dVVZWqqqoUFxenUaNGGV0qgGuIGRQAhvLz89Pzzz+v6dOna8aMGVq0aJH69OmjPn36aMaMGcrLy9OmTZvk5+dndKkAriECCgDDTZ06VZs2bdLDDz+s0aNHu9vj4uK0adMmTZ061cDqABiBd/EAMI3Gxkbt3LlTW7duVVpamsaNG8fMCdCF8C4eAJ2Sn5+fxowZo5qaGo0ZM4ZwAnRjXCQLAABMh4ACAABMh4ACAABMh4ACAABMh4ACAABMh4ACAABMh4ACAABMh4ACAABMh4ACAABMx6uAkp2drZEjRyokJESRkZHKzMzU0aNHWx3rcrmUlpYmHx8f5ebmevSdPn1aGRkZCgoKUmRkpBYtWqSGhoY27wQAAOhavAoohYWFysrKUnFxsQoKCuR0OpWamqqampoWY1944QX5+Pi0aG9sbFRGRobq6+u1Z88evfrqq1q/fr2eeOKJtu8FAADoUrx6F8+2bds8ltevX6/IyEgdPHjQ4w2kJSUlev7553XgwAH17t3bY53t27fr008/1TvvvKOoqCgNGzZMTz31lB599FE9+eSTCggIaMfuAACArqBdLwu02WySpIiICHdbbW2t7r77bq1atUrR0dEt1tm7d6+SkpIUFRXlbpswYYLuv/9+ffLJJxo+fHiLdRwOhxwOh3vZbrdLkpxOp5xOZ3t2AYDJNB/THNtA1+PNcd3mgNLU1KSHHnpIt956q4YMGeJuX7BggW655RZNnjy51fXKy8s9wokk93J5eXmr62RnZ2vp0qUt2rdv366goKC27gIAEysoKDC6BAAdrLa29qrHtjmgZGVl6fDhw3rvvffcbW+99ZZ27NihDz74oK2bbdXixYu1cOFC97Ldble/fv2Umpqq0NDQDv0sAMZyOp0qKCjQ+PHjZbFYjC4HQAdqPgNyNdoUUObNm6e8vDwVFRWpb9++7vYdO3boxIkTCg8P9xg/bdo0jRo1Srt27VJ0dLT27dvn0V9RUSFJrZ4SkiSr1Sqr1dqi3WKx8AcM6KI4voGux5tj2qu7eFwul+bNm6ecnBzt2LFDcXFxHv2/+tWv9NFHH6mkpMT9I0krV67UunXrJEnJycn6+OOPVVlZ6V6voKBAoaGhSkxM9KYcAADQRXk1g5KVlaUNGzbozTffVEhIiPuakbCwMAUGBio6OrrVWZDY2Fh3mElNTVViYqJmz56tZcuWqby8XI8//riysrJanSUBAADdj1czKL///e9ls9k0duxY9e7d2/3z2muvXfU2/Pz8lJeXJz8/PyUnJ2vWrFn62c9+pt/+9rdeFw8AALomr2ZQXC6X1x/Q2jr9+/dXfn6+19sCAADdA+/iAQAApkNAAQAApkNAAQAApkNAAQAApkNAAQAApkNAAQAApkNAAQAApkNAAQAApkNAAQAApkNAAQAApkNAAQAApkNAAQAApkNAAQAApkNAAQAApkNAAWAajY2NKiwsVFFRkQoLC9XY2Gh0SQAMQkABYAqbN29WfHy8xo8frxUrVmj8+PGKj4/X5s2bjS4NgAEIKAAMt3nzZk2fPl1JSUnavXu3Nm7cqN27dyspKUnTp08npADdkI/L5XIZXYS37Ha7wsLCZLPZFBoaanQ5ANqhsbFR8fHxSkpKUm5urhobG5Wfn6/09HT5+fkpMzNThw8f1rFjx+Tn52d0uQDawZvvb2ZQABhq9+7dOnXqlB577DH5+nr+SfL19dXixYt18uRJ7d6926AKARiBgALAUF9++aUkaciQIa32N7c3jwPQPRBQABiqd+/ekqTDhw+32t/c3jwOQPdAQAFgqFGjRmnAgAH63e9+p6amJo++pqYmZWdnKy4uTqNGjTKoQgBGIKAAMJSfn5+ef/555eXlKTMzU8XFxbp06ZKKi4uVmZmpvLw8LV++nAtkgW7G3+gCAGDq1KnatGmTHn74YY0ePdrdHhcXp02bNmnq1KkGVgfACNxmDMA0GhsbtXPnTm3dulVpaWkaN24cMydAF+LN9zczKABMw8/PT2PGjFFNTY3GjBlDOAG6Ma5BAQAApkNAAQAApkNAAQAApkNAAQAApkNAAQAApkNAAQAApkNAAQAApkNAAQAApkNAAQAApkNAAQAApkNAAQAApkNAAQAApkNAAQAApkNAAQAApkNAAWAajY2NKiwsVFFRkQoLC9XY2Gh0SQAM4lVAyc7O1siRIxUSEqLIyEhlZmbq6NGj7v7z589r/vz5GjRokAIDAxUbG6sHH3xQNpvNYzunT59WRkaGgoKCFBkZqUWLFqmhoaFj9ghAp7R582bFx8dr/PjxWrFihcaPH6/4+Hht3rzZ6NIAGMCrgFJYWKisrCwVFxeroKBATqdTqampqqmpkSSVlZWprKxMy5cv1+HDh7V+/Xpt27ZNc+fOdW+jsbFRGRkZqq+v1549e/Tqq69q/fr1euKJJzp2zwB0Gps3b9b06dOVlJSk3bt3a+PGjdq9e7eSkpI0ffp0QgrQDfm4XC5XW1c+d+6cIiMjVVhYqNGjR7c65vXXX9esWbNUU1Mjf39/bd26VT/5yU9UVlamqKgoSdKaNWv06KOP6ty5cwoICPi7n2u32xUWFiabzabQ0NC2lg/ABBobGxUfH6+kpCTl5uaqsbFR+fn5Sk9Pl5+fnzIzM3X48GEdO3ZMfn5+RpcLoB28+f72b88HNZ+6iYiIuOKY0NBQ+ftf/qi9e/cqKSnJHU4kacKECbr//vv1ySefaPjw4S224XA45HA43Mt2u12S5HQ65XQ627MLAAxWWFioU6dO6c9//rMaGxvdx3Tzv4sWLdLo0aO1c+dOjRkzxshSAbSTN9/ZbQ4oTU1Neuihh3TrrbdqyJAhrY756quv9NRTT+nee+91t5WXl3uEE0nu5fLy8la3k52draVLl7Zo3759u4KCgtq6CwBMoKioSJJ05swZ/e1vf3O3FxQUSJIuXbokSdq6dav7dDKAzqm2tvaqx7Y5oGRlZenw4cN67733Wu232+3KyMhQYmKinnzyybZ+jCRp8eLFWrhwoce2+/Xrp9TUVE7xAJ1ccHCwVqxYob59++qmm26S0+lUQUGBxo8fL4vFouLiYklSWloaMyhAJ9d8BuRqtCmgzJs3T3l5eSoqKlLfvn1b9FdVVWnixIkKCQlRTk6OLBaLuy86Olr79u3zGF9RUeHua43VapXVam3RbrFYPLYNoPMZN26cBgwYoGXLlik3N9fdbrFY5Ofnp3//939XXFycxo0bxzUoQCfnzXe2VwHF5XJp/vz5ysnJ0a5duxQXF9dijN1u14QJE2S1WvXWW2+pR48eHv3Jycl65plnVFlZqcjISEmXp3JDQ0OVmJjoTTkAugA/Pz89//zzmj59uiZPnqzx48fr2LFjKi0tVUFBgd5++21t2rSJcAJ0M17dxfPAAw9ow4YNevPNNzVo0CB3e1hYmAIDA2W325Wamqra2lrl5OQoODjYPea6666Tn5+fGhsbNWzYMMXExGjZsmUqLy/X7Nmz9S//8i/63e9+d1V1cBcP0PU88sgjWrlypcczkfz9/bVgwQItW7bMwMoAdBRvvr+9Cig+Pj6ttq9bt0733HOPdu3apXHjxrU65uTJkxowYIAkqbS0VPfff7927dql4OBgzZkzR88++6z7Tp+/h4ACdC3Nz0GZOHGiqqqqVFpaqv79+yskJETbtm3Tpk2bNHXqVKPLBNBO31lAMQsCCtB1ND8Hpa6urtU7+aKjoxUYGMhzUIAu4Jo9BwUA2mv37t06deqUJCkgIEAPPfSQ4uLidPLkSb3wwgvu0LJ7926NHTvWuEIBXFO8LBCAoUpLSyVdvrq/qqpKTz/9tHr37q2nn35aVVVV7qv+m8cB6B4IKAAM1Xxr8Z133tniVRcBAQGaMWOGxzgA3QMBBYChmp8Oe/bsWTU1NXn0NTU1qayszGMcgO6BgALAUDfccIMkaceOHcrMzFRxcbEuXbqk4uJiZWZmaufOnR7jAHQP3MUDwFCXLl1SUFCQ/P391adPH49rTQYMGKAzZ86ooaFBtbW1CgwMNLBSAO3FXTwAOo3AwEBNnjxZb775psrKyjRjxgwFBwerpqZGOTk5amho0OTJkwknQDfDDAoAU8jMzNSbb77Zon3y5MlcIAt0Ed58f3MNCgBTyM3NVW1tre677z4NGzZM9913n2prawknQDfFKR4AphEYGKiXXnpJ+fn5Sk9P523lQDfGDAoAADAdAgoAADAdAgoAADAdAgoAADAdLpIFYBo2m01paWk6duyYrr/+em3dulVhYWFGlwXAAAQUAKYQHx+vEydOuJe/+uorhYeHa+DAgTp+/LiBlQEwAqd4ABju6+FkwoQJevbZZzVhwgRJ0okTJxQfH29keQAMQEABYCibzeYOJzU1NdqyZYsSEhK0ZcsW9xuMT5w4IZvNZmSZAK4xAgoAQ2VkZEiSJk6cqKCgII++oKAgpaameowD0D0QUAAY6vTp05KkJUuWqL6+Xi+99JL++Mc/6qWXXlJ9fb0ef/xxj3EAugcukgVgqNjYWH3xxRe66667dObMGTU0NEiS8vPz9atf/Up9+vRxjwPQffA2YwCGstlsCg8PlyRdd911euqpp2S1WuVwOPSb3/xG586dkyRdvHiRW46BTo63GQPoNAIDA92/nzt3Tm+88YbKysr0xhtvuMPJN8cB6PoIKAAMtXr1akmXZ08kqaCgQL/+9a9VUFDg0d48DkD3QEABYKjmW4w/+ugjffnll4qKipLFYlFUVJS+/PJLlZSUeIwD0D1wkSwAQw0cOFDS5duMP/zwQ3d7RUWFevfuraFDh3qMA9A9cJEsAEPV19erR48ecrlcslgsWrBggeLi4nTy5EmtXLlSTqdTPj4+qqurU0BAgNHlAmgHb76/mUEBYKjGxkY1/39Sjx49tGzZMndfSEiInE6nXC6XGhsbjSoRgAG4BgWAoRYtWuT+vaqqyqPv68tfHweg6yOgADDUsWPHOnQcgK6BgALAUD179uzQcQC6BgIKAEPl5OR4LA8YMED/9m//pgEDBlxxHICujbt4ABjKx8enxbLL5XL/+3Wd8M8VgK/hUfcAOq3mEEIYAbo3AgoAU/Hz81NUVJT8/PyMLgWAgQgoAAz1zWnexsZGVVRUtHjuCadzge6FgALAUJcuXerQcQC6BgIKAEM5nc4OHQegayCgADCUr+/V/Rm62nEAugaOeACGampq6tBxALoGAgoAADAdrwJKdna2Ro4cqZCQEEVGRiozM1NHjx71GFNXV6esrCz16tVLPXv21LRp01RRUeEx5vTp08rIyFBQUJAiIyO1aNEiNTQ0tH9vAABAl+BVQCksLFRWVpaKi4tVUFAgp9Op1NRU1dTUuMcsWLBAW7Zs0euvv67CwkKVlZVp6tSp7v7GxkZlZGSovr5ee/bs0auvvqr169friSee6Li9AgAAnVq7HnV/7tw5RUZGqrCwUKNHj5bNZtN1112nDRs2aPr06ZKkzz77TIMHD9bevXt18803a+vWrfrJT36isrIyRUVFSZLWrFmjRx99VOfOnVNAQMDf/VwedQ90Hd981P2V8HRZoHPz5vvbvz0fZLPZJEkRERGSpIMHD8rpdColJcU9JiEhQbGxse6AsnfvXiUlJbnDiSRNmDBB999/vz755BMNHz68xec4HA45HA6PHZQu33bIrYdA98HxDnRu3hzDbQ4oTU1Neuihh3TrrbdqyJAhkqTy8nIFBAQoPDzcY2xUVJTKy8vdY74eTpr7m/tak52draVLl7Zo3759u4KCgtq6CwA6mfz8fKNLANAOtbW1Vz22zQElKytLhw8f1nvvvdfWTVy1xYsXa+HChe5lu92ufv36KTU1lVM8QDeSnp5udAkA2qH5DMjVaFNAmTdvnvLy8lRUVKS+ffu626Ojo1VfX6+LFy96zKJUVFQoOjraPWbfvn0e22u+y6d5zDdZrVZZrdYW7RaLRRaLpS27AKAT4ngHOjdvjmGv7uJxuVyaN2+ecnJytGPHDsXFxXn0jxgxQhaLRe+++6677ejRozp9+rSSk5MlScnJyfr4449VWVnpHlNQUKDQ0FAlJiZ6Uw4AAOiivJpBycrK0oYNG/Tmm28qJCTEfc1IWFiYAgMDFRYWprlz52rhwoWKiIhQaGio5s+fr+TkZN18882SpNTUVCUmJmr27NlatmyZysvL9fjjjysrK6vVWRIAAND9eHWb8bfdDrhu3Trdc889ki4/qO3hhx/Wxo0b5XA4NGHCBK1evdrj9E1paanuv/9+7dq1S8HBwZozZ46effZZ+ftfXV7iNmOg6+A2Y6D78Ob7u13PQTEKAQXoOggoQPfhzfc37+IBAACmQ0ABAACmQ0ABAACmQ0ABAACmQ0ABAACm066XBQJAs9raWn322Wff6WccOnSoTeslJCTw3i6gkyGgAOgQn332mUaMGPGdfkZbt3/w4EH98Ic/7OBqAHyXCCgAOkRCQoIOHjzY5vWvFD7as13pcm0AOhcCCoAOERQU1K5ZCpfL1epD23g4G9A9cZEsANNwuVz64NRX6v9onj449RXhBOjGCCgAAMB0CCgAAMB0CCgAAMB0CCgAAMB0CCgAAMB0CCgAAMB0CCgAAMB0CCgAAMB0CCgAAMB0CCgAAMB0CCgAAMB0CCgAAMB0CCgAAMB0CCgAAMB0CCgAAMB0CCgAAMB0CCgAAMB0CCgAAMB0CCgAAMB0CCgAAMB0CCgAAMB0CCgAAMB0CCgAAMB0CCgAAMB0CCgAAMB0CCgAAMB0CCgAAMB0CCgAAMB0CCgAAMB0CCgAAMB0vA4oRUVFmjRpkmJiYuTj46Pc3FyP/urqas2bN099+/ZVYGCgEhMTtWbNGo8xdXV1ysrKUq9evdSzZ09NmzZNFRUV7doRAADQdXgdUGpqajR06FCtWrWq1f6FCxdq27Zt+q//+i8dOXJEDz30kObNm6e33nrLPWbBggXasmWLXn/9dRUWFqqsrExTp05t+14AAIAuxd/bFdLS0pSWlvat/Xv27NGcOXM0duxYSdK9996rP/zhD9q3b5/uuOMO2Ww2rV27Vhs2bNDtt98uSVq3bp0GDx6s4uJi3XzzzW3bEwAA0GV4HVD+nltuuUVvvfWW/vmf/1kxMTHatWuXPv/8c61cuVKSdPDgQTmdTqWkpLjXSUhIUGxsrPbu3dtqQHE4HHI4HO5lu90uSXI6nXI6nR29C0C3cupvNapxNBpdhtvn5TaPf80i2OqnAb2CjS4D6NS8+c7u8IDy8ssv695771Xfvn3l7+8vX19f/ed//qdGjx4tSSovL1dAQIDCw8M91ouKilJ5eXmr28zOztbSpUtbtG/fvl1BQUEdvQtAt1F5SXqmpMP/DHSIR3KOGF1CC78e1qDIQKOrADqv2traqx77nQSU4uJivfXWW+rfv7+KioqUlZWlmJgYj1kTbyxevFgLFy50L9vtdvXr10+pqakKDQ3tqNKBbueTMrtUUqzl05MUf505Zgdq6hzatnu/Jo4aqeAeVqPLkSQdP1ejf9v0sUYm36YfxPA3B2ir5jMgV6NDA8qlS5f02GOPKScnRxkZGZKkf/zHf1RJSYmWL1+ulJQURUdHq76+XhcvXvSYRamoqFB0dHSr27VarbJaW/6hslgsslgsHbkLQLfi73/5T0BC7zAN6RNmcDWXOZ1OffWZdOP3rzPN8d3838nf3980NQGdkTfHT4c+B6X5mhBfX8/N+vn5qampSZI0YsQIWSwWvfvuu+7+o0eP6vTp00pOTu7IcgAAQCfl9QxKdXW1jh8/7l4+efKkSkpKFBERodjYWI0ZM0aLFi1SYGCg+vfvr8LCQv3pT3/SihUrJElhYWGaO3euFi5cqIiICIWGhmr+/PlKTk7mDh4AACCpDQHlwIEDGjdunHu5+dqQOXPmaP369frrX/+qxYsXa+bMmTp//rz69++vZ555Rvfdd597nZUrV8rX11fTpk2Tw+HQhAkTtHr16g7YHQAA0BV4HVDGjh0rl8v1rf3R0dFat27dFbfRo0cPrVq16lsf9gYAALo33sUDAABMh4ACAABMh4ACAABMh4ACAABMh4ACAABMx5wv4QBwTTga6+Tb46xO2o/Kt0dPo8uRJDU0NKisoUxHzh9xP8HVaCft1fLtcVaOxjpJ5njiLtDVmePoB2CIsppSBce9rMf2GV1JS6u3mevZSMFxUlnNMI1QlNGlAN0CAQXoxmKC+6vm5Hy9+NNhGhhpnhmU//Pe/9Gtt91qmhmUE5XV+tfXShQzrr/RpQDdhjmOfgCGsPr1UFNdH8WFDlJiL3OcunA6nTrpf1KDIwab5sV8TXU2NdWdk9Wvh9GlAN0GF8kCAADTIaAAAADTIaAAAADTIaAAAADTIaAAAADTIaAAAADTIaAAAADTIaAAAADTIaAAAADT4UmyQDd2ydkoSTp81mZwJf9fzSWHDpyToksvKDjQanQ5kqTjldVGlwB0OwQUoBs78f++eH+1+WODK/kmf/35+H6ji2gh2MqfTOBa4WgDurHUH0RLkgZG9lSgxc/gai47+qVND2/6WM9PT9Kg3uZ4P5B0OZzE/UOw0WUA3QYBBejGIoIDdOeNsUaX4aGhoUGSNPC6YA3pY56AAuDa4iJZAABgOgQUAABgOgQUAABgOgQUAABgOgQUAABgOgQUAABgOgQUAABgOgQUAABgOgQUAABgOgQUAABgOgQUAABgOgQUAABgOgQUAABgOgQUAABgOgQUAABgOgQUAABgOgQUAABgOgQUAABgOgQUAABgOl4HlKKiIk2aNEkxMTHy8fFRbm5uizFHjhzRHXfcobCwMAUHB2vkyJE6ffq0u7+urk5ZWVnq1auXevbsqWnTpqmioqJdOwIAALoOrwNKTU2Nhg4dqlWrVrXaf+LECd12221KSEjQrl279NFHH+k3v/mNevTo4R6zYMECbdmyRa+//roKCwtVVlamqVOntn0vAABAl+Lv7QppaWlKS0v71v5f//rXSk9P17Jly9xtAwcOdP9us9m0du1abdiwQbfffrskad26dRo8eLCKi4t18803e1sSAADoYrwOKFfS1NSkt99+W4888ogmTJigDz74QHFxcVq8eLEyMzMlSQcPHpTT6VRKSop7vYSEBMXGxmrv3r2tBhSHwyGHw+FettvtkiSn0ymn09mRuwDAYA0NDe5/Ob6BrsWbY7pDA0plZaWqq6v17LPP6umnn9Zzzz2nbdu2aerUqdq5c6fGjBmj8vJyBQQEKDw83GPdqKgolZeXt7rd7OxsLV26tEX79u3bFRQU1JG7AMBgX1RLkr+Ki4t19rDR1QDoSLW1tVc9tsNnUCRp8uTJWrBggSRp2LBh2rNnj9asWaMxY8a0abuLFy/WwoUL3ct2u139+vVTamqqQkND2184ANP48PR56eMDuvnmmzU0NsLocgB0oOYzIFejQwPKP/zDP8jf31+JiYke7YMHD9Z7770nSYqOjlZ9fb0uXrzoMYtSUVGh6OjoVrdrtVpltVpbtFssFlkslo7bAQCG8/f3d//L8Q10Ld4c0x36HJSAgACNHDlSR48e9Wj//PPP1b9/f0nSiBEjZLFY9O6777r7jx49qtOnTys5ObkjywEAAJ2U1zMo1dXVOn78uHv55MmTKikpUUREhGJjY7Vo0SL99Kc/1ejRozVu3Dht27ZNW7Zs0a5duyRJYWFhmjt3rhYuXKiIiAiFhoZq/vz5Sk5O5g4eAAAgqQ0B5cCBAxo3bpx7ufnakDlz5mj9+vWaMmWK1qxZo+zsbD344IMaNGiQ3njjDd12223udVauXClfX19NmzZNDodDEyZM0OrVqztgdwAAQFfg43K5XEYX4S273a6wsDDZbDYukgW6mJLSvynz98XKvf9mDevfy+hyAHQgb76/eRcPAAAwHQIKAAAwHQIKAAAwHQIKAAAwHQIKANOorq7Wgl/MVtnaLC34xWxVV1cbXRIAg3Tok2QBdF+1tbX67LPP2rz+7Nmz9emnn7qXdxWUKiQkRImJifrzn//crtoSEhJ4bxfQyRBQAHSIzz77TCNGjOjw7X766aft3u7Bgwf1wx/+sIMqAnAtEFAAdIiEhAQdPHjQ6/Wqq6vdLxKNiopSRUWFu+/ry4WFherZs2ebawPQuRBQAHSIoKCgNs1STJkyxf37jTfeqEceeURnzpxR3759tWzZMm3ZskXS5SdQ5+TkdFi9AMyNi2QBGKr53V6jR4/WG2+8obq6Ou3fv191dXV64403NGrUKI9xALoHZlAAGCosLEySVFVVpRtuuEGnTp2SJK1YsUIDBgxw9zf/C6B7YAYFgKHmzp0rSfrggw+UmJio3bt3a+PGjdq9e7cSExP14YcfeowD0D0wgwLAULGxse7ft27dqvDwcI0YMUJbtmzR1q1bWx0HoOsjoAAwhZ49e6q6ulobNmzQhg0bWrQD6F44xQPAUJWVlZKkmpoajR8/Xt/73vfk7++v733vexo/frxqamo8xgHoHggoAAzVu3dvSVJMTIwKCgp04cIFNTQ06MKFCyooKFBMTIzHOADdg4/L5XIZXYS37Ha7wsLCZLPZFBoaanQ5ANqhsbFRQUFBqq+vl4+Pj3784x8rOjpa5eXlevfdd+VyuRQQEKDa2lr5+fkZXS6AdvDm+5sZFACGunTpkurr6yVJqampSkhIUGVlpRISEpSamipJqq+v16VLl4wsE8A1xgwKAENNmTJFubm56tu3r86cOdOiv0+fPjp79qwyMzN5kizQyXnz/c1dPAAMdeLECUnSmTNnFBUVpbvvvls1NTUKDg7Whg0bdPbsWY9xALoHAgoAQ/Xv318ff/yxrFarzpw5I5fLpfz8fKWnp2vZsmXq2bOnHA6H+vfvb3SpAK4hrkEBYKhbbrlFkuRwONTQ0ODR19DQIIfD4TEOQPdAQAFgqLKyMvfvQUFBuueee3TixAndc889CgoKanUcgK6PUzwADDVw4EBJl0/1lJaWtniSbHN78zgA3QMzKAAM9cADD8jf3191dXW6cOGCJk2apP79+2vSpEm6cOGC6urq5O/vrwceeMDoUgFcQwQUAIYKCAjQggULVFFRoYSEBKWlpWnJkiVKS0tTQkKCKioqtGDBAgUEBBhdKoBriFM8AAy3bNkySdLKlSs9Zkr8/f21aNEidz+A7oMHtQEwjfr6er388svasWOHbr/9ds2fP5+ZE6AL4UFtADqlgIAAPfjgg4qPj1d6erosFovRJQEwCNegAAAA0yGgAAAA0yGgAAAA0yGgAAAA0yGgAAAA0yGgAAAA0yGgAAAA0yGgAAAA0yGgADCNjIwMBQQEKDMzUwEBAcrIyDC6JAAG4UmyAEzBx8enRVt+fr58fHzUCd/IAaCdmEEBYLjWwok3/QC6HgIKAEN9/TTOgw8+qPr6euXm5qq+vl4PPvhgq+MAdH1eB5SioiJNmjRJMTEx8vHxUW5u7reOve++++Tj46MXXnjBo/38+fOaOXOmQkNDFR4errlz56q6utrbUgB0Afn5+e7fX3zxRY++ry9/fRyArs/rgFJTU6OhQ4dq1apVVxyXk5Oj4uJixcTEtOibOXOmPvnkExUUFCgvL09FRUW69957vS0FAAB0UV5fJJuWlqa0tLQrjjl79qzmz5+v//mf/2kxLXvkyBFt27ZN+/fv149+9CNJ0ssvv6z09HQtX7681UADAAC6lw6/i6epqUmzZ8/WokWL9IMf/KBF/969exUeHu4OJ5KUkpIiX19fvf/++5oyZUqLdRwOhxwOh3vZbrdLkpxOp5xOZ0fvAoBrKC0tTVu3bpUkzZs3T8uWLZN0+fhesGCBxziOd6Bz8+YY7vCA8txzz8nf39/j4ravKy8vV2RkpGcR/v6KiIhQeXl5q+tkZ2dr6dKlLdq3b9+uoKCg9hcNwDC//OUv3QFl1apV33r6+Je//CXXoQCdXG1t7VWP7dCAcvDgQb344os6dOhQh94WuHjxYi1cuNC9bLfb1a9fP6Wmpio0NLTDPgeAMerr6xUQEHDFfgCdX/MZkKvRoQFl9+7dqqysVGxsrLutsbFRDz/8sF544QWdOnVK0dHRqqys9FivoaFB58+fV3R0dKvbtVqtslqtLdotFossFktH7gIAg7hcLmVkZHjMkqSnp+vtt982sCoAHcmb7+wODSizZ89WSkqKR9uECRM0e/Zs/fznP5ckJScn6+LFizp48KBGjBghSdqxY4eampp00003dWQ5ADqZt99+W06nU/n5+UpPT+d/QIBuzOuAUl1drePHj7uXT548qZKSEkVERCg2Nla9evXyGG+xWBQdHa1BgwZJkgYPHqyJEyfqF7/4hdasWSOn06l58+bpzjvv5A4eAAAgqQ3PQTlw4ICGDx+u4cOHS5IWLlyo4cOH64knnrjqbfzlL39RQkKCfvzjHys9PV233Xab/vjHP3pbCgAA6KK8nkEZO3asVy/uOnXqVIu2iIgIbdiwwduPBgAA3QTv4gEAAKZDQAEAAKZDQAEAAKZDQAEAAKZDQAEAAKZDQAEAAKZDQAEAAKZDQAEAAKZDQAEAAKZDQAEAAKZDQAEAAKZDQAEAAKZDQAEAAKZDQAEAAKZDQAEAAKZDQAEAAKZDQAEAAKZDQAEAAKZDQAEAAKZDQAEAAKZDQAEAAKZDQAEAAKZDQAEAAKZDQAEAAKZDQAEAAKZDQAEAAKZDQAEAAKZDQAEAAKZDQAEAAKZDQAEAAKZDQAEAAKZDQAEAAKZDQAEAAKZDQAEAAKZDQAEAAKZDQAEAAKZDQAEAAKbjb3QBANDMZrMpLS1Nx44d0/XXX6+tW7cqLCzM6LIAGICAAsAU4uPjdeLECffyV199pfDwcA0cOFDHjx83sDIARuAUDwDDfTOcfN2JEycUHx9/jSsCYDSvA0pRUZEmTZqkmJgY+fj4KDc3193ndDr16KOPKikpScHBwYqJidHPfvYzlZWVeWzj/PnzmjlzpkJDQxUeHq65c+equrq63TsDoPOx2WzfGk6anThxQjab7RpVBMAMvA4oNTU1Gjp0qFatWtWir7a2VocOHdJvfvMbHTp0SJs3b9bRo0d1xx13eIybOXOmPvnkExUUFCgvL09FRUW69957274XADqtjIyMDh0HoGvwcblcrjav7OOjnJwcZWZmfuuY/fv368Ybb1RpaaliY2N15MgRJSYmav/+/frRj34kSdq2bZvS09N15swZxcTE/N3PtdvtCgsLk81mU2hoaFvLB2ACPj4+Hsv19fXKz89Xenq6AgICPPra8ecKgAl48/39nV8ka7PZ5OPjo/DwcEnS3r17FR4e7g4nkpSSkiJfX1+9//77mjJlSottOBwOORwO97Ldbpd0+ZSS0+n8bncAwDVTX1/vPqadTqfq6+s9QgrHO9C5eXMMf6cBpa6uTo8++qjuuusud1IqLy9XZGSkZxH+/oqIiFB5eXmr28nOztbSpUtbtG/fvl1BQUEdXzgAQ2zatMl9TBcUFKi2ttajPz8/34iyAHSQbx7TV/KdBRSn06kZM2bI5XLp97//fbu2tXjxYi1cuNC9bLfb1a9fP6WmpnKKB+hC7r77bqWkpGjcuHHauXOn3nnnHY/+9PR0gyoD0BGaz4Bcje8koDSHk9LSUu3YscMjRERHR6uystJjfENDg86fP6/o6OhWt2e1WmW1Wlu0WywWWSyWji0egKHeeeedFsGkGcc70Ll5cwx3+HNQmsPJsWPH9M4776hXr14e/cnJybp48aIOHjzobtuxY4eampp00003dXQ5AEzuai985QJZoHvxegalurra46mOJ0+eVElJiSIiItS7d29Nnz5dhw4dUl5enhobG93XlURERCggIECDBw/WxIkT9Ytf/EJr1qyR0+nUvHnzdOedd17VHTwAuh6Xy9Xibp5v9gPoXry+zXjXrl0aN25ci/Y5c+boySefVFxcXKvr7dy5U2PHjpV0+UFt8+bN05YtW+Tr66tp06bppZdeUs+ePa+qBm4zBrqm1kIK4QToOrz5/m7Xc1CMQkABui6n0+l+DgrXnABdizff37yLBwAAmA4BBQAAmA4BBQAAmA4BBQAAmA4BBQAAmA4BBQAAmA4BBQAAmA4BBQAAmA4BBQAAmM538jbj71rzw2+9eW0zgM7B6XSqtrZWdrudJ8kCXUzz9/bVPMS+UwaUqqoqSVK/fv0MrgQAAHirqqpKYWFhVxzTKd/F09TUpLKyMoWEhFzxDagAOh+73a5+/frpiy++4F1bQBfjcrlUVVWlmJgY+fpe+SqTThlQAHRdvAwUgMRFsgAAwIQIKAAAwHQIKABMxWq1asmSJbJarUaXAsBAXIMCAABMhxkUAABgOgQUAABgOgQUAABgOgQUAABgOgQUAG2yd+9e+fn5KSMjw6P91KlT8vHxUUlJibvtnnvukY+Pz7f+DBgwQJI0YMAAvfDCCy0+68knn9SwYcNa3Z7FYlFcXJweeeQR1dXVtVj3zJkzCggI0JAhQzpitwFcIwQUAG2ydu1azZ8/X0VFRSorK7vi2BdffFFffvml+0eS1q1b517ev3+/158/ceJEffnll/rf//1frVy5Un/4wx+0ZMmSFuPWr1+vGTNmyG636/333/f6cwAYo1O+LBCAsaqrq/Xaa6/pwIEDKi8v1/r16/XYY4996/iwsLAWLwYLDw9XdHR0m2uwWq3u9fv166eUlBQVFBToueeec49xuVxat26dVq9erb59+2rt2rW66aab2vyZAK4dZlAAeO2///u/lZCQoEGDBmnWrFl65ZVXrur16d+Vw4cPa8+ePQoICPBo37lzp2pra5WSkqJZs2bpr3/9q2pqagyqEoA3CCgAvLZ27VrNmjVL0uVTLTabTYWFhde0hry8PPXs2VM9evRQUlKSKisrtWjRohZ13nnnnfLz89OQIUP0/e9/X6+//vo1rRNA2xBQAHjl6NGj2rdvn+666y5Jkr+/v376059q7dq117SOcePGqaSkRO+//77mzJmjn//855o2bZq7/+LFi9q8ebM7SEnSrFmzrnmdANqGa1AAeGXt2rVqaGhQTEyMu83lcslqteo//uM/2rXt0NBQ2Wy2Fu0XL15scQ1LcHCw4uPjJUmvvPKKhg4dqrVr12ru3LmSpA0bNqiurs7jmhOXy6WmpiZ9/vnnuuGGG9pVK4DvFjMoAK5aQ0OD/vSnP+n5559XSUmJ++fDDz9UTEyMNm7c2K7tDxo0SAcPHmzRfujQoSsGCl9fXz322GN6/PHHdenSJUmXg9TDDz/cos5Ro0bplVdeaVedAL57zKAAuGp5eXm6cOGC5s6d22JGY9q0aVq7dq0mTpwo6fKpoG/6wQ9+IIvF8q3bX7BggUaNGqVnnnlGU6dOVWNjozZu3Ki9e/dq9erVV6ztn/7pn7Ro0SKtWrVKKSkpOnTokP7yl78oISHBY9xdd92l3/72t3r66afl78+fQMCsmEEBcNXWrl2rlJSUFuFEuhxQDhw4ILvdLkm68847NXz4cI+fioqKK27/lltu0datW7V161bdeuutGjt2rPbs2aN333337z5ozd/fX/PmzdOyZcu0atUqJSYmtggnkjRlyhRVVlYqPz/fiz0HcK35uIy8NxAAAKAVzKAAAADTIaAAAADTIaAAAADTIaAAAADTIaAAAADTIaAAAADTIaAAAADTIaAAAADTIaAAAADTIaAAAADTIaAAAADTIaAAAADT+b/rOg1zMtmMSQAAAABJRU5ErkJggg==",
      "text/plain": [
       "<Figure size 640x480 with 1 Axes>"
      ]
     },
     "metadata": {},
     "output_type": "display_data"
    }
   ],
   "source": [
    "df[['ALTURA']].boxplot()"
   ]
  },
  {
   "cell_type": "code",
   "execution_count": 6,
   "id": "459c47c0",
   "metadata": {},
   "outputs": [
    {
     "data": {
      "text/plain": [
       "0    175.0\n",
       "Name: ALTURA, dtype: float64"
      ]
     },
     "execution_count": 6,
     "metadata": {},
     "output_type": "execute_result"
    }
   ],
   "source": [
    "df['ALTURA'].mode()"
   ]
  },
  {
   "cell_type": "code",
   "execution_count": 7,
   "id": "eca40109",
   "metadata": {
    "scrolled": true
   },
   "outputs": [
    {
     "data": {
      "text/plain": [
       "ANO_NASCIMENTO    2003.637471\n",
       "PESO                70.131373\n",
       "ALTURA             174.417648\n",
       "CALCADO             40.959570\n",
       "CINTURA             77.289827\n",
       "dtype: float64"
      ]
     },
     "execution_count": 7,
     "metadata": {},
     "output_type": "execute_result"
    }
   ],
   "source": [
    "df[['ANO_NASCIMENTO', 'PESO', 'ALTURA', 'CALCADO', 'CINTURA']].mean()"
   ]
  },
  {
   "cell_type": "code",
   "execution_count": 8,
   "id": "fdab446e",
   "metadata": {},
   "outputs": [],
   "source": [
    "df.dropna(subset = ['PESO', 'ALTURA', 'CABECA', 'CALCADO', 'CINTURA'], inplace = True)"
   ]
  },
  {
   "cell_type": "code",
   "execution_count": 9,
   "metadata": {},
   "outputs": [
    {
     "data": {
      "text/plain": [
       "Index(['ANO_NASCIMENTO', 'PESO', 'ALTURA', 'CABECA', 'CALCADO', 'CINTURA',\n",
       "       'MUN_NASCIMENTO', 'UF_NASCIMENTO', 'PAIS_NASCIMENTO', 'ESTADO_CIVIL',\n",
       "       'SEXO', 'ESCOLARIDADE', 'VINCULACAO_ANO', 'DISPENSA',\n",
       "       'ZONA_RESIDENCIAL', 'MUN_RESIDENCIA', 'UF_RESIDENCIA',\n",
       "       'PAIS_RESIDENCIA', 'JSM', 'MUN_JSM', 'UF_JSM'],\n",
       "      dtype='object')"
      ]
     },
     "execution_count": 9,
     "metadata": {},
     "output_type": "execute_result"
    }
   ],
   "source": [
    "#Alterando a coluna de Id\n",
    "df.set_index('Unnamed: 0', inplace=True)\n",
    "df.columns"
   ]
  },
  {
   "cell_type": "code",
   "execution_count": 10,
   "metadata": {},
   "outputs": [],
   "source": [
    "#Criando uma coluna com a idade dos alistados no ano que se alistaram \n",
    "df['Idade_alistado'] = df['VINCULACAO_ANO'] - df['ANO_NASCIMENTO'] \n"
   ]
  },
  {
   "cell_type": "code",
   "execution_count": 11,
   "metadata": {},
   "outputs": [
    {
     "data": {
      "text/html": [
       "<div>\n",
       "<style scoped>\n",
       "    .dataframe tbody tr th:only-of-type {\n",
       "        vertical-align: middle;\n",
       "    }\n",
       "\n",
       "    .dataframe tbody tr th {\n",
       "        vertical-align: top;\n",
       "    }\n",
       "\n",
       "    .dataframe thead th {\n",
       "        text-align: right;\n",
       "    }\n",
       "</style>\n",
       "<table border=\"1\" class=\"dataframe\">\n",
       "  <thead>\n",
       "    <tr style=\"text-align: right;\">\n",
       "      <th></th>\n",
       "      <th>MUN_NASCIMENTO</th>\n",
       "      <th>Idade_alistado</th>\n",
       "    </tr>\n",
       "    <tr>\n",
       "      <th>Unnamed: 0</th>\n",
       "      <th></th>\n",
       "      <th></th>\n",
       "    </tr>\n",
       "  </thead>\n",
       "  <tbody>\n",
       "    <tr>\n",
       "      <th>1</th>\n",
       "      <td>PALMEIRA DAS MISSOES</td>\n",
       "      <td>27</td>\n",
       "    </tr>\n",
       "    <tr>\n",
       "      <th>2</th>\n",
       "      <td>PORTO ALEGRE</td>\n",
       "      <td>48</td>\n",
       "    </tr>\n",
       "    <tr>\n",
       "      <th>21</th>\n",
       "      <td>SAO PAULO</td>\n",
       "      <td>25</td>\n",
       "    </tr>\n",
       "    <tr>\n",
       "      <th>26</th>\n",
       "      <td>SANTANA</td>\n",
       "      <td>25</td>\n",
       "    </tr>\n",
       "    <tr>\n",
       "      <th>62</th>\n",
       "      <td>MANACAPURU</td>\n",
       "      <td>27</td>\n",
       "    </tr>\n",
       "    <tr>\n",
       "      <th>...</th>\n",
       "      <td>...</td>\n",
       "      <td>...</td>\n",
       "    </tr>\n",
       "    <tr>\n",
       "      <th>299528</th>\n",
       "      <td>TEOFILO OTONI</td>\n",
       "      <td>26</td>\n",
       "    </tr>\n",
       "    <tr>\n",
       "      <th>300641</th>\n",
       "      <td>GUACUI</td>\n",
       "      <td>26</td>\n",
       "    </tr>\n",
       "    <tr>\n",
       "      <th>300736</th>\n",
       "      <td>LIMOEIRO</td>\n",
       "      <td>25</td>\n",
       "    </tr>\n",
       "    <tr>\n",
       "      <th>301077</th>\n",
       "      <td>RIO BRANCO</td>\n",
       "      <td>25</td>\n",
       "    </tr>\n",
       "    <tr>\n",
       "      <th>301096</th>\n",
       "      <td>ITABUNA</td>\n",
       "      <td>27</td>\n",
       "    </tr>\n",
       "  </tbody>\n",
       "</table>\n",
       "<p>509 rows × 2 columns</p>\n",
       "</div>"
      ],
      "text/plain": [
       "                  MUN_NASCIMENTO  Idade_alistado\n",
       "Unnamed: 0                                      \n",
       "1           PALMEIRA DAS MISSOES              27\n",
       "2                   PORTO ALEGRE              48\n",
       "21                     SAO PAULO              25\n",
       "26                       SANTANA              25\n",
       "62                    MANACAPURU              27\n",
       "...                          ...             ...\n",
       "299528             TEOFILO OTONI              26\n",
       "300641                    GUACUI              26\n",
       "300736                  LIMOEIRO              25\n",
       "301077                RIO BRANCO              25\n",
       "301096                   ITABUNA              27\n",
       "\n",
       "[509 rows x 2 columns]"
      ]
     },
     "execution_count": 11,
     "metadata": {},
     "output_type": "execute_result"
    }
   ],
   "source": [
    "#Conferindo alistados acima de 25 anos\n",
    "alistados_25 = df.loc[df['Idade_alistado'] >= 25, ['MUN_NASCIMENTO','Idade_alistado']]\n",
    "alistados_25"
   ]
  },
  {
   "cell_type": "code",
   "execution_count": 12,
   "metadata": {},
   "outputs": [
    {
     "data": {
      "text/plain": [
       "18.362528828834815"
      ]
     },
     "execution_count": 12,
     "metadata": {},
     "output_type": "execute_result"
    }
   ],
   "source": [
    "#Media da idade de alistamento\n",
    "df['Idade_alistado'].mean()"
   ]
  },
  {
   "cell_type": "code",
   "execution_count": 13,
   "metadata": {},
   "outputs": [
    {
     "data": {
      "text/html": [
       "<div>\n",
       "<style scoped>\n",
       "    .dataframe tbody tr th:only-of-type {\n",
       "        vertical-align: middle;\n",
       "    }\n",
       "\n",
       "    .dataframe tbody tr th {\n",
       "        vertical-align: top;\n",
       "    }\n",
       "\n",
       "    .dataframe thead th {\n",
       "        text-align: right;\n",
       "    }\n",
       "</style>\n",
       "<table border=\"1\" class=\"dataframe\">\n",
       "  <thead>\n",
       "    <tr style=\"text-align: right;\">\n",
       "      <th></th>\n",
       "      <th>ANO_NASCIMENTO</th>\n",
       "      <th>PESO</th>\n",
       "      <th>ALTURA</th>\n",
       "      <th>CABECA</th>\n",
       "      <th>CALCADO</th>\n",
       "      <th>CINTURA</th>\n",
       "      <th>VINCULACAO_ANO</th>\n",
       "      <th>Idade_alistado</th>\n",
       "    </tr>\n",
       "  </thead>\n",
       "  <tbody>\n",
       "    <tr>\n",
       "      <th>count</th>\n",
       "      <td>300914.000000</td>\n",
       "      <td>300914.000000</td>\n",
       "      <td>300914.000000</td>\n",
       "      <td>300914.000000</td>\n",
       "      <td>300914.000000</td>\n",
       "      <td>300914.000000</td>\n",
       "      <td>300914.0</td>\n",
       "      <td>300914.000000</td>\n",
       "    </tr>\n",
       "    <tr>\n",
       "      <th>mean</th>\n",
       "      <td>2003.637471</td>\n",
       "      <td>70.131373</td>\n",
       "      <td>174.417648</td>\n",
       "      <td>56.456689</td>\n",
       "      <td>40.959570</td>\n",
       "      <td>77.289827</td>\n",
       "      <td>2022.0</td>\n",
       "      <td>18.362529</td>\n",
       "    </tr>\n",
       "    <tr>\n",
       "      <th>std</th>\n",
       "      <td>0.866453</td>\n",
       "      <td>14.834385</td>\n",
       "      <td>8.987376</td>\n",
       "      <td>3.591626</td>\n",
       "      <td>2.336608</td>\n",
       "      <td>13.225223</td>\n",
       "      <td>0.0</td>\n",
       "      <td>0.866453</td>\n",
       "    </tr>\n",
       "    <tr>\n",
       "      <th>min</th>\n",
       "      <td>1925.000000</td>\n",
       "      <td>30.000000</td>\n",
       "      <td>120.000000</td>\n",
       "      <td>41.000000</td>\n",
       "      <td>30.000000</td>\n",
       "      <td>50.000000</td>\n",
       "      <td>2022.0</td>\n",
       "      <td>16.000000</td>\n",
       "    </tr>\n",
       "    <tr>\n",
       "      <th>25%</th>\n",
       "      <td>2004.000000</td>\n",
       "      <td>60.000000</td>\n",
       "      <td>170.000000</td>\n",
       "      <td>56.000000</td>\n",
       "      <td>40.000000</td>\n",
       "      <td>71.000000</td>\n",
       "      <td>2022.0</td>\n",
       "      <td>18.000000</td>\n",
       "    </tr>\n",
       "    <tr>\n",
       "      <th>50%</th>\n",
       "      <td>2004.000000</td>\n",
       "      <td>67.000000</td>\n",
       "      <td>175.000000</td>\n",
       "      <td>57.000000</td>\n",
       "      <td>41.000000</td>\n",
       "      <td>78.000000</td>\n",
       "      <td>2022.0</td>\n",
       "      <td>18.000000</td>\n",
       "    </tr>\n",
       "    <tr>\n",
       "      <th>75%</th>\n",
       "      <td>2004.000000</td>\n",
       "      <td>77.000000</td>\n",
       "      <td>180.000000</td>\n",
       "      <td>58.000000</td>\n",
       "      <td>42.000000</td>\n",
       "      <td>85.000000</td>\n",
       "      <td>2022.0</td>\n",
       "      <td>18.000000</td>\n",
       "    </tr>\n",
       "    <tr>\n",
       "      <th>max</th>\n",
       "      <td>2006.000000</td>\n",
       "      <td>200.000000</td>\n",
       "      <td>250.000000</td>\n",
       "      <td>79.000000</td>\n",
       "      <td>50.000000</td>\n",
       "      <td>180.000000</td>\n",
       "      <td>2022.0</td>\n",
       "      <td>97.000000</td>\n",
       "    </tr>\n",
       "  </tbody>\n",
       "</table>\n",
       "</div>"
      ],
      "text/plain": [
       "       ANO_NASCIMENTO           PESO         ALTURA         CABECA  \\\n",
       "count   300914.000000  300914.000000  300914.000000  300914.000000   \n",
       "mean      2003.637471      70.131373     174.417648      56.456689   \n",
       "std          0.866453      14.834385       8.987376       3.591626   \n",
       "min       1925.000000      30.000000     120.000000      41.000000   \n",
       "25%       2004.000000      60.000000     170.000000      56.000000   \n",
       "50%       2004.000000      67.000000     175.000000      57.000000   \n",
       "75%       2004.000000      77.000000     180.000000      58.000000   \n",
       "max       2006.000000     200.000000     250.000000      79.000000   \n",
       "\n",
       "             CALCADO        CINTURA  VINCULACAO_ANO  Idade_alistado  \n",
       "count  300914.000000  300914.000000        300914.0   300914.000000  \n",
       "mean       40.959570      77.289827          2022.0       18.362529  \n",
       "std         2.336608      13.225223             0.0        0.866453  \n",
       "min        30.000000      50.000000          2022.0       16.000000  \n",
       "25%        40.000000      71.000000          2022.0       18.000000  \n",
       "50%        41.000000      78.000000          2022.0       18.000000  \n",
       "75%        42.000000      85.000000          2022.0       18.000000  \n",
       "max        50.000000     180.000000          2022.0       97.000000  "
      ]
     },
     "execution_count": 13,
       "      <th>0</th>\n",
       "      <td>1</td>\n",
       "      <td>1995</td>\n",
       "      <td>79.0</td>\n",
       "      <td>181.0</td>\n",
       "      <td>56.0</td>\n",
       "      <td>41.0</td>\n",
       "      <td>88.0</td>\n",
       "      <td>PALMEIRA DAS MISSOES</td>\n",
       "      <td>RS</td>\n",
       "      <td>BRASIL</td>\n",
       "      <td>...</td>\n",
       "      <td>Ensino Médio Completo</td>\n",
       "      <td>2022</td>\n",
       "      <td>Com dispensa</td>\n",
       "      <td>Urbana</td>\n",
       "      <td>CANOAS</td>\n",
       "      <td>RS</td>\n",
       "      <td>BRASIL</td>\n",
       "      <td>10/52 - PALMEIRA DAS MISSOES</td>\n",
       "      <td>PALMEIRA DAS MISSOES</td>\n",
       "      <td>RS</td>\n",
       "    </tr>\n",
       "    <tr>\n",
       "      <th>1</th>\n",
       "      <td>2</td>\n",
       "      <td>1974</td>\n",
       "      <td>64.0</td>\n",
       "      <td>165.0</td>\n",
       "      <td>58.0</td>\n",
       "      <td>38.0</td>\n",
       "      <td>75.0</td>\n",
       "      <td>PORTO ALEGRE</td>\n",
       "      <td>RS</td>\n",
       "      <td>BRASIL</td>\n",
       "      <td>...</td>\n",
       "      <td>7° Ano - Ensino Fundamental</td>\n",
       "      <td>2022</td>\n",
       "      <td>Com dispensa</td>\n",
       "      <td>Urbana</td>\n",
       "      <td>ITAJAI</td>\n",
       "      <td>SC</td>\n",
       "      <td>BRASIL</td>\n",
       "      <td>16/28 - ITAJAI</td>\n",
       "      <td>ITAJAI</td>\n",
       "      <td>SC</td>\n",
       "    </tr>\n",
       "    <tr>\n",
       "      <th>2</th>\n",
       "      <td>3</td>\n",
       "      <td>1998</td>\n",
       "      <td>55.0</td>\n",
       "      <td>180.0</td>\n",
       "      <td>53.0</td>\n",
       "      <td>41.0</td>\n",
       "      <td>74.0</td>\n",
       "      <td>JANDIRA</td>\n",
       "      <td>SP</td>\n",
       "      <td>BRASIL</td>\n",
       "      <td>...</td>\n",
       "      <td>Ensino Médio Completo</td>\n",
       "      <td>2022</td>\n",
       "      <td>Com dispensa</td>\n",
       "      <td>Urbana</td>\n",
       "      <td>SERTAOZINHO</td>\n",
       "      <td>SP</td>\n",
       "      <td>BRASIL</td>\n",
       "      <td>5/123 - SERTAOZINHO</td>\n",
       "      <td>SERTAOZINHO</td>\n",
       "      <td>SP</td>\n",
       "    </tr>\n",
       "    <tr>\n",
       "      <th>3</th>\n",
       "      <td>4</td>\n",
       "      <td>1999</td>\n",
       "      <td>76.0</td>\n",
       "      <td>186.0</td>\n",
       "      <td>57.0</td>\n",
       "      <td>42.0</td>\n",
       "      <td>88.0</td>\n",
       "      <td>CACERES</td>\n",
       "      <td>MT</td>\n",
       "      <td>BRASIL</td>\n",
       "      <td>...</td>\n",
       "      <td>3° Ano - Ensino Médio</td>\n",
       "      <td>2022</td>\n",
       "      <td>Com dispensa</td>\n",
       "      <td>Urbana</td>\n",
       "      <td>CACERES</td>\n",
       "      <td>MT</td>\n",
       "      <td>BRASIL</td>\n",
       "      <td>30/24 - CACERES</td>\n",
       "      <td>CACERES</td>\n",
       "      <td>MT</td>\n",
       "    </tr>\n",
       "    <tr>\n",
       "      <th>4</th>\n",
       "      <td>5</td>\n",
       "      <td>2000</td>\n",
       "      <td>76.0</td>\n",
       "      <td>184.0</td>\n",
       "      <td>58.0</td>\n",
       "      <td>42.0</td>\n",
       "      <td>78.0</td>\n",
       "      <td>BRASILIA</td>\n",
       "      <td>DF</td>\n",
       "      <td>BRASIL</td>\n",
       "      <td>...</td>\n",
       "      <td>2° Semestre - Ensino Superior</td>\n",
       "      <td>2022</td>\n",
       "      <td>Com dispensa</td>\n",
       "      <td>Rural</td>\n",
       "      <td>BRASILIA</td>\n",
       "      <td>DF</td>\n",
       "      <td>BRASIL</td>\n",
       "      <td>7/331 - BRASILIA (SAMAMBAIA)</td>\n",
       "      <td>BRASILIA</td>\n",
       "      <td>DF</td>\n",
       "    </tr>\n",
       "  </tbody>\n",
       "</table>\n",
       "<p>5 rows × 22 columns</p>\n",
       "</div>"
      ],
      "text/plain": [
       "   Unnamed: 0  ANO_NASCIMENTO  PESO  ALTURA  CABECA  CALCADO  CINTURA  \\\n",
       "0           1            1995  79.0   181.0    56.0     41.0     88.0   \n",
       "1           2            1974  64.0   165.0    58.0     38.0     75.0   \n",
       "2           3            1998  55.0   180.0    53.0     41.0     74.0   \n",
       "3           4            1999  76.0   186.0    57.0     42.0     88.0   \n",
       "4           5            2000  76.0   184.0    58.0     42.0     78.0   \n",
       "\n",
       "         MUN_NASCIMENTO UF_NASCIMENTO PAIS_NASCIMENTO  ...  \\\n",
       "0  PALMEIRA DAS MISSOES            RS          BRASIL  ...   \n",
       "1          PORTO ALEGRE            RS          BRASIL  ...   \n",
       "2               JANDIRA            SP          BRASIL  ...   \n",
       "3               CACERES            MT          BRASIL  ...   \n",
       "4              BRASILIA            DF          BRASIL  ...   \n",
       "\n",
       "                    ESCOLARIDADE VINCULACAO_ANO      DISPENSA  \\\n",
       "0          Ensino Médio Completo           2022  Com dispensa   \n",
       "1    7° Ano - Ensino Fundamental           2022  Com dispensa   \n",
       "2          Ensino Médio Completo           2022  Com dispensa   \n",
       "3          3° Ano - Ensino Médio           2022  Com dispensa   \n",
       "4  2° Semestre - Ensino Superior           2022  Com dispensa   \n",
       "\n",
       "   ZONA_RESIDENCIAL MUN_RESIDENCIA UF_RESIDENCIA PAIS_RESIDENCIA  \\\n",
       "0            Urbana         CANOAS            RS          BRASIL   \n",
       "1            Urbana         ITAJAI            SC          BRASIL   \n",
       "2            Urbana    SERTAOZINHO            SP          BRASIL   \n",
       "3            Urbana        CACERES            MT          BRASIL   \n",
       "4             Rural       BRASILIA            DF          BRASIL   \n",
       "\n",
       "                            JSM               MUN_JSM UF_JSM  \n",
       "0  10/52 - PALMEIRA DAS MISSOES  PALMEIRA DAS MISSOES     RS  \n",
       "1                16/28 - ITAJAI                ITAJAI     SC  \n",
       "2           5/123 - SERTAOZINHO           SERTAOZINHO     SP  \n",
       "3               30/24 - CACERES               CACERES     MT  \n",
       "4  7/331 - BRASILIA (SAMAMBAIA)              BRASILIA     DF  \n",
       "\n",
       "[5 rows x 22 columns]"
      ]
     },
     "execution_count": 4,
     "metadata": {},
     "output_type": "execute_result"
    }
   ],
   "source": [
    "df.describe()"
   ]
  },
  {
   "cell_type": "code",
   "execution_count": 14,
   "execution_count": null,
   "id": "0c7837a8",
   "metadata": {},
   "outputs": [],
   "source": [
    "contagem_nascimento= df['UF_NASCIMENTO'].value_counts()\n",
    "\n",
    "contagem_residencia= df['UF_RESIDENCIA'].value_counts()\n"
   ]
  },
  {
   "cell_type": "code",
   "execution_count": 14,
   "id": "fe9814e3",
   "metadata": {},
   "outputs": [
    {
     "data": {
      "image/png": "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",
      "text/plain": [
       "<Figure size 1000x500 with 1 Axes>"
      ]
     },
     "metadata": {},
     "output_type": "display_data"
    }
   ],
   "source": [
    "# Gráfico de barras para UF Nascimento\n",
    "plt.figure(figsize=(10,5))\n",
    "contagem_nascimento.plot(kind='bar', color= 'blue')\n",
    "plt.title('Número de Nascimento por UF')\n",
    "plt.xlabel('UF')\n",
    "plt.ylabel('Número de Nascimentos')\n",
    "plt.show()"
   ]
  },
  {
   "cell_type": "code",
   "execution_count": 15,
   "id": "33ef038c",
   "metadata": {},
   "outputs": [
    {
     "data": {
      "image/png": "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",
      "text/plain": [
       "<Figure size 1000x500 with 1 Axes>"
      ]
     },
     "metadata": {},
     "output_type": "display_data"
    }
   ],
   "source": [
    "# Gráfico de barras para UF de Residência\n",
    "plt.figure(figsize=(10,5))\n",
    "contagem_residencia.plot(kind='bar', color='orange')\n",
    "plt.title('Número de Residências por UF')\n",
    "plt.xlabel('UF')\n",
    "plt.ylabel('Número de Residências')\n",
    "plt.show()"
   ]
  },
  {
   "cell_type": "code",
   "execution_count": 5,
   "id": "f1138dff",
   "metadata": {},
   "outputs": [
    {
     "data": {
      "text/plain": [
       "Unnamed: 0\n",
       "1         Com dispensa\n",
       "2         Com dispensa\n",
       "3         Com dispensa\n",
       "4         Com dispensa\n",
       "5         Com dispensa\n",
       "              ...     \n",
       "301458    Com dispensa\n",
       "301459    Com dispensa\n",
       "301460    Com dispensa\n",
       "301461    Com dispensa\n",
       "301462    Com dispensa\n",
       "Name: DISPENSA, Length: 300914, dtype: object"
       "<AxesSubplot:>"
      ]
     },
     "execution_count": 14,
     "metadata": {},
     "output_type": "execute_result"
    },
    {
     "data": {
      "image/png": "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",
      "text/plain": [
       "<Figure size 640x480 with 1 Axes>"
      ]
     },
     "metadata": {},
     "output_type": "display_data"
    }
   ],
   "source": [
    "df['DISPENSA']"
   ]
  },
  {
   "cell_type": "code",
   "execution_count": null,
   "metadata": {},
   "outputs": [],
   "execution_count": 6,
   "id": "459c47c0",
   "metadata": {},
   "outputs": [
    {
     "data": {
      "text/plain": [
       "0    175.0\n",
       "Name: ALTURA, dtype: float64"
      ]
     },
     "execution_count": 6,
     "metadata": {},
     "output_type": "execute_result"
    }
   ],
   "source": [
    "df['ALTURA'].mode()"
   ]
  },
  {
   "cell_type": "code",
   "execution_count": 7,
   "id": "eca40109",
   "metadata": {
    "scrolled": true
   },
   "outputs": [
    {
     "data": {
      "text/plain": [
       "ANO_NASCIMENTO    2003.64\n",
       "PESO                70.13\n",
       "ALTURA             174.42\n",
       "CALCADO             40.96\n",
       "CINTURA             77.29\n",
       "dtype: float64"
      ]
     },
     "execution_count": 7,
     "metadata": {},
     "output_type": "execute_result"
    }
   ],
   "source": [
    "df[['ANO_NASCIMENTO', 'PESO', 'ALTURA', 'CALCADO', 'CINTURA']].mean().apply(lambda x: round(x, 2))"
   ]
  },
  {
   "cell_type": "code",
   "execution_count": 11,
   "id": "fdab446e",
   "metadata": {},
   "outputs": [],
   "source": [
    "df.dropna(subset = ['PESO', 'ALTURA', 'CABECA', 'CALCADO', 'CINTURA'], inplace = True)"
   ]
  },
  {
   "cell_type": "code",
   "execution_count": 21,
   "id": "86168654",
   "metadata": {},
   "outputs": [],
   "source": [
    "dispensas=df['DISPENSA'].value_counts()"
   ]
  },
  {
   "cell_type": "code",
   "execution_count": 22,
   "id": "1573b4f0",
   "metadata": {},
   "outputs": [
    {
     "data": {
      "image/png": "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",
      "text/plain": [
       "<Figure size 800x500 with 1 Axes>"
      ]
     },
     "metadata": {},
     "output_type": "display_data"
    }
   ],
   "source": [
    "# Distribuição de dispensa militar\n",
    "plt.figure(figsize=(8,5))\n",
    "dispensas.plot(kind='bar', color=['blue','orange'])\n",
    "plt.title('Distribuição de Dispensa Militar')\n",
    "plt.xlabel('Dispensa Militar')\n",
    "plt.ylabel('Contagem')\n",
    "plt.show()"
   ]
  },
  {
   "cell_type": "code",
   "execution_count": null,
   "id": "f5b8e422",
   "metadata": {},
   "outputs": [],
   "source": []
  }
 ],
 "metadata": {
  "kernelspec": {
   "display_name": "Anaconda (base)",
   "language": "python",
   "name": "anaconda-base"
  },
  "language_info": {
   "codemirror_mode": {
    "name": "ipython",
    "version": 3
   },
   "file_extension": ".py",
   "mimetype": "text/x-python",
   "name": "python",
   "nbconvert_exporter": "python",
   "pygments_lexer": "ipython3",
   "version": "3.9.13"
  }
 },
 "nbformat": 4,
 "nbformat_minor": 5
}
