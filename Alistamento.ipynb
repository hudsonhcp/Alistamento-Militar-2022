{
 "cells": [
  {
   "cell_type": "code",
   "execution_count": 2,
   "id": "91baa52d",
   "metadata": {},
   "outputs": [],
   "source": [
    "import pandas as pd\n",
    "import numpy as np\n",
    "import matplotlib.pyplot as plt"
   ]
  },
  {
   "cell_type": "code",
   "execution_count": 3,
   "id": "d4b49f89",
   "metadata": {},
   "outputs": [],
   "source": [
    "df = pd.read_csv('alistamento_militar_2022.csv')"
   ]
  },
  {
   "cell_type": "code",
   "execution_count": 3,
   "id": "04917eb6",
   "metadata": {
    "scrolled": true
   },
   "outputs": [
    {
     "name": "stdout",
     "output_type": "stream",
     "text": [
      "<class 'pandas.core.frame.DataFrame'>\n",
      "RangeIndex: 300914 entries, 0 to 300913\n",
      "Data columns (total 22 columns):\n",
      " #   Column            Non-Null Count   Dtype  \n",
      "---  ------            --------------   -----  \n",
      " 0   Unnamed: 0        300914 non-null  int64  \n",
      " 1   ANO_NASCIMENTO    300914 non-null  int64  \n",
      " 2   PESO              300914 non-null  float64\n",
      " 3   ALTURA            300914 non-null  float64\n",
      " 4   CABECA            300914 non-null  float64\n",
      " 5   CALCADO           300914 non-null  float64\n",
      " 6   CINTURA           300914 non-null  float64\n",
      " 7   MUN_NASCIMENTO    300914 non-null  object \n",
      " 8   UF_NASCIMENTO     300914 non-null  object \n",
      " 9   PAIS_NASCIMENTO   300914 non-null  object \n",
      " 10  ESTADO_CIVIL      300914 non-null  object \n",
      " 11  SEXO              300914 non-null  object \n",
      " 12  ESCOLARIDADE      300914 non-null  object \n",
      " 13  VINCULACAO_ANO    300914 non-null  int64  \n",
      " 14  DISPENSA          300914 non-null  object \n",
      " 15  ZONA_RESIDENCIAL  300914 non-null  object \n",
      " 16  MUN_RESIDENCIA    300914 non-null  object \n",
      " 17  UF_RESIDENCIA     300914 non-null  object \n",
      " 18  PAIS_RESIDENCIA   300914 non-null  object \n",
      " 19  JSM               300914 non-null  object \n",
      " 20  MUN_JSM           300914 non-null  object \n",
      " 21  UF_JSM            300914 non-null  object \n",
      "dtypes: float64(5), int64(3), object(14)\n",
      "memory usage: 50.5+ MB\n"
     ]
    }
   ],
   "source": [
    "df.info()"
   ]
  },
  {
   "cell_type": "code",
   "execution_count": 4,
   "id": "d6d27594",
   "metadata": {},
   "outputs": [
    {
     "data": {
      "text/html": [
       "<div>\n",
       "<style scoped>\n",
       "    .dataframe tbody tr th:only-of-type {\n",
       "        vertical-align: middle;\n",
       "    }\n",
       "\n",
       "    .dataframe tbody tr th {\n",
       "        vertical-align: top;\n",
       "    }\n",
       "\n",
       "    .dataframe thead th {\n",
       "        text-align: right;\n",
       "    }\n",
       "</style>\n",
       "<table border=\"1\" class=\"dataframe\">\n",
       "  <thead>\n",
       "    <tr style=\"text-align: right;\">\n",
       "      <th></th>\n",
       "      <th>Unnamed: 0</th>\n",
       "      <th>ANO_NASCIMENTO</th>\n",
       "      <th>PESO</th>\n",
       "      <th>ALTURA</th>\n",
       "      <th>CABECA</th>\n",
       "      <th>CALCADO</th>\n",
       "      <th>CINTURA</th>\n",
       "      <th>MUN_NASCIMENTO</th>\n",
       "      <th>UF_NASCIMENTO</th>\n",
       "      <th>PAIS_NASCIMENTO</th>\n",
       "      <th>...</th>\n",
       "      <th>ESCOLARIDADE</th>\n",
       "      <th>VINCULACAO_ANO</th>\n",
       "      <th>DISPENSA</th>\n",
       "      <th>ZONA_RESIDENCIAL</th>\n",
       "      <th>MUN_RESIDENCIA</th>\n",
       "      <th>UF_RESIDENCIA</th>\n",
       "      <th>PAIS_RESIDENCIA</th>\n",
       "      <th>JSM</th>\n",
       "      <th>MUN_JSM</th>\n",
       "      <th>UF_JSM</th>\n",
       "    </tr>\n",
       "  </thead>\n",
       "  <tbody>\n",
       "    <tr>\n",
       "      <th>0</th>\n",
       "      <td>1</td>\n",
       "      <td>1995</td>\n",
       "      <td>79.0</td>\n",
       "      <td>181.0</td>\n",
       "      <td>56.0</td>\n",
       "      <td>41.0</td>\n",
       "      <td>88.0</td>\n",
       "      <td>PALMEIRA DAS MISSOES</td>\n",
       "      <td>RS</td>\n",
       "      <td>BRASIL</td>\n",
       "      <td>...</td>\n",
       "      <td>Ensino Médio Completo</td>\n",
       "      <td>2022</td>\n",
       "      <td>Com dispensa</td>\n",
       "      <td>Urbana</td>\n",
       "      <td>CANOAS</td>\n",
       "      <td>RS</td>\n",
       "      <td>BRASIL</td>\n",
       "      <td>10/52 - PALMEIRA DAS MISSOES</td>\n",
       "      <td>PALMEIRA DAS MISSOES</td>\n",
       "      <td>RS</td>\n",
       "    </tr>\n",
       "    <tr>\n",
       "      <th>1</th>\n",
       "      <td>2</td>\n",
       "      <td>1974</td>\n",
       "      <td>64.0</td>\n",
       "      <td>165.0</td>\n",
       "      <td>58.0</td>\n",
       "      <td>38.0</td>\n",
       "      <td>75.0</td>\n",
       "      <td>PORTO ALEGRE</td>\n",
       "      <td>RS</td>\n",
       "      <td>BRASIL</td>\n",
       "      <td>...</td>\n",
       "      <td>7° Ano - Ensino Fundamental</td>\n",
       "      <td>2022</td>\n",
       "      <td>Com dispensa</td>\n",
       "      <td>Urbana</td>\n",
       "      <td>ITAJAI</td>\n",
       "      <td>SC</td>\n",
       "      <td>BRASIL</td>\n",
       "      <td>16/28 - ITAJAI</td>\n",
       "      <td>ITAJAI</td>\n",
       "      <td>SC</td>\n",
       "    </tr>\n",
       "    <tr>\n",
       "      <th>2</th>\n",
       "      <td>3</td>\n",
       "      <td>1998</td>\n",
       "      <td>55.0</td>\n",
       "      <td>180.0</td>\n",
       "      <td>53.0</td>\n",
       "      <td>41.0</td>\n",
       "      <td>74.0</td>\n",
       "      <td>JANDIRA</td>\n",
       "      <td>SP</td>\n",
       "      <td>BRASIL</td>\n",
       "      <td>...</td>\n",
       "      <td>Ensino Médio Completo</td>\n",
       "      <td>2022</td>\n",
       "      <td>Com dispensa</td>\n",
       "      <td>Urbana</td>\n",
       "      <td>SERTAOZINHO</td>\n",
       "      <td>SP</td>\n",
       "      <td>BRASIL</td>\n",
       "      <td>5/123 - SERTAOZINHO</td>\n",
       "      <td>SERTAOZINHO</td>\n",
       "      <td>SP</td>\n",
       "    </tr>\n",
       "    <tr>\n",
       "      <th>3</th>\n",
       "      <td>4</td>\n",
       "      <td>1999</td>\n",
       "      <td>76.0</td>\n",
       "      <td>186.0</td>\n",
       "      <td>57.0</td>\n",
       "      <td>42.0</td>\n",
       "      <td>88.0</td>\n",
       "      <td>CACERES</td>\n",
       "      <td>MT</td>\n",
       "      <td>BRASIL</td>\n",
       "      <td>...</td>\n",
       "      <td>3° Ano - Ensino Médio</td>\n",
       "      <td>2022</td>\n",
       "      <td>Com dispensa</td>\n",
       "      <td>Urbana</td>\n",
       "      <td>CACERES</td>\n",
       "      <td>MT</td>\n",
       "      <td>BRASIL</td>\n",
       "      <td>30/24 - CACERES</td>\n",
       "      <td>CACERES</td>\n",
       "      <td>MT</td>\n",
       "    </tr>\n",
       "    <tr>\n",
       "      <th>4</th>\n",
       "      <td>5</td>\n",
       "      <td>2000</td>\n",
       "      <td>76.0</td>\n",
       "      <td>184.0</td>\n",
       "      <td>58.0</td>\n",
       "      <td>42.0</td>\n",
       "      <td>78.0</td>\n",
       "      <td>BRASILIA</td>\n",
       "      <td>DF</td>\n",
       "      <td>BRASIL</td>\n",
       "      <td>...</td>\n",
       "      <td>2° Semestre - Ensino Superior</td>\n",
       "      <td>2022</td>\n",
       "      <td>Com dispensa</td>\n",
       "      <td>Rural</td>\n",
       "      <td>BRASILIA</td>\n",
       "      <td>DF</td>\n",
       "      <td>BRASIL</td>\n",
       "      <td>7/331 - BRASILIA (SAMAMBAIA)</td>\n",
       "      <td>BRASILIA</td>\n",
       "      <td>DF</td>\n",
       "    </tr>\n",
       "  </tbody>\n",
       "</table>\n",
       "<p>5 rows × 22 columns</p>\n",
       "</div>"
      ],
      "text/plain": [
       "   Unnamed: 0  ANO_NASCIMENTO  PESO  ALTURA  CABECA  CALCADO  CINTURA  \\\n",
       "0           1            1995  79.0   181.0    56.0     41.0     88.0   \n",
       "1           2            1974  64.0   165.0    58.0     38.0     75.0   \n",
       "2           3            1998  55.0   180.0    53.0     41.0     74.0   \n",
       "3           4            1999  76.0   186.0    57.0     42.0     88.0   \n",
       "4           5            2000  76.0   184.0    58.0     42.0     78.0   \n",
       "\n",
       "         MUN_NASCIMENTO UF_NASCIMENTO PAIS_NASCIMENTO  ...  \\\n",
       "0  PALMEIRA DAS MISSOES            RS          BRASIL  ...   \n",
       "1          PORTO ALEGRE            RS          BRASIL  ...   \n",
       "2               JANDIRA            SP          BRASIL  ...   \n",
       "3               CACERES            MT          BRASIL  ...   \n",
       "4              BRASILIA            DF          BRASIL  ...   \n",
       "\n",
       "                    ESCOLARIDADE VINCULACAO_ANO      DISPENSA  \\\n",
       "0          Ensino Médio Completo           2022  Com dispensa   \n",
       "1    7° Ano - Ensino Fundamental           2022  Com dispensa   \n",
       "2          Ensino Médio Completo           2022  Com dispensa   \n",
       "3          3° Ano - Ensino Médio           2022  Com dispensa   \n",
       "4  2° Semestre - Ensino Superior           2022  Com dispensa   \n",
       "\n",
       "   ZONA_RESIDENCIAL MUN_RESIDENCIA UF_RESIDENCIA PAIS_RESIDENCIA  \\\n",
       "0            Urbana         CANOAS            RS          BRASIL   \n",
       "1            Urbana         ITAJAI            SC          BRASIL   \n",
       "2            Urbana    SERTAOZINHO            SP          BRASIL   \n",
       "3            Urbana        CACERES            MT          BRASIL   \n",
       "4             Rural       BRASILIA            DF          BRASIL   \n",
       "\n",
       "                            JSM               MUN_JSM UF_JSM  \n",
       "0  10/52 - PALMEIRA DAS MISSOES  PALMEIRA DAS MISSOES     RS  \n",
       "1                16/28 - ITAJAI                ITAJAI     SC  \n",
       "2           5/123 - SERTAOZINHO           SERTAOZINHO     SP  \n",
       "3               30/24 - CACERES               CACERES     MT  \n",
       "4  7/331 - BRASILIA (SAMAMBAIA)              BRASILIA     DF  \n",
       "\n",
       "[5 rows x 22 columns]"
      ]
     },
     "execution_count": 4,
     "metadata": {},
     "output_type": "execute_result"
    }
   ],
   "source": [
    "df.head()"
   ]
  },
  {
   "cell_type": "code",
   "execution_count": 5,
   "id": "f1138dff",
   "metadata": {},
   "outputs": [
    {
     "data": {
      "text/plain": [
       "<Axes: >"
      ]
     },
     "execution_count": 5,
     "metadata": {},
     "output_type": "execute_result"
    },
    {
     "data": {
      "image/png": "[encoded data removed]",
      "text/plain": [
       "<Figure size 640x480 with 1 Axes>"
      ]
     },
     "metadata": {},
     "output_type": "display_data"
    }
   ],
   "source": [
    "df[['ALTURA']].boxplot()"
   ]
  },
  {
   "cell_type": "code",
   "execution_count": 6,
   "id": "459c47c0",
   "metadata": {},
   "outputs": [
    {
     "data": {
      "text/plain": [
       "0    175.0\n",
       "Name: ALTURA, dtype: float64"
      ]
     },
     "execution_count": 6,
     "metadata": {},
     "output_type": "execute_result"
    }
   ],
   "source": [
    "df['ALTURA'].mode()"
   ]
  },
  {
   "cell_type": "code",
   "execution_count": 7,
   "id": "eca40109",
   "metadata": {
    "scrolled": true
   },
   "outputs": [
    {
     "data": {
      "text/plain": [
       "ANO_NASCIMENTO    2003.637471\n",
       "PESO                70.131373\n",
       "ALTURA             174.417648\n",
       "CALCADO             40.959570\n",
       "CINTURA             77.289827\n",
       "dtype: float64"
      ]
     },
     "execution_count": 7,
     "metadata": {},
     "output_type": "execute_result"
    }
   ],
   "source": [
    "df[['ANO_NASCIMENTO', 'PESO', 'ALTURA', 'CALCADO', 'CINTURA']].mean()"
   ]
  },
  {
   "cell_type": "code",
   "execution_count": 8,
   "id": "fdab446e",
   "metadata": {},
   "outputs": [],
   "source": [
    "df.dropna(subset = ['PESO', 'ALTURA', 'CABECA', 'CALCADO', 'CINTURA'], inplace = True)"
   ]
  },
  {
   "cell_type": "code",
   "execution_count": 9,
   "metadata": {},
   "outputs": [
    {
     "data": {
      "text/plain": [
       "Index(['ANO_NASCIMENTO', 'PESO', 'ALTURA', 'CABECA', 'CALCADO', 'CINTURA',\n",
       "       'MUN_NASCIMENTO', 'UF_NASCIMENTO', 'PAIS_NASCIMENTO', 'ESTADO_CIVIL',\n",
       "       'SEXO', 'ESCOLARIDADE', 'VINCULACAO_ANO', 'DISPENSA',\n",
       "       'ZONA_RESIDENCIAL', 'MUN_RESIDENCIA', 'UF_RESIDENCIA',\n",
       "       'PAIS_RESIDENCIA', 'JSM', 'MUN_JSM', 'UF_JSM'],\n",
       "      dtype='object')"
      ]
     },
     "execution_count": 9,
     "metadata": {},
     "output_type": "execute_result"
    }
   ],
   "source": [
    "#Alterando a coluna de Id\n",
    "df.set_index('Unnamed: 0', inplace=True)\n",
    "df.columns"
   ]
  },
  {
   "cell_type": "code",
   "execution_count": 10,
   "metadata": {},
   "outputs": [],
   "source": [
    "#Criando uma coluna com a idade dos alistados no ano que se alistaram \n",
    "df['Idade_alistado'] = df['VINCULACAO_ANO'] - df['ANO_NASCIMENTO'] \n"
   ]
  },
  {
   "cell_type": "code",
   "execution_count": 11,
   "metadata": {},
   "outputs": [
    {
     "data": {
      "text/html": [
       "<div>\n",
       "<style scoped>\n",
       "    .dataframe tbody tr th:only-of-type {\n",
       "        vertical-align: middle;\n",
       "    }\n",
       "\n",
       "    .dataframe tbody tr th {\n",
       "        vertical-align: top;\n",
       "    }\n",
       "\n",
       "    .dataframe thead th {\n",
       "        text-align: right;\n",
       "    }\n",
       "</style>\n",
       "<table border=\"1\" class=\"dataframe\">\n",
       "  <thead>\n",
       "    <tr style=\"text-align: right;\">\n",
       "      <th></th>\n",
       "      <th>MUN_NASCIMENTO</th>\n",
       "      <th>Idade_alistado</th>\n",
       "    </tr>\n",
       "    <tr>\n",
       "      <th>Unnamed: 0</th>\n",
       "      <th></th>\n",
       "      <th></th>\n",
       "    </tr>\n",
       "  </thead>\n",
       "  <tbody>\n",
       "    <tr>\n",
       "      <th>1</th>\n",
       "      <td>PALMEIRA DAS MISSOES</td>\n",
       "      <td>27</td>\n",
       "    </tr>\n",
       "    <tr>\n",
       "      <th>2</th>\n",
       "      <td>PORTO ALEGRE</td>\n",
       "      <td>48</td>\n",
       "    </tr>\n",
       "    <tr>\n",
       "      <th>21</th>\n",
       "      <td>SAO PAULO</td>\n",
       "      <td>25</td>\n",
       "    </tr>\n",
       "    <tr>\n",
       "      <th>26</th>\n",
       "      <td>SANTANA</td>\n",
       "      <td>25</td>\n",
       "    </tr>\n",
       "    <tr>\n",
       "      <th>62</th>\n",
       "      <td>MANACAPURU</td>\n",
       "      <td>27</td>\n",
       "    </tr>\n",
       "    <tr>\n",
       "      <th>...</th>\n",
       "      <td>...</td>\n",
       "      <td>...</td>\n",
       "    </tr>\n",
       "    <tr>\n",
       "      <th>299528</th>\n",
       "      <td>TEOFILO OTONI</td>\n",
       "      <td>26</td>\n",
       "    </tr>\n",
       "    <tr>\n",
       "      <th>300641</th>\n",
       "      <td>GUACUI</td>\n",
       "      <td>26</td>\n",
       "    </tr>\n",
       "    <tr>\n",
       "      <th>300736</th>\n",
       "      <td>LIMOEIRO</td>\n",
       "      <td>25</td>\n",
       "    </tr>\n",
       "    <tr>\n",
       "      <th>301077</th>\n",
       "      <td>RIO BRANCO</td>\n",
       "      <td>25</td>\n",
       "    </tr>\n",
       "    <tr>\n",
       "      <th>301096</th>\n",
       "      <td>ITABUNA</td>\n",
       "      <td>27</td>\n",
       "    </tr>\n",
       "  </tbody>\n",
       "</table>\n",
       "<p>509 rows × 2 columns</p>\n",
       "</div>"
      ],
      "text/plain": [
       "                  MUN_NASCIMENTO  Idade_alistado\n",
       "Unnamed: 0                                      \n",
       "1           PALMEIRA DAS MISSOES              27\n",
       "2                   PORTO ALEGRE              48\n",
       "21                     SAO PAULO              25\n",
       "26                       SANTANA              25\n",
       "62                    MANACAPURU              27\n",
       "...                          ...             ...\n",
       "299528             TEOFILO OTONI              26\n",
       "300641                    GUACUI              26\n",
       "300736                  LIMOEIRO              25\n",
       "301077                RIO BRANCO              25\n",
       "301096                   ITABUNA              27\n",
       "\n",
       "[509 rows x 2 columns]"
      ]
     },
     "execution_count": 11,
     "metadata": {},
     "output_type": "execute_result"
    }
   ],
   "source": [
    "#Conferindo alistados acima de 25 anos\n",
    "alistados_25 = df.loc[df['Idade_alistado'] >= 25, ['MUN_NASCIMENTO','Idade_alistado']]\n",
    "alistados_25"
   ]
  },
  {
   "cell_type": "code",
   "execution_count": 12,
   "metadata": {},
   "outputs": [
    {
     "data": {
      "text/plain": [
       "18.362528828834815"
      ]
     },
     "execution_count": 12,
     "metadata": {},
     "output_type": "execute_result"
    }
   ],
   "source": [
    "#Media da idade de alistamento\n",
    "df['Idade_alistado'].mean()"
   ]
  },
  {
   "cell_type": "code",
   "execution_count": 13,
   "metadata": {},
   "outputs": [
    {
     "data": {
      "text/html": [
       "<div>\n",
       "<style scoped>\n",
       "    .dataframe tbody tr th:only-of-type {\n",
       "        vertical-align: middle;\n",
       "    }\n",
       "\n",
       "    .dataframe tbody tr th {\n",
       "        vertical-align: top;\n",
       "    }\n",
       "\n",
       "    .dataframe thead th {\n",
       "        text-align: right;\n",
       "    }\n",
       "</style>\n",
       "<table border=\"1\" class=\"dataframe\">\n",
       "  <thead>\n",
       "    <tr style=\"text-align: right;\">\n",
       "      <th></th>\n",
       "      <th>ANO_NASCIMENTO</th>\n",
       "      <th>PESO</th>\n",
       "      <th>ALTURA</th>\n",
       "      <th>CABECA</th>\n",
       "      <th>CALCADO</th>\n",
       "      <th>CINTURA</th>\n",
       "      <th>VINCULACAO_ANO</th>\n",
       "      <th>Idade_alistado</th>\n",
       "    </tr>\n",
       "  </thead>\n",
       "  <tbody>\n",
       "    <tr>\n",
       "      <th>count</th>\n",
       "      <td>300914.000000</td>\n",
       "      <td>300914.000000</td>\n",
       "      <td>300914.000000</td>\n",
       "      <td>300914.000000</td>\n",
       "      <td>300914.000000</td>\n",
       "      <td>300914.000000</td>\n",
       "      <td>300914.0</td>\n",
       "      <td>300914.000000</td>\n",
       "    </tr>\n",
       "    <tr>\n",
       "      <th>mean</th>\n",
       "      <td>2003.637471</td>\n",
       "      <td>70.131373</td>\n",
       "      <td>174.417648</td>\n",
       "      <td>56.456689</td>\n",
       "      <td>40.959570</td>\n",
       "      <td>77.289827</td>\n",
       "      <td>2022.0</td>\n",
       "      <td>18.362529</td>\n",
       "    </tr>\n",
       "    <tr>\n",
       "      <th>std</th>\n",
       "      <td>0.866453</td>\n",
       "      <td>14.834385</td>\n",
       "      <td>8.987376</td>\n",
       "      <td>3.591626</td>\n",
       "      <td>2.336608</td>\n",
       "      <td>13.225223</td>\n",
       "      <td>0.0</td>\n",
       "      <td>0.866453</td>\n",
       "    </tr>\n",
       "    <tr>\n",
       "      <th>min</th>\n",
       "      <td>1925.000000</td>\n",
       "      <td>30.000000</td>\n",
       "      <td>120.000000</td>\n",
       "      <td>41.000000</td>\n",
       "      <td>30.000000</td>\n",
       "      <td>50.000000</td>\n",
       "      <td>2022.0</td>\n",
       "      <td>16.000000</td>\n",
       "    </tr>\n",
       "    <tr>\n",
       "      <th>25%</th>\n",
       "      <td>2004.000000</td>\n",
       "      <td>60.000000</td>\n",
       "      <td>170.000000</td>\n",
       "      <td>56.000000</td>\n",
       "      <td>40.000000</td>\n",
       "      <td>71.000000</td>\n",
       "      <td>2022.0</td>\n",
       "      <td>18.000000</td>\n",
       "    </tr>\n",
       "    <tr>\n",
       "      <th>50%</th>\n",
       "      <td>2004.000000</td>\n",
       "      <td>67.000000</td>\n",
       "      <td>175.000000</td>\n",
       "      <td>57.000000</td>\n",
       "      <td>41.000000</td>\n",
       "      <td>78.000000</td>\n",
       "      <td>2022.0</td>\n",
       "      <td>18.000000</td>\n",
       "    </tr>\n",
       "    <tr>\n",
       "      <th>75%</th>\n",
       "      <td>2004.000000</td>\n",
       "      <td>77.000000</td>\n",
       "      <td>180.000000</td>\n",
       "      <td>58.000000</td>\n",
       "      <td>42.000000</td>\n",
       "      <td>85.000000</td>\n",
       "      <td>2022.0</td>\n",
       "      <td>18.000000</td>\n",
       "    </tr>\n",
       "    <tr>\n",
       "      <th>max</th>\n",
       "      <td>2006.000000</td>\n",
       "      <td>200.000000</td>\n",
       "      <td>250.000000</td>\n",
       "      <td>79.000000</td>\n",
       "      <td>50.000000</td>\n",
       "      <td>180.000000</td>\n",
       "      <td>2022.0</td>\n",
       "      <td>97.000000</td>\n",
       "    </tr>\n",
       "  </tbody>\n",
       "</table>\n",
       "</div>"
      ],
      "text/plain": [
       "       ANO_NASCIMENTO           PESO         ALTURA         CABECA  \\\n",
       "count   300914.000000  300914.000000  300914.000000  300914.000000   \n",
       "mean      2003.637471      70.131373     174.417648      56.456689   \n",
       "std          0.866453      14.834385       8.987376       3.591626   \n",
       "min       1925.000000      30.000000     120.000000      41.000000   \n",
       "25%       2004.000000      60.000000     170.000000      56.000000   \n",
       "50%       2004.000000      67.000000     175.000000      57.000000   \n",
       "75%       2004.000000      77.000000     180.000000      58.000000   \n",
       "max       2006.000000     200.000000     250.000000      79.000000   \n",
       "\n",
       "             CALCADO        CINTURA  VINCULACAO_ANO  Idade_alistado  \n",
       "count  300914.000000  300914.000000        300914.0   300914.000000  \n",
       "mean       40.959570      77.289827          2022.0       18.362529  \n",
       "std         2.336608      13.225223             0.0        0.866453  \n",
       "min        30.000000      50.000000          2022.0       16.000000  \n",
       "25%        40.000000      71.000000          2022.0       18.000000  \n",
       "50%        41.000000      78.000000          2022.0       18.000000  \n",
       "75%        42.000000      85.000000          2022.0       18.000000  \n",
       "max        50.000000     180.000000          2022.0       97.000000  "
      ]
     },
     "execution_count": 13,
     "metadata": {},
     "output_type": "execute_result"
    }
   ],
   "source": [
    "df.describe()"
   ]
  },
  {
   "cell_type": "code",
   "execution_count": 14,
   "metadata": {},
   "outputs": [
    {
     "data": {
      "text/plain": [
       "Unnamed: 0\n",
       "1         Com dispensa\n",
       "2         Com dispensa\n",
       "3         Com dispensa\n",
       "4         Com dispensa\n",
       "5         Com dispensa\n",
       "              ...     \n",
       "301458    Com dispensa\n",
       "301459    Com dispensa\n",
       "301460    Com dispensa\n",
       "301461    Com dispensa\n",
       "301462    Com dispensa\n",
       "Name: DISPENSA, Length: 300914, dtype: object"
      ]
     },
     "execution_count": 14,
     "metadata": {},
     "output_type": "execute_result"
    }
   ],
   "source": [
    "df['DISPENSA']"
   ]
  },
  {
   "cell_type": "code",
   "execution_count": null,
   "metadata": {},
   "outputs": [],
   "source": []
  }
 ],
 "metadata": {
  "kernelspec": {
   "display_name": "Anaconda (base)",
   "language": "python",
   "name": "anaconda-base"
  },
  "language_info": {
   "codemirror_mode": {
    "name": "ipython",
    "version": 3
   },
   "file_extension": ".py",
   "mimetype": "text/x-python",
   "name": "python",
   "nbconvert_exporter": "python",
   "pygments_lexer": "ipython3",
   "version": "3.11.5"
  }
 },
 "nbformat": 4,
 "nbformat_minor": 5
}
